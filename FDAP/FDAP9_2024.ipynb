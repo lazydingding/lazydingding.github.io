{
 "cells": [
  {
   "cell_type": "markdown",
   "id": "4511df5d",
   "metadata": {},
   "source": [
    "# Lecture 9. Text Processing\n",
    "\n",
    "### Instructor: Luping Yu\n",
    "\n",
    "### May 28, 2024\n",
    "\n",
    "***\n",
    "## I. Regular Expression (RE)\n",
    "\n",
    "It is mainly used for searching and manipulating text strings. In simple words, you can easily search the pattern and replace them with the matching pattern with the help of regular expression.\n",
    "\n",
    "This concept or tool is used in almost all the programming or scripting languages such as PHP, C, C++, Java, Perl, JavaScript, Python, Ruby, and many others.\n",
    "\n",
    "***\n",
    "### RE Basics\n",
    "\n",
    "In regular expressions, if a character is directly specified, it represents an exact match. <code>\\d</code> can match a digit, and <code>\\w</code> can match a letter or digit, <code>.</code> can match any character.\n",
    "* <code>'00\\\\d'</code> can match <code>'007'</code> but not <code>'00A'</code>\n",
    "* <code>'\\\\d\\\\d\\\\d'</code> can match <code>'010'</code>\n",
    "* <code>'\\\\w\\\\w\\\\d'</code> can match <code>'py3'</code>\n",
    "* <code>'py.'</code> can match <code>'pyc'</code>, <code>'pyo'</code>, <code>'py!'</code>, and so on\n",
    "\n",
    "To match complicated strings, we use certain symbols within a regular expression. <code>*</code> represents any number of characters (including zero), <code>+</code> represents at least one character, <code>?</code> represents zero or one character, <code>{n}</code> represents exactly n characters, and <code>{n,m}</code> represents a range of n to m characters.\n",
    "\n",
    "Let's look at a complex example: <code>\\d{3,4}\\s+\\d{3,8}</code>. Let's break it down from left to right:\n",
    "* <code>\\d{3}</code> matches three digits, for example, <code>'010'</code>\n",
    "* <code>\\s</code> can match a whitespace character (including tabs and other whitespace characters), so <code>\\\\s+</code> represents at least one whitespace character, for example, matching <code>' '</code>, <code>'&nbsp;&nbsp;'</code>, and so on\n",
    "* <code>\\d{3,8}</code> matches 3 to 8 digits, for example, <code>'1234567'</code>\n",
    "\n",
    "Putting it all together, the above regular expression can match phone numbers with an area code separated by any number of spaces.\n",
    "\n",
    "But what if we want to match a number like <code>'010-12345'</code>? Since <code>'-'</code> is a special character, we need to **escape** it with a backslash in the regular expression, so it becomes <code>'\\d{3}\\\\-\\d{3,8}'</code>."
   ]
  },
  {
   "cell_type": "markdown",
   "id": "9a2798dc",
   "metadata": {},
   "source": [
    "\n",
    "***\n",
    "### RE Advanced\n",
    "\n",
    "To perform more precise matching, we can use <code>[]</code> to represent a range. For example:\n",
    "* <code>[0-9a-zA-Z]</code> can match a digit or letter;\n",
    "* <code>[0-9a-zA-Z_]+</code> can match a string consisting of at least one digit, letter, or underscore, such as 'a100', '0_Z', 'Py3000', and so on;\n",
    "* <code>[a-zA-Z][0-9a-zA-Z_]*</code> can match a string that starts with a letter, followed by any number of digits, letters, or underscores. This represents a valid Python variable;\n",
    "* <code>[a-zA-Z][0-9a-zA-Z_]{0,19}</code> further restricts the variable's length to be 1-20 characters (first character + up to 19 additional characters).\n",
    "* <code>A|B</code> can match A or B, so <code>(P|p)ython</code> can match <code>'Python'</code> or <code>'python'</code>.\n",
    "* <code>^</code> represents the beginning of a line, <code>^\\d</code> means it must start with a digit.\n",
    "* <code>\\$</code> represents the end of a line, <code>\\d$</code> means it must end with a digit.\n",
    "\n",
    "***\n",
    "\n",
    "### Regular Expression in Python\n",
    "\n",
    "Python has a built-in package called <code>re</code>, which can be used to work with Regular Expressions."
   ]
  },
  {
   "cell_type": "code",
   "execution_count": 1,
   "id": "9a365647",
   "metadata": {},
   "outputs": [],
   "source": [
    "import re"
   ]
  },
  {
   "cell_type": "markdown",
   "id": "44f866f3",
   "metadata": {},
   "source": [
    "The <code>re</code> module functions fall into three categories: pattern **matching**, **substitution**, and **splitting**. Let’s look at a simple example:"
   ]
  },
  {
   "cell_type": "code",
   "execution_count": 2,
   "id": "e94cb59b",
   "metadata": {},
   "outputs": [
    {
     "data": {
      "text/plain": [
       "['a', 'b', '', 'c', '', '', '', '', '', 'd', '\\t', 'e', '\\n', 'd']"
      ]
     },
     "execution_count": 2,
     "metadata": {},
     "output_type": "execute_result"
    }
   ],
   "source": [
    "text = 'a b  c      d \\t e \\n d'\n",
    "\n",
    "text.split(' ')"
   ]
  },
  {
   "cell_type": "markdown",
   "id": "1318f27f",
   "metadata": {},
   "source": [
    "Suppose we wanted to split a string with a variable number of whitespace characters (tabs, spaces, and newlines). The regex describing one or more whitespace characters is <code>\\s+</code>:"
   ]
  },
  {
   "cell_type": "code",
   "execution_count": 3,
   "id": "fcfadb3e",
   "metadata": {
    "scrolled": true
   },
   "outputs": [
    {
     "data": {
      "text/plain": [
       "[' ', '  ', '      ', ' \\t ', ' \\n ']"
      ]
     },
     "execution_count": 3,
     "metadata": {},
     "output_type": "execute_result"
    }
   ],
   "source": [
    "re.findall('\\s+', text)"
   ]
  },
  {
   "cell_type": "markdown",
   "id": "db6cfcb6",
   "metadata": {},
   "source": [
    "When you call <code>re.split('\\s+', text)</code>, the regular expression is first **compiled**, and then its split method is called on the passed text.\n",
    "\n",
    "You can compile the regex yourself with <code>re.compile</code>, forming a reusable regex object:"
   ]
  },
  {
   "cell_type": "code",
   "execution_count": 4,
   "id": "e193f7cf",
   "metadata": {},
   "outputs": [
    {
     "data": {
      "text/plain": [
       "['a', 'b', 'c', 'd', 'e', 'd']"
      ]
     },
     "execution_count": 4,
     "metadata": {},
     "output_type": "execute_result"
    }
   ],
   "source": [
    "re.split('\\s+', text)"
   ]
  },
  {
   "cell_type": "code",
   "execution_count": 5,
   "id": "4d76fc27",
   "metadata": {},
   "outputs": [
    {
     "data": {
      "text/plain": [
       "['a', 'b', 'c', 'd', 'e', 'd']"
      ]
     },
     "execution_count": 5,
     "metadata": {},
     "output_type": "execute_result"
    }
   ],
   "source": [
    "regex = re.compile('\\s+')\n",
    "\n",
    "regex.split(text)"
   ]
  },
  {
   "cell_type": "markdown",
   "id": "ad62f207",
   "metadata": {},
   "source": [
    "If, instead, you wanted to get a list of all patterns matching the regex, you can use the <code>findall</code> method:"
   ]
  },
  {
   "cell_type": "code",
   "execution_count": 6,
   "id": "2283a6c8",
   "metadata": {},
   "outputs": [
    {
     "data": {
      "text/plain": [
       "[' ', '  ', '      ', ' \\t ', ' \\n ']"
      ]
     },
     "execution_count": 6,
     "metadata": {},
     "output_type": "execute_result"
    }
   ],
   "source": [
    "regex.findall(text)"
   ]
  },
  {
   "cell_type": "markdown",
   "id": "2c604b4e",
   "metadata": {},
   "source": [
    "**IMPORTANT**: To avoid unwanted escaping with <code>\\\\</code> in a regular expression, use **raw string literals** like <code>r'C:\\x'</code> instead of the equivalent <code>'C:\\\\\\x'</code>.\n",
    "\n",
    "Let's consider a block of text and a regular expression capable of identifying most email addresses:"
   ]
  },
  {
   "cell_type": "code",
   "execution_count": 7,
   "id": "94d716a6",
   "metadata": {},
   "outputs": [
    {
     "data": {
      "text/plain": [
       "'Dave dave@google.com XMU\\nSteve steve@gmail.com XMU SCHOOL OF MANAGEMENT\\ngyiuigiugigiuigu\\nRob XXX rob@gmail.com\\nRyan Alice ryan@yahoo.com PKU\\n'"
      ]
     },
     "execution_count": 7,
     "metadata": {},
     "output_type": "execute_result"
    }
   ],
   "source": [
    "text = '''Dave dave@google.com XMU\n",
    "Steve steve@gmail.com XMU SCHOOL OF MANAGEMENT\n",
    "gyiuigiugigiuigu\n",
    "Rob XXX rob@gmail.com\n",
    "Ryan Alice ryan@yahoo.com PKU\n",
    "'''\n",
    "\n",
    "text"
   ]
  },
  {
   "cell_type": "code",
   "execution_count": 8,
   "id": "19ec46b7",
   "metadata": {},
   "outputs": [
    {
     "data": {
      "text/plain": [
       "['dave@google.com', 'steve@gmail.com', 'rob@gmail.com', 'ryan@yahoo.com']"
      ]
     },
     "execution_count": 8,
     "metadata": {},
     "output_type": "execute_result"
    }
   ],
   "source": [
    "pattern = r'[a-z0-9]+@[a-z0-9]+.[a-z]{3}'\n",
    "\n",
    "regex = re.compile(pattern)\n",
    "\n",
    "regex.findall(text)"
   ]
  },
  {
   "cell_type": "markdown",
   "id": "07edbf2c",
   "metadata": {},
   "source": [
    "Relatedly, <code>sub</code> will return a new string with occurrences of the pattern replaced by the a new string:"
   ]
  },
  {
   "cell_type": "code",
   "execution_count": 9,
   "id": "23cae420",
   "metadata": {},
   "outputs": [
    {
     "name": "stdout",
     "output_type": "stream",
     "text": [
      "Dave REDACTED XMU\n",
      "Steve REDACTED XMU SCHOOL OF MANAGEMENT\n",
      "gyiuigiugigiuigu\n",
      "Rob XXX REDACTED\n",
      "Ryan Alice REDACTED PKU\n",
      "\n"
     ]
    }
   ],
   "source": [
    "print(regex.sub('REDACTED', text))"
   ]
  },
  {
   "cell_type": "markdown",
   "id": "57153b21",
   "metadata": {},
   "source": [
    "Suppose you wanted to find email addresses and simultaneously segment each address into its three components: username, domain name, and domain suffix. To do this, put <code>( )</code> around the parts of the pattern to segment:"
   ]
  },
  {
   "cell_type": "code",
   "execution_count": 10,
   "id": "044338ca",
   "metadata": {
    "scrolled": true
   },
   "outputs": [
    {
     "data": {
      "text/plain": [
       "[('dave', 'google', 'com'),\n",
       " ('steve', 'gmail', 'com'),\n",
       " ('rob', 'gmail', 'com'),\n",
       " ('ryan', 'yahoo', 'com')]"
      ]
     },
     "execution_count": 10,
     "metadata": {},
     "output_type": "execute_result"
    }
   ],
   "source": [
    "pattern = r'([a-z0-9]+)@([a-z0-9]+).([a-z]{3})'\n",
    "\n",
    "regex = re.compile(pattern)\n",
    "\n",
    "regex.findall(text)"
   ]
  },
  {
   "cell_type": "markdown",
   "id": "a328d7cc",
   "metadata": {},
   "source": [
    "***\n",
    "### Regular Expression Characters\n",
    "\n",
    "There are following different type of characters of a regular expression:\n",
    "\n",
    "* Metacharacters\n",
    "* Quantifier\n",
    "* Groups and Ranges\n",
    "* Escape Characters or character classes\n",
    "\n",
    "***\n",
    "#### Metacharacters\n",
    "\n",
    "|Metacharacters | Description | Example |\n",
    "|:- | :- | :- |\n",
    "|^|This character is used to match an expression to its right at the start of a string.|^a is an expression match to the string which starts with 'a' such as \"aab\", \"a9c\", \"apr\", \"aaaaab\", etc.\n",
    "|\\$|The $sign is used to match an expression to its left at the end of a string.|r\\$ is an expression match to a string which ends with r such as \"aaabr\", \"ar\", \"r\", \"aannn9r\", etc.\n",
    "|.|This character is used to match any single character in a string except the line terminator, i.e. /n.|b.x is an expression that match strings such as \"bax\", \"b9x\", \"bar\".\n",
    "|\\||It is used to match a particular character or a group of characters on either side. If the character on the left side is matched, then the right side's character is ignored.|A\\|b is an expression which gives various strings, but each string contains either a or b.\n",
    "|A|It is used to match the character 'A' in the string.|This expression matches those strings in which at least one-time A is present. Such strings are \"Amcx\", \"mnAr\", \"mnopAx4\".\n",
    "|Ab|It is used to match the substring 'ab' in the string.|This expression matches those strings in which 'Ab' is present at least one time. Such strings are \"Abcx\", \"mnAb\", \"mnopAbx4\".\n",
    "\n",
    "***\n",
    "#### Quantifiers\n",
    "\n",
    "The quantifiers are used in the regular expression for specifying the number of occurrences of a character.\n",
    "\n",
    "|Characters | Description | Example |\n",
    "|:- | :- | :- |\n",
    "|+|This character specifies an expression to its left for one or more times.|s+ is an expression which gives \"s\", \"ss\", \"sss\", and so on.\n",
    "|?|This character specifies an expression to its left for 0 (Zero) or 1 (one)times.|as? is an expression which gives either \"a\" or \"as\", but not \"ass\".\n",
    "|*|This character specifies an expression to its left for 0 or more times|Br* is an expression which gives \"B\", \"Br\", \"Brr\", \"Brrr\", and so on…\n",
    "|{x}|It specifies an expression to its left for only x times.|Mab{5} is an expression which gives the following string which contains 5 b's: \"Mabbbbb\"\n",
    "|{x, }|It specifies an expression to its left for x or more times.|Xb{3, } is an expression which gives various strings containing at least 3 b's. Such strings are \"Xbbb\", \"Xbbbb\", and so on.\n",
    "|{x,y}|It specifies an expression to its left, at least x times but less than y times.|Pr{3,6}a is an expression which provides two strings. Both strings are as follows:\"Prrrr\" and \"Prrrrr\"\n",
    "\n",
    "***\n",
    "#### Groups and Ranges\n",
    "\n",
    "The groups and ranges in the regular expression define the collection of characters enclosed in the brackets.\n",
    "\n",
    "|Characters | Description | Example |\n",
    "|:- | :- | :- |\n",
    "|(  )|It is used to match everything which is in the simple bracket.|A(xy) is an expression which matches with the following string: \"Axy\"\n",
    "|{   }|It is used to match a particular number of occurrences defined in the curly bracket for its left string.|xz{4,6} is an expression which matches with the following string: \"xzzzzz\"\n",
    "|[    ]|It is used to match any character from a range of characters defined in the square bracket.|xz[atp]r is an expression which matches with the following strings: \"xzar\", \"xztr\", and \"xzpr\"\n",
    "|[pqr]|It matches p, q, or r individually.|Following strings are matched with this expression: \"p\", \"q\", and \"r\".\n",
    "|[pqr][xy]|It matches p, q, or r, followed by either x or y.|Following strings are matched with this expression: \"px\", \"qx\", and \"rx\", \"py\", \"qy\", and \"ry\".\n",
    "|[a-z]|It matches letters of a small case from a to z.|This expression matches the strings such as: \"a\", \"python\", \"good\".\n",
    "|[A-Z]|It matches letters of an upper case from A to Z.|This expression matches the strings such as: \"EXCELLENT\", \"NATURE\".\n",
    "|[0-9]|It matches a digit from 0 to 9.|This expression matches the strings such as: \"9845\", \"54455\"\n",
    "|^[a-zA-Z]|It is used to match the string, which is either starts with a small case or upper-case letter.|This expression matches the strings such as: \"A854xb\", \"pv4fv\", \"cdux\".\n",
    "|ab[^4-9]|It matches those digits or characters which are not defined in the square bracket.|This expression matches those strings which do not contain 5, 6, 7, and 8.\n",
    "\n",
    "***\n",
    "\n",
    "#### Escape Characters or Character Classes\n",
    "\n",
    "|Characters | Description |\n",
    "|:- | :- |\n",
    "|\\s|It is used to match a one white space character.\n",
    "|\\0|It is used to match a NULL character.\n",
    "|\\n|It helps a user to match a new line.\n",
    "|\\d|It is used to match one decimal digit, which means from 0 to 9.\n",
    "|\\D|It is used to match any non-decimal digit.\n",
    "|\\w|It is used to match the alphanumeric [0-9a-zA-Z] characters.\n",
    "|\\W|It is used to match one non-word character\n",
    "\n",
    "\n",
    "***\n",
    "### Interactive Exercises\n",
    "https://regexone.com/\n",
    "\n",
    "***\n",
    "## II. Fuzzy Match\n",
    "\n",
    "String matching can be useful for a variety of situations, for example, joining two tables by an firm's name when it is spelled or punctuated differently in both tables. <code>FuzzyWuzzy</code> uses a some similarity ratio between two sequences and returns the **similarity percentage**.\n",
    "\n",
    "***\n",
    "### Edits and edit distance\n",
    "\n",
    "The fuzzy string matching algorithm seeks to determine the degree of closeness between two different strings. This is discovered using a distance metric known as the \"edit distance\". The edit distance determines how close two strings are by finding the minimum number of \"edits\" required to transform one string to another. \n",
    "\n",
    "There are four main types of edits:\n",
    "\n",
    "* Insert (add a letter)\n",
    "* Delete (remove a letter)\n",
    "* Switch (swap two adjacent letters)\n",
    "* Replace (change one letter to another)\n",
    "\n",
    "<code>FuzzyWuzzy</code> uses edit distance (aka. **Levenshtein** distance)  to calculate the degree of closeness between two strings.\n",
    "\n",
    "***\n",
    "### Simple Fuzzy String Matching\n",
    "\n",
    "The library can be installed by using pip:"
   ]
  },
  {
   "cell_type": "code",
   "execution_count": null,
   "id": "d950f8a4-988b-4188-9156-8bed685ae5aa",
   "metadata": {},
   "outputs": [],
   "source": [
    "pip install fuzzywuzzy\n",
    "pip install python-Levenshtein"
   ]
  },
  {
   "cell_type": "code",
   "execution_count": 11,
   "id": "7238ea79",
   "metadata": {},
   "outputs": [],
   "source": [
    "from fuzzywuzzy import fuzz"
   ]
  },
  {
   "cell_type": "markdown",
   "id": "83e34d85",
   "metadata": {},
   "source": [
    "***\n",
    "#### Simple Ratio\n",
    "\n",
    "When you have a very simple set of strings which look almost similar with their words, you can use the simple ratio from the <code>FuzzyWuzzy</code> package."
   ]
  },
  {
   "cell_type": "code",
   "execution_count": 12,
   "id": "fea36893",
   "metadata": {},
   "outputs": [
    {
     "data": {
      "text/plain": [
       "24"
      ]
     },
     "execution_count": 12,
     "metadata": {},
     "output_type": "execute_result"
    }
   ],
   "source": [
    "str1 = 'Xiamen UNIVERSITY'\n",
    "str2 = 'Peking University'\n",
    "\n",
    "fuzz.ratio(str1, str2)"
   ]
  },
  {
   "cell_type": "markdown",
   "id": "08f9509c",
   "metadata": {},
   "source": [
    "As seen in the above code, the first string matches to the second one with 24%. This ratio uses a simple technique which involves calculating the edit distance between two strings.\n",
    "\n",
    "For an instance, it recognizes missing punctuations, case-sensitive words, misspelled words etc."
   ]
  },
  {
   "cell_type": "code",
   "execution_count": 13,
   "id": "994cdc23",
   "metadata": {},
   "outputs": [
    {
     "data": {
      "text/plain": [
       "76"
      ]
     },
     "execution_count": 13,
     "metadata": {},
     "output_type": "execute_result"
    }
   ],
   "source": [
    "fuzz.ratio(str1.lower(), str2.lower())"
   ]
  },
  {
   "cell_type": "markdown",
   "id": "6f9b7ae4",
   "metadata": {},
   "source": [
    "The similarity ratio percentage here is 76%. We can say the first string has a similarity of 76% to the second string **when both are lowercase**."
   ]
  },
  {
   "cell_type": "markdown",
   "id": "1dc25a5b",
   "metadata": {},
   "source": [
    "***\n",
    "#### Partial Ratio\n",
    "\n",
    "FuzzyWuzzy also has more powerful functions to help with matching strings in more complex situations. <code>partial_ratio()</code> function allows us to perform **substring** matching. This works by taking the shortest string and matching it with all substrings that are of the same length.\n"
   ]
  },
  {
   "cell_type": "code",
   "execution_count": 14,
   "id": "0d90bc93",
   "metadata": {},
   "outputs": [
    {
     "data": {
      "text/plain": [
       "60"
      ]
     },
     "execution_count": 14,
     "metadata": {},
     "output_type": "execute_result"
    }
   ],
   "source": [
    "fuzz.ratio('Xiamen, Fujian', 'Xiamen')"
   ]
  },
  {
   "cell_type": "code",
   "execution_count": 15,
   "id": "5bb6d558",
   "metadata": {},
   "outputs": [
    {
     "data": {
      "text/plain": [
       "100"
      ]
     },
     "execution_count": 15,
     "metadata": {},
     "output_type": "execute_result"
    }
   ],
   "source": [
    "fuzz.partial_ratio('Xiamen, Fujian', 'Xiamen')"
   ]
  },
  {
   "cell_type": "markdown",
   "id": "c753aeec",
   "metadata": {},
   "source": [
    "Using the <code>partial_ratio()</code> function above, we get a similarity ratio of 100.\n",
    "\n",
    "When dealing with substrings, i.e., one short string being a part of some other long string, we use <code>partial_ratio()</code> function.\n",
    "\n",
    "The mechanism of this ratio deals with something known as **optimal partial logic**. For an instance, let the shorter string length be 'm' and the longer string length be 'n'. Then, partial ratio finds a best-matching sub-string of length 'm'.\n",
    "\n",
    "***\n",
    "#### Token Sort Ratio\n",
    "\n",
    "If we want to ignore the **ordering** of the words in the strings but still determine how similar they are - token sort helps you do exactly that."
   ]
  },
  {
   "cell_type": "code",
   "execution_count": 16,
   "id": "f4c449be",
   "metadata": {
    "scrolled": true
   },
   "outputs": [
    {
     "data": {
      "text/plain": [
       "91"
      ]
     },
     "execution_count": 16,
     "metadata": {},
     "output_type": "execute_result"
    }
   ],
   "source": [
    "fuzz.ratio(\"fuzzy wuzzy was a bear\", \"wuzzy fuzzy was a bear\")"
   ]
  },
  {
   "cell_type": "code",
   "execution_count": 17,
   "id": "945c35b7",
   "metadata": {},
   "outputs": [
    {
     "data": {
      "text/plain": [
       "100"
      ]
     },
     "execution_count": 17,
     "metadata": {},
     "output_type": "execute_result"
    }
   ],
   "source": [
    "fuzz.token_sort_ratio(\"fuzzy wuzzy was a bear\", \"wuzzy fuzzy was a bear\")"
   ]
  },
  {
   "cell_type": "markdown",
   "id": "6fa5c4a0",
   "metadata": {},
   "source": [
    "***\n",
    "#### Token Set Ratio\n",
    "\n",
    "When you don't care about the number of times a word in the string is **repeated**, then it is better to use the Token Set Ratio from the package. "
   ]
  },
  {
   "cell_type": "code",
   "execution_count": 18,
   "id": "b9e5b575",
   "metadata": {},
   "outputs": [
    {
     "data": {
      "text/plain": [
       "89"
      ]
     },
     "execution_count": 18,
     "metadata": {},
     "output_type": "execute_result"
    }
   ],
   "source": [
    "fuzz.token_sort_ratio(\"Xiamen University is the best\", \"Xiamen Xiamen University is the best\")"
   ]
  },
  {
   "cell_type": "code",
   "execution_count": 19,
   "id": "20f418f9",
   "metadata": {
    "scrolled": true
   },
   "outputs": [
    {
     "data": {
      "text/plain": [
       "100"
      ]
     },
     "execution_count": 19,
     "metadata": {},
     "output_type": "execute_result"
    }
   ],
   "source": [
    "fuzz.token_set_ratio(\"Xiamen University is the best\", \"Xiamen Xiamen University is the best\")"
   ]
  },
  {
   "cell_type": "markdown",
   "id": "0554e521-dcb1-4a37-a7e0-f3dab98e3d13",
   "metadata": {},
   "source": [
    "***\n",
    "## III. OpenAI API\n",
    "\n",
    "The OpenAI API provides a simple interface for developers to create an intelligence layer in their applications, powered by OpenAI's state of the art models.\n",
    "\n",
    "First, create an OpenAI account or sign in. Next, navigate to the <code>API key</code> page and \"Create new secret key\", optionally naming the key. Make sure to save this somewhere safe and **do not share it with anyone**.\n",
    "\n",
    "https://platform.openai.com/docs/quickstart"
   ]
  },
  {
   "cell_type": "code",
   "execution_count": null,
   "id": "db01ecae-8f5d-48e0-8a21-1f8637765356",
   "metadata": {},
   "outputs": [],
   "source": [
    "import openai\n",
    "import pandas as pd\n",
    "\n",
    "openai.api_key = ''\n",
    "\n",
    "question = ''\n",
    "\n",
    "completion = openai.ChatCompletion.create(model=\"gpt-3.5-turbo\", messages=[{\"role\": \"user\", \"content\": question}], temperature=0)\n",
    "        \n",
    "answer = str(completion.choices[0].message.content).strip()\n",
    "\n",
    "print(answer)"
   ]
  }
 ],
 "metadata": {
  "kernelspec": {
   "display_name": "Python 3 (ipykernel)",
   "language": "python",
   "name": "python3"
  },
  "language_info": {
   "codemirror_mode": {
    "name": "ipython",
    "version": 3
   },
   "file_extension": ".py",
   "mimetype": "text/x-python",
   "name": "python",
   "nbconvert_exporter": "python",
   "pygments_lexer": "ipython3",
   "version": "3.11.4"
  }
 },
 "nbformat": 4,
 "nbformat_minor": 5
}
