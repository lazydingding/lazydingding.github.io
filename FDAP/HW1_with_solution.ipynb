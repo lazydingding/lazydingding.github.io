{
 "cells": [
  {
   "cell_type": "markdown",
   "id": "71d36b06",
   "metadata": {},
   "source": [
    "### Homework 1: Getting and Knowing your Data\n",
    "\n"
   ]
  },
  {
   "cell_type": "markdown",
   "id": "a6b9f279",
   "metadata": {},
   "source": [
    "***\n",
    "* Step 1. Import the necessary libraries (tips: import pandas)"
   ]
  },
  {
   "cell_type": "code",
   "execution_count": 7,
   "id": "49a2a5db",
   "metadata": {},
   "outputs": [],
   "source": [
    "import pandas as pd"
   ]
  },
  {
   "cell_type": "markdown",
   "id": "e06e2cbf",
   "metadata": {},
   "source": [
    "***\n",
    "* Step 2. Import the dataset from <u>chipotle.csv</u>"
   ]
  },
  {
   "cell_type": "code",
   "execution_count": 8,
   "id": "683f038b",
   "metadata": {},
   "outputs": [
    {
     "data": {
      "text/html": [
       "<div>\n",
       "<style scoped>\n",
       "    .dataframe tbody tr th:only-of-type {\n",
       "        vertical-align: middle;\n",
       "    }\n",
       "\n",
       "    .dataframe tbody tr th {\n",
       "        vertical-align: top;\n",
       "    }\n",
       "\n",
       "    .dataframe thead th {\n",
       "        text-align: right;\n",
       "    }\n",
       "</style>\n",
       "<table border=\"1\" class=\"dataframe\">\n",
       "  <thead>\n",
       "    <tr style=\"text-align: right;\">\n",
       "      <th></th>\n",
       "      <th>order_id</th>\n",
       "      <th>quantity</th>\n",
       "      <th>item_name</th>\n",
       "      <th>choice_description</th>\n",
       "      <th>item_price</th>\n",
       "    </tr>\n",
       "  </thead>\n",
       "  <tbody>\n",
       "    <tr>\n",
       "      <th>0</th>\n",
       "      <td>1</td>\n",
       "      <td>1</td>\n",
       "      <td>Chips and Fresh Tomato Salsa</td>\n",
       "      <td>NaN</td>\n",
       "      <td>$2.39</td>\n",
       "    </tr>\n",
       "    <tr>\n",
       "      <th>1</th>\n",
       "      <td>1</td>\n",
       "      <td>1</td>\n",
       "      <td>Izze</td>\n",
       "      <td>Clementine</td>\n",
       "      <td>$3.39</td>\n",
       "    </tr>\n",
       "    <tr>\n",
       "      <th>2</th>\n",
       "      <td>1</td>\n",
       "      <td>1</td>\n",
       "      <td>Nantucket Nectar</td>\n",
       "      <td>Apple</td>\n",
       "      <td>$3.39</td>\n",
       "    </tr>\n",
       "    <tr>\n",
       "      <th>3</th>\n",
       "      <td>1</td>\n",
       "      <td>1</td>\n",
       "      <td>Chips and Tomatillo-Green Chili Salsa</td>\n",
       "      <td>NaN</td>\n",
       "      <td>$2.39</td>\n",
       "    </tr>\n",
       "    <tr>\n",
       "      <th>4</th>\n",
       "      <td>2</td>\n",
       "      <td>2</td>\n",
       "      <td>Chicken Bowl</td>\n",
       "      <td>Tomatillo-Red Chili Salsa (Hot);Black Beans;Ri...</td>\n",
       "      <td>$16.98</td>\n",
       "    </tr>\n",
       "    <tr>\n",
       "      <th>...</th>\n",
       "      <td>...</td>\n",
       "      <td>...</td>\n",
       "      <td>...</td>\n",
       "      <td>...</td>\n",
       "      <td>...</td>\n",
       "    </tr>\n",
       "    <tr>\n",
       "      <th>4617</th>\n",
       "      <td>1833</td>\n",
       "      <td>1</td>\n",
       "      <td>Steak Burrito</td>\n",
       "      <td>Fresh Tomato Salsa;Rice;Black Beans;Sour Cream...</td>\n",
       "      <td>$11.75</td>\n",
       "    </tr>\n",
       "    <tr>\n",
       "      <th>4618</th>\n",
       "      <td>1833</td>\n",
       "      <td>1</td>\n",
       "      <td>Steak Burrito</td>\n",
       "      <td>Fresh Tomato Salsa;Rice;Sour Cream;Cheese;Lett...</td>\n",
       "      <td>$11.75</td>\n",
       "    </tr>\n",
       "    <tr>\n",
       "      <th>4619</th>\n",
       "      <td>1834</td>\n",
       "      <td>1</td>\n",
       "      <td>Chicken Salad Bowl</td>\n",
       "      <td>Fresh Tomato Salsa;Fajita Vegetables;Pinto Bea...</td>\n",
       "      <td>$11.25</td>\n",
       "    </tr>\n",
       "    <tr>\n",
       "      <th>4620</th>\n",
       "      <td>1834</td>\n",
       "      <td>1</td>\n",
       "      <td>Chicken Salad Bowl</td>\n",
       "      <td>Fresh Tomato Salsa;Fajita Vegetables;Lettuce</td>\n",
       "      <td>$8.75</td>\n",
       "    </tr>\n",
       "    <tr>\n",
       "      <th>4621</th>\n",
       "      <td>1834</td>\n",
       "      <td>1</td>\n",
       "      <td>Chicken Salad Bowl</td>\n",
       "      <td>Fresh Tomato Salsa;Fajita Vegetables;Pinto Bea...</td>\n",
       "      <td>$8.75</td>\n",
       "    </tr>\n",
       "  </tbody>\n",
       "</table>\n",
       "<p>4622 rows × 5 columns</p>\n",
       "</div>"
      ],
      "text/plain": [
       "      order_id  quantity                              item_name  \\\n",
       "0            1         1           Chips and Fresh Tomato Salsa   \n",
       "1            1         1                                   Izze   \n",
       "2            1         1                       Nantucket Nectar   \n",
       "3            1         1  Chips and Tomatillo-Green Chili Salsa   \n",
       "4            2         2                           Chicken Bowl   \n",
       "...        ...       ...                                    ...   \n",
       "4617      1833         1                          Steak Burrito   \n",
       "4618      1833         1                          Steak Burrito   \n",
       "4619      1834         1                     Chicken Salad Bowl   \n",
       "4620      1834         1                     Chicken Salad Bowl   \n",
       "4621      1834         1                     Chicken Salad Bowl   \n",
       "\n",
       "                                     choice_description item_price  \n",
       "0                                                   NaN      $2.39  \n",
       "1                                            Clementine      $3.39  \n",
       "2                                                 Apple      $3.39  \n",
       "3                                                   NaN      $2.39  \n",
       "4     Tomatillo-Red Chili Salsa (Hot);Black Beans;Ri...     $16.98  \n",
       "...                                                 ...        ...  \n",
       "4617  Fresh Tomato Salsa;Rice;Black Beans;Sour Cream...     $11.75  \n",
       "4618  Fresh Tomato Salsa;Rice;Sour Cream;Cheese;Lett...     $11.75  \n",
       "4619  Fresh Tomato Salsa;Fajita Vegetables;Pinto Bea...     $11.25  \n",
       "4620       Fresh Tomato Salsa;Fajita Vegetables;Lettuce      $8.75  \n",
       "4621  Fresh Tomato Salsa;Fajita Vegetables;Pinto Bea...      $8.75  \n",
       "\n",
       "[4622 rows x 5 columns]"
      ]
     },
     "execution_count": 8,
     "metadata": {},
     "output_type": "execute_result"
    }
   ],
   "source": [
    "df = pd.read_csv('chipotle.csv')\n",
    "\n",
    "df"
   ]
  },
  {
   "cell_type": "markdown",
   "id": "6cbf715c",
   "metadata": {},
   "source": [
    "***\n",
    "* Step 3. See the first 10 entries"
   ]
  },
  {
   "cell_type": "code",
   "execution_count": 9,
   "id": "d38697f4",
   "metadata": {},
   "outputs": [
    {
     "data": {
      "text/html": [
       "<div>\n",
       "<style scoped>\n",
       "    .dataframe tbody tr th:only-of-type {\n",
       "        vertical-align: middle;\n",
       "    }\n",
       "\n",
       "    .dataframe tbody tr th {\n",
       "        vertical-align: top;\n",
       "    }\n",
       "\n",
       "    .dataframe thead th {\n",
       "        text-align: right;\n",
       "    }\n",
       "</style>\n",
       "<table border=\"1\" class=\"dataframe\">\n",
       "  <thead>\n",
       "    <tr style=\"text-align: right;\">\n",
       "      <th></th>\n",
       "      <th>order_id</th>\n",
       "      <th>quantity</th>\n",
       "      <th>item_name</th>\n",
       "      <th>choice_description</th>\n",
       "      <th>item_price</th>\n",
       "    </tr>\n",
       "  </thead>\n",
       "  <tbody>\n",
       "    <tr>\n",
       "      <th>0</th>\n",
       "      <td>1</td>\n",
       "      <td>1</td>\n",
       "      <td>Chips and Fresh Tomato Salsa</td>\n",
       "      <td>NaN</td>\n",
       "      <td>$2.39</td>\n",
       "    </tr>\n",
       "    <tr>\n",
       "      <th>1</th>\n",
       "      <td>1</td>\n",
       "      <td>1</td>\n",
       "      <td>Izze</td>\n",
       "      <td>Clementine</td>\n",
       "      <td>$3.39</td>\n",
       "    </tr>\n",
       "    <tr>\n",
       "      <th>2</th>\n",
       "      <td>1</td>\n",
       "      <td>1</td>\n",
       "      <td>Nantucket Nectar</td>\n",
       "      <td>Apple</td>\n",
       "      <td>$3.39</td>\n",
       "    </tr>\n",
       "    <tr>\n",
       "      <th>3</th>\n",
       "      <td>1</td>\n",
       "      <td>1</td>\n",
       "      <td>Chips and Tomatillo-Green Chili Salsa</td>\n",
       "      <td>NaN</td>\n",
       "      <td>$2.39</td>\n",
       "    </tr>\n",
       "    <tr>\n",
       "      <th>4</th>\n",
       "      <td>2</td>\n",
       "      <td>2</td>\n",
       "      <td>Chicken Bowl</td>\n",
       "      <td>Tomatillo-Red Chili Salsa (Hot);Black Beans;Ri...</td>\n",
       "      <td>$16.98</td>\n",
       "    </tr>\n",
       "    <tr>\n",
       "      <th>5</th>\n",
       "      <td>3</td>\n",
       "      <td>1</td>\n",
       "      <td>Chicken Bowl</td>\n",
       "      <td>Fresh Tomato Salsa (Mild);Rice;Cheese;Sour Cre...</td>\n",
       "      <td>$10.98</td>\n",
       "    </tr>\n",
       "    <tr>\n",
       "      <th>6</th>\n",
       "      <td>3</td>\n",
       "      <td>1</td>\n",
       "      <td>Side of Chips</td>\n",
       "      <td>NaN</td>\n",
       "      <td>$1.69</td>\n",
       "    </tr>\n",
       "    <tr>\n",
       "      <th>7</th>\n",
       "      <td>4</td>\n",
       "      <td>1</td>\n",
       "      <td>Steak Burrito</td>\n",
       "      <td>Tomatillo Red Chili Salsa;Fajita Vegetables;Bl...</td>\n",
       "      <td>$11.75</td>\n",
       "    </tr>\n",
       "    <tr>\n",
       "      <th>8</th>\n",
       "      <td>4</td>\n",
       "      <td>1</td>\n",
       "      <td>Steak Soft Tacos</td>\n",
       "      <td>Tomatillo Green Chili Salsa;Pinto Beans;Cheese...</td>\n",
       "      <td>$9.25</td>\n",
       "    </tr>\n",
       "    <tr>\n",
       "      <th>9</th>\n",
       "      <td>5</td>\n",
       "      <td>1</td>\n",
       "      <td>Steak Burrito</td>\n",
       "      <td>Fresh Tomato Salsa;Rice;Black Beans;Pinto Bean...</td>\n",
       "      <td>$9.25</td>\n",
       "    </tr>\n",
       "  </tbody>\n",
       "</table>\n",
       "</div>"
      ],
      "text/plain": [
       "   order_id  quantity                              item_name  \\\n",
       "0         1         1           Chips and Fresh Tomato Salsa   \n",
       "1         1         1                                   Izze   \n",
       "2         1         1                       Nantucket Nectar   \n",
       "3         1         1  Chips and Tomatillo-Green Chili Salsa   \n",
       "4         2         2                           Chicken Bowl   \n",
       "5         3         1                           Chicken Bowl   \n",
       "6         3         1                          Side of Chips   \n",
       "7         4         1                          Steak Burrito   \n",
       "8         4         1                       Steak Soft Tacos   \n",
       "9         5         1                          Steak Burrito   \n",
       "\n",
       "                                  choice_description item_price  \n",
       "0                                                NaN      $2.39  \n",
       "1                                         Clementine      $3.39  \n",
       "2                                              Apple      $3.39  \n",
       "3                                                NaN      $2.39  \n",
       "4  Tomatillo-Red Chili Salsa (Hot);Black Beans;Ri...     $16.98  \n",
       "5  Fresh Tomato Salsa (Mild);Rice;Cheese;Sour Cre...     $10.98  \n",
       "6                                                NaN      $1.69  \n",
       "7  Tomatillo Red Chili Salsa;Fajita Vegetables;Bl...     $11.75  \n",
       "8  Tomatillo Green Chili Salsa;Pinto Beans;Cheese...      $9.25  \n",
       "9  Fresh Tomato Salsa;Rice;Black Beans;Pinto Bean...      $9.25  "
      ]
     },
     "execution_count": 9,
     "metadata": {},
     "output_type": "execute_result"
    }
   ],
   "source": [
    "df.head(10)"
   ]
  },
  {
   "cell_type": "markdown",
   "id": "50d4eceb",
   "metadata": {},
   "source": [
    "***\n",
    "* Step 4. What is the number of observations in the dataset?"
   ]
  },
  {
   "cell_type": "code",
   "execution_count": 10,
   "id": "99753778",
   "metadata": {},
   "outputs": [
    {
     "data": {
      "text/plain": [
       "4622"
      ]
     },
     "execution_count": 10,
     "metadata": {},
     "output_type": "execute_result"
    }
   ],
   "source": [
    "len(df)"
   ]
  },
  {
   "cell_type": "markdown",
   "id": "2f94fce1",
   "metadata": {},
   "source": [
    "***\n",
    "* Step 5. Print the name of all the columns."
   ]
  },
  {
   "cell_type": "code",
   "execution_count": 11,
   "id": "8786c11e",
   "metadata": {},
   "outputs": [
    {
     "data": {
      "text/plain": [
       "Index(['order_id', 'quantity', 'item_name', 'choice_description',\n",
       "       'item_price'],\n",
       "      dtype='object')"
      ]
     },
     "execution_count": 11,
     "metadata": {},
     "output_type": "execute_result"
    }
   ],
   "source": [
    "df.columns"
   ]
  },
  {
   "cell_type": "markdown",
   "id": "2197b4b9",
   "metadata": {},
   "source": [
    "***\n",
    "* Step 6. How many items were orderd in total? (tips: sum of quantity)"
   ]
  },
  {
   "cell_type": "code",
   "execution_count": 12,
   "id": "1d295023",
   "metadata": {
    "scrolled": true
   },
   "outputs": [
    {
     "data": {
      "text/plain": [
       "4972"
      ]
     },
     "execution_count": 12,
     "metadata": {},
     "output_type": "execute_result"
    }
   ],
   "source": [
    "df['quantity'].sum()"
   ]
  },
  {
   "cell_type": "markdown",
   "id": "7594bcb4",
   "metadata": {},
   "source": [
    "***\n",
    "* Step 7. Turn the item_price into a **float** (tips: remove '$'; convert string to floag (function: astype))"
   ]
  },
  {
   "cell_type": "code",
   "execution_count": 13,
   "id": "0486706e",
   "metadata": {},
   "outputs": [
    {
     "data": {
      "text/plain": [
       "0        2.39\n",
       "1        3.39\n",
       "2        3.39\n",
       "3        2.39\n",
       "4       16.98\n",
       "        ...  \n",
       "4617    11.75\n",
       "4618    11.75\n",
       "4619    11.25\n",
       "4620     8.75\n",
       "4621     8.75\n",
       "Name: item_price, Length: 4622, dtype: float64"
      ]
     },
     "execution_count": 13,
     "metadata": {},
     "output_type": "execute_result"
    }
   ],
   "source": [
    "df['item_price'] = df['item_price'].str[1:].astype('float')\n",
    "\n",
    "df['item_price']"
   ]
  },
  {
   "cell_type": "markdown",
   "id": "9cb7b45f",
   "metadata": {},
   "source": [
    " ***\n",
    " * Step 8. How much was the **revenue** for the period in the dataset? (tips: revenue = quantity * item_price)"
   ]
  },
  {
   "cell_type": "code",
   "execution_count": 14,
   "id": "3915a05b",
   "metadata": {},
   "outputs": [
    {
     "name": "stdout",
     "output_type": "stream",
     "text": [
      "Total Revenue was: $39237.02\n"
     ]
    }
   ],
   "source": [
    "print('Total Revenue was: $' + str((df['quantity']* df['item_price']).sum()))"
   ]
  },
  {
   "cell_type": "markdown",
   "id": "b0efd4b8",
   "metadata": {},
   "source": [
    "***\n",
    "* Step 9. How many **different** items are sold? (tips: drop_duplicates)"
   ]
  },
  {
   "cell_type": "code",
   "execution_count": 15,
   "id": "4e7df4be",
   "metadata": {},
   "outputs": [
    {
     "data": {
      "text/plain": [
       "50"
      ]
     },
     "execution_count": 15,
     "metadata": {},
     "output_type": "execute_result"
    }
   ],
   "source": [
    "len(df['item_name'].drop_duplicates())"
   ]
  },
  {
   "cell_type": "markdown",
   "id": "bf239fb7",
   "metadata": {},
   "source": [
    "***\n",
    "* Step 10. How many products cost more than $10.00?"
   ]
  },
  {
   "cell_type": "code",
   "execution_count": 16,
   "id": "6f009a5f",
   "metadata": {
    "scrolled": true
   },
   "outputs": [
    {
     "data": {
      "text/plain": [
       "1130"
      ]
     },
     "execution_count": 16,
     "metadata": {},
     "output_type": "execute_result"
    }
   ],
   "source": [
    "len(df[df['item_price'] > 10])"
   ]
  },
  {
   "cell_type": "markdown",
   "id": "7bb4b374",
   "metadata": {},
   "source": [
    "***\n",
    "* Step 11. What is the price of each \"Chicken Bowl\"?"
   ]
  },
  {
   "cell_type": "code",
   "execution_count": 17,
   "id": "6ad6d4b6",
   "metadata": {},
   "outputs": [
    {
     "data": {
      "text/html": [
       "<div>\n",
       "<style scoped>\n",
       "    .dataframe tbody tr th:only-of-type {\n",
       "        vertical-align: middle;\n",
       "    }\n",
       "\n",
       "    .dataframe tbody tr th {\n",
       "        vertical-align: top;\n",
       "    }\n",
       "\n",
       "    .dataframe thead th {\n",
       "        text-align: right;\n",
       "    }\n",
       "</style>\n",
       "<table border=\"1\" class=\"dataframe\">\n",
       "  <thead>\n",
       "    <tr style=\"text-align: right;\">\n",
       "      <th></th>\n",
       "      <th>item_name</th>\n",
       "      <th>choice_description</th>\n",
       "      <th>item_price</th>\n",
       "    </tr>\n",
       "  </thead>\n",
       "  <tbody>\n",
       "    <tr>\n",
       "      <th>4</th>\n",
       "      <td>Chicken Bowl</td>\n",
       "      <td>Tomatillo-Red Chili Salsa (Hot);Black Beans;Ri...</td>\n",
       "      <td>16.98</td>\n",
       "    </tr>\n",
       "    <tr>\n",
       "      <th>5</th>\n",
       "      <td>Chicken Bowl</td>\n",
       "      <td>Fresh Tomato Salsa (Mild);Rice;Cheese;Sour Cre...</td>\n",
       "      <td>10.98</td>\n",
       "    </tr>\n",
       "    <tr>\n",
       "      <th>13</th>\n",
       "      <td>Chicken Bowl</td>\n",
       "      <td>Fresh Tomato Salsa;Fajita Vegetables;Rice;Chee...</td>\n",
       "      <td>11.25</td>\n",
       "    </tr>\n",
       "    <tr>\n",
       "      <th>19</th>\n",
       "      <td>Chicken Bowl</td>\n",
       "      <td>Tomatillo Red Chili Salsa;Fajita Vegetables;Bl...</td>\n",
       "      <td>8.75</td>\n",
       "    </tr>\n",
       "    <tr>\n",
       "      <th>26</th>\n",
       "      <td>Chicken Bowl</td>\n",
       "      <td>Roasted Chili Corn Salsa (Medium);Pinto Beans;...</td>\n",
       "      <td>8.49</td>\n",
       "    </tr>\n",
       "    <tr>\n",
       "      <th>...</th>\n",
       "      <td>...</td>\n",
       "      <td>...</td>\n",
       "      <td>...</td>\n",
       "    </tr>\n",
       "    <tr>\n",
       "      <th>4540</th>\n",
       "      <td>Chicken Bowl</td>\n",
       "      <td>Tomatillo Green Chili Salsa;Fajita Vegetables;...</td>\n",
       "      <td>11.25</td>\n",
       "    </tr>\n",
       "    <tr>\n",
       "      <th>4553</th>\n",
       "      <td>Chicken Bowl</td>\n",
       "      <td>Roasted Chili Corn Salsa;Black Beans;Sour Crea...</td>\n",
       "      <td>11.25</td>\n",
       "    </tr>\n",
       "    <tr>\n",
       "      <th>4589</th>\n",
       "      <td>Chicken Bowl</td>\n",
       "      <td>Fresh Tomato Salsa;Rice;Black Beans;Sour Cream...</td>\n",
       "      <td>11.25</td>\n",
       "    </tr>\n",
       "    <tr>\n",
       "      <th>4595</th>\n",
       "      <td>Chicken Bowl</td>\n",
       "      <td>Tomatillo Green Chili Salsa;Rice;Black Beans</td>\n",
       "      <td>8.75</td>\n",
       "    </tr>\n",
       "    <tr>\n",
       "      <th>4599</th>\n",
       "      <td>Chicken Bowl</td>\n",
       "      <td>Roasted Chili Corn Salsa;Cheese;Lettuce</td>\n",
       "      <td>8.75</td>\n",
       "    </tr>\n",
       "  </tbody>\n",
       "</table>\n",
       "<p>358 rows × 3 columns</p>\n",
       "</div>"
      ],
      "text/plain": [
       "         item_name                                 choice_description  \\\n",
       "4     Chicken Bowl  Tomatillo-Red Chili Salsa (Hot);Black Beans;Ri...   \n",
       "5     Chicken Bowl  Fresh Tomato Salsa (Mild);Rice;Cheese;Sour Cre...   \n",
       "13    Chicken Bowl  Fresh Tomato Salsa;Fajita Vegetables;Rice;Chee...   \n",
       "19    Chicken Bowl  Tomatillo Red Chili Salsa;Fajita Vegetables;Bl...   \n",
       "26    Chicken Bowl  Roasted Chili Corn Salsa (Medium);Pinto Beans;...   \n",
       "...            ...                                                ...   \n",
       "4540  Chicken Bowl  Tomatillo Green Chili Salsa;Fajita Vegetables;...   \n",
       "4553  Chicken Bowl  Roasted Chili Corn Salsa;Black Beans;Sour Crea...   \n",
       "4589  Chicken Bowl  Fresh Tomato Salsa;Rice;Black Beans;Sour Cream...   \n",
       "4595  Chicken Bowl       Tomatillo Green Chili Salsa;Rice;Black Beans   \n",
       "4599  Chicken Bowl            Roasted Chili Corn Salsa;Cheese;Lettuce   \n",
       "\n",
       "      item_price  \n",
       "4          16.98  \n",
       "5          10.98  \n",
       "13         11.25  \n",
       "19          8.75  \n",
       "26          8.49  \n",
       "...          ...  \n",
       "4540       11.25  \n",
       "4553       11.25  \n",
       "4589       11.25  \n",
       "4595        8.75  \n",
       "4599        8.75  \n",
       "\n",
       "[358 rows x 3 columns]"
      ]
     },
     "execution_count": 17,
     "metadata": {},
     "output_type": "execute_result"
    }
   ],
   "source": [
    "df_chick_bowl = df[df['item_name'] == 'Chicken Bowl']\n",
    "\n",
    "df_chick_bowl = df_chick_bowl[['item_name','choice_description','item_price']]\n",
    "\n",
    "df_chick_bowl.drop_duplicates()"
   ]
  },
  {
   "cell_type": "markdown",
   "id": "de44793c",
   "metadata": {},
   "source": [
    "***\n",
    "* Step 12. Sort by the item_price of \"Chicken Bowl\""
   ]
  },
  {
   "cell_type": "code",
   "execution_count": 18,
   "id": "043177ba",
   "metadata": {
    "scrolled": true
   },
   "outputs": [
    {
     "data": {
      "text/html": [
       "<div>\n",
       "<style scoped>\n",
       "    .dataframe tbody tr th:only-of-type {\n",
       "        vertical-align: middle;\n",
       "    }\n",
       "\n",
       "    .dataframe tbody tr th {\n",
       "        vertical-align: top;\n",
       "    }\n",
       "\n",
       "    .dataframe thead th {\n",
       "        text-align: right;\n",
       "    }\n",
       "</style>\n",
       "<table border=\"1\" class=\"dataframe\">\n",
       "  <thead>\n",
       "    <tr style=\"text-align: right;\">\n",
       "      <th></th>\n",
       "      <th>item_name</th>\n",
       "      <th>choice_description</th>\n",
       "      <th>item_price</th>\n",
       "    </tr>\n",
       "  </thead>\n",
       "  <tbody>\n",
       "    <tr>\n",
       "      <th>2918</th>\n",
       "      <td>Chicken Bowl</td>\n",
       "      <td>Fresh Tomato (Mild);Rice;Sour Cream;Cheese</td>\n",
       "      <td>8.19</td>\n",
       "    </tr>\n",
       "    <tr>\n",
       "      <th>3664</th>\n",
       "      <td>Chicken Bowl</td>\n",
       "      <td>Fresh Tomato (Mild);Lettuce;Fajita Veggies;Pin...</td>\n",
       "      <td>8.19</td>\n",
       "    </tr>\n",
       "    <tr>\n",
       "      <th>3101</th>\n",
       "      <td>Chicken Bowl</td>\n",
       "      <td>Fresh Tomato (Mild);Lettuce;Fajita Veggies;Bla...</td>\n",
       "      <td>8.19</td>\n",
       "    </tr>\n",
       "    <tr>\n",
       "      <th>2548</th>\n",
       "      <td>Chicken Bowl</td>\n",
       "      <td>Tomatillo-Red Chili Salsa (Hot);Rice;Black Bea...</td>\n",
       "      <td>8.49</td>\n",
       "    </tr>\n",
       "    <tr>\n",
       "      <th>3424</th>\n",
       "      <td>Chicken Bowl</td>\n",
       "      <td>Roasted Chili Corn Salsa (Medium);Tomatillo-Gr...</td>\n",
       "      <td>8.49</td>\n",
       "    </tr>\n",
       "    <tr>\n",
       "      <th>...</th>\n",
       "      <td>...</td>\n",
       "      <td>...</td>\n",
       "      <td>...</td>\n",
       "    </tr>\n",
       "    <tr>\n",
       "      <th>4423</th>\n",
       "      <td>Chicken Bowl</td>\n",
       "      <td>Fresh Tomato Salsa;Rice;Fajita Vegetables;Blac...</td>\n",
       "      <td>22.50</td>\n",
       "    </tr>\n",
       "    <tr>\n",
       "      <th>1429</th>\n",
       "      <td>Chicken Bowl</td>\n",
       "      <td>Fresh Tomato Salsa;Rice;Sour Cream;Guacamole</td>\n",
       "      <td>22.50</td>\n",
       "    </tr>\n",
       "    <tr>\n",
       "      <th>2510</th>\n",
       "      <td>Chicken Bowl</td>\n",
       "      <td>Roasted Chili Corn Salsa;Rice;Black Beans;Chee...</td>\n",
       "      <td>22.50</td>\n",
       "    </tr>\n",
       "    <tr>\n",
       "      <th>1514</th>\n",
       "      <td>Chicken Bowl</td>\n",
       "      <td>Fresh Tomato Salsa;Rice;Black Beans;Cheese;Sou...</td>\n",
       "      <td>26.25</td>\n",
       "    </tr>\n",
       "    <tr>\n",
       "      <th>409</th>\n",
       "      <td>Chicken Bowl</td>\n",
       "      <td>Fresh Tomato Salsa (Mild);Tomatillo-Green Chil...</td>\n",
       "      <td>32.94</td>\n",
       "    </tr>\n",
       "  </tbody>\n",
       "</table>\n",
       "<p>726 rows × 3 columns</p>\n",
       "</div>"
      ],
      "text/plain": [
       "         item_name                                 choice_description  \\\n",
       "2918  Chicken Bowl         Fresh Tomato (Mild);Rice;Sour Cream;Cheese   \n",
       "3664  Chicken Bowl  Fresh Tomato (Mild);Lettuce;Fajita Veggies;Pin...   \n",
       "3101  Chicken Bowl  Fresh Tomato (Mild);Lettuce;Fajita Veggies;Bla...   \n",
       "2548  Chicken Bowl  Tomatillo-Red Chili Salsa (Hot);Rice;Black Bea...   \n",
       "3424  Chicken Bowl  Roasted Chili Corn Salsa (Medium);Tomatillo-Gr...   \n",
       "...            ...                                                ...   \n",
       "4423  Chicken Bowl  Fresh Tomato Salsa;Rice;Fajita Vegetables;Blac...   \n",
       "1429  Chicken Bowl       Fresh Tomato Salsa;Rice;Sour Cream;Guacamole   \n",
       "2510  Chicken Bowl  Roasted Chili Corn Salsa;Rice;Black Beans;Chee...   \n",
       "1514  Chicken Bowl  Fresh Tomato Salsa;Rice;Black Beans;Cheese;Sou...   \n",
       "409   Chicken Bowl  Fresh Tomato Salsa (Mild);Tomatillo-Green Chil...   \n",
       "\n",
       "      item_price  \n",
       "2918        8.19  \n",
       "3664        8.19  \n",
       "3101        8.19  \n",
       "2548        8.49  \n",
       "3424        8.49  \n",
       "...          ...  \n",
       "4423       22.50  \n",
       "1429       22.50  \n",
       "2510       22.50  \n",
       "1514       26.25  \n",
       "409        32.94  \n",
       "\n",
       "[726 rows x 3 columns]"
      ]
     },
     "execution_count": 18,
     "metadata": {},
     "output_type": "execute_result"
    }
   ],
   "source": [
    "df_chick_bowl.sort_values(by='item_price')"
   ]
  },
  {
   "cell_type": "markdown",
   "id": "fe430c47",
   "metadata": {},
   "source": [
    "***\n",
    "* Step 13. What is the most expensive item ordered?"
   ]
  },
  {
   "cell_type": "code",
   "execution_count": 19,
   "id": "532b9c3e",
   "metadata": {
    "scrolled": true
   },
   "outputs": [
    {
     "data": {
      "text/html": [
       "<div>\n",
       "<style scoped>\n",
       "    .dataframe tbody tr th:only-of-type {\n",
       "        vertical-align: middle;\n",
       "    }\n",
       "\n",
       "    .dataframe tbody tr th {\n",
       "        vertical-align: top;\n",
       "    }\n",
       "\n",
       "    .dataframe thead th {\n",
       "        text-align: right;\n",
       "    }\n",
       "</style>\n",
       "<table border=\"1\" class=\"dataframe\">\n",
       "  <thead>\n",
       "    <tr style=\"text-align: right;\">\n",
       "      <th></th>\n",
       "      <th>order_id</th>\n",
       "      <th>quantity</th>\n",
       "      <th>item_name</th>\n",
       "      <th>choice_description</th>\n",
       "      <th>item_price</th>\n",
       "    </tr>\n",
       "  </thead>\n",
       "  <tbody>\n",
       "    <tr>\n",
       "      <th>3598</th>\n",
       "      <td>1443</td>\n",
       "      <td>15</td>\n",
       "      <td>Chips and Fresh Tomato Salsa</td>\n",
       "      <td>NaN</td>\n",
       "      <td>44.25</td>\n",
       "    </tr>\n",
       "  </tbody>\n",
       "</table>\n",
       "</div>"
      ],
      "text/plain": [
       "      order_id  quantity                     item_name choice_description  \\\n",
       "3598      1443        15  Chips and Fresh Tomato Salsa                NaN   \n",
       "\n",
       "      item_price  \n",
       "3598       44.25  "
      ]
     },
     "execution_count": 19,
     "metadata": {},
     "output_type": "execute_result"
    }
   ],
   "source": [
    "df.sort_values(by = \"item_price\", ascending = False).head(1)"
   ]
  },
  {
   "cell_type": "markdown",
   "id": "378109d8",
   "metadata": {},
   "source": [
    "***\n",
    "* Step 14. How many times was a \"Steak Burrito\" ordered?"
   ]
  },
  {
   "cell_type": "code",
   "execution_count": 20,
   "id": "cf436299",
   "metadata": {},
   "outputs": [
    {
     "data": {
      "text/plain": [
       "368"
      ]
     },
     "execution_count": 20,
     "metadata": {},
     "output_type": "execute_result"
    }
   ],
   "source": [
    "len(df[df['item_name'] == \"Steak Burrito\"])"
   ]
  },
  {
   "cell_type": "markdown",
   "id": "8370c886",
   "metadata": {},
   "source": [
    "***\n",
    "* Step 15. How many times did someone order more than one Canned Soda?"
   ]
  },
  {
   "cell_type": "code",
   "execution_count": 155,
   "id": "0ad61f44",
   "metadata": {},
   "outputs": [
    {
     "data": {
      "text/plain": [
       "20"
      ]
     },
     "execution_count": 155,
     "metadata": {},
     "output_type": "execute_result"
    }
   ],
   "source": [
    "len(df[(df['item_name'] == \"Canned Soda\") & (df['quantity'] > 1)])"
   ]
  }
 ],
 "metadata": {
  "kernelspec": {
   "display_name": "Python 3 (ipykernel)",
   "language": "python",
   "name": "python3"
  },
  "language_info": {
   "codemirror_mode": {
    "name": "ipython",
    "version": 3
   },
   "file_extension": ".py",
   "mimetype": "text/x-python",
   "name": "python",
   "nbconvert_exporter": "python",
   "pygments_lexer": "ipython3",
   "version": "3.9.10"
  }
 },
 "nbformat": 4,
 "nbformat_minor": 5
}
