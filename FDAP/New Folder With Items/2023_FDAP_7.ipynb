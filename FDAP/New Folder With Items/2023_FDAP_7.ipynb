{
 "cells": [
  {
   "cell_type": "markdown",
   "id": "1e25f29b",
   "metadata": {},
   "source": [
    "# Lecture 07. Time Series\n",
    "\n",
    "### Instructor: Luping Yu\n",
    "\n",
    "### Apr 11, 2022\n",
    "\n",
    "***\n",
    "\n",
    "**Time series data** is an important form of structured data in many different fields, such as finance, economics, ecology, neuroscience, and physics. Anything that is observed or measured at many points in time forms a time series. \n",
    "\n",
    "Many time series are fixed frequency, which is to say that data points occur at regular intervals according to some rule, such as every 15 seconds, every 5 minutes, or once per month.\n",
    "\n",
    "How you mark and refer to time series data depends on the application, and you may have one of the following:\n",
    "* **Timestamps**: specific instants in time.\n",
    "* **Fixed periods**: such as the month January 2007 or the full year 2010.\n",
    "* **Intervals of time**: indicated by a start and end timestamp. (periods can be thought of as special cases of intervals)\n",
    "\n",
    "The simplest and most widely used kind of time series are those indexed by **timestamp**.\n",
    "\n",
    "![avatar](https://raw.githubusercontent.com/lazydingding/gallery/main/date_stamp.jpg)\n",
    "\n",
    "\n",
    "***\n",
    "##  Date and Time Data Types and Tools\n",
    "\n",
    "The Python standard library includes data types for date and time data, as well as calendar-related functionality. The <code>datetime</code>, <code>time</code>, and <code>calendar</code> modules are the main places to start. The <code>datetime.datetime</code> type, or simply <code>datetime</code>, is widely used:"
   ]
  },
  {
   "cell_type": "code",
   "execution_count": 1,
   "id": "4508df3e",
   "metadata": {},
   "outputs": [
    {
     "data": {
      "text/plain": [
       "datetime.datetime(2023, 4, 9, 22, 2, 11, 808890)"
      ]
     },
     "execution_count": 1,
     "metadata": {},
     "output_type": "execute_result"
    }
   ],
   "source": [
    "from datetime import datetime\n",
    "\n",
    "now = datetime.now()\n",
    "\n",
    "now"
   ]
  },
  {
   "cell_type": "code",
   "execution_count": 2,
   "id": "6b8c25f6",
   "metadata": {},
   "outputs": [
    {
     "data": {
      "text/plain": [
       "(2023, 4, 9)"
      ]
     },
     "execution_count": 2,
     "metadata": {},
     "output_type": "execute_result"
    }
   ],
   "source": [
    "now.year, now.month, now.day"
   ]
  },
  {
   "cell_type": "markdown",
   "id": "f2131182",
   "metadata": {},
   "source": [
    "<code>datetime</code> stores both the date and time down to the microsecond. <code>timedelta</code> represents the temporal difference between two datetime objects:"
   ]
  },
  {
   "cell_type": "code",
   "execution_count": 3,
   "id": "2b6847b2",
   "metadata": {},
   "outputs": [
    {
     "data": {
      "text/plain": [
       "datetime.timedelta(days=926, seconds=56700)"
      ]
     },
     "execution_count": 3,
     "metadata": {},
     "output_type": "execute_result"
    }
   ],
   "source": [
    "delta = datetime(2011, 1, 7) - datetime(2008, 6, 24, 8, 15)\n",
    "\n",
    "delta"
   ]
  },
  {
   "cell_type": "code",
   "execution_count": 4,
   "id": "a284ec7c",
   "metadata": {},
   "outputs": [
    {
     "data": {
      "text/plain": [
       "926"
      ]
     },
     "execution_count": 4,
     "metadata": {},
     "output_type": "execute_result"
    }
   ],
   "source": [
    "delta.days"
   ]
  },
  {
   "cell_type": "markdown",
   "id": "1c82534a",
   "metadata": {},
   "source": [
    "You can add (or subtract) a <code>timedelta</code> or multiple thereof to a <code>datetime</code> object to yield a new shifted object:"
   ]
  },
  {
   "cell_type": "code",
   "execution_count": 5,
   "id": "4235891d",
   "metadata": {},
   "outputs": [
    {
     "data": {
      "text/plain": [
       "datetime.datetime(2011, 1, 5, 0, 0)"
      ]
     },
     "execution_count": 5,
     "metadata": {},
     "output_type": "execute_result"
    }
   ],
   "source": [
    "from datetime import timedelta\n",
    "\n",
    "start = datetime(2011, 1, 7)\n",
    "\n",
    "start - timedelta(2)"
   ]
  },
  {
   "cell_type": "code",
   "execution_count": 6,
   "id": "0495f6a1",
   "metadata": {
    "scrolled": false
   },
   "outputs": [
    {
     "data": {
      "text/plain": [
       "datetime.datetime(2011, 2, 4, 0, 0)"
      ]
     },
     "execution_count": 6,
     "metadata": {},
     "output_type": "execute_result"
    }
   ],
   "source": [
    "start + 2 * timedelta(weeks=2)"
   ]
  },
  {
   "cell_type": "markdown",
   "id": "f00cb2a9",
   "metadata": {},
   "source": [
    "The following table summarizes the data types in the <code>datetime</code> module. While this chapter is mainly concerned with the data types in pandas and higher-level time series manipulation, you may encounter the datetime-based types in many other places in Python in the wild.\n",
    "\n",
    "* Types in datetime module:\n",
    "\n",
    "|Type | Description |\n",
    "|:- | :- | \n",
    "|date | Store calendar date (year, month, day) using the Gregorian calendar\n",
    "|time | Store time of day as hours, minutes, seconds, and microseconds\n",
    "|datetime | Stores both date and time\n",
    "|timedelta | Represents the difference between twodatetimevalues (as days, seconds, and microseconds)\n",
    "|tzinfo | Base type for storing time zone information\n",
    "\n",
    "***\n",
    "### Converting Between String and Datetime\n",
    "\n",
    "You can format <code>datetime</code> objects and pandas <code>Timestamp</code> objects as strings using <code>str()</code> or the <code>strftime()</code> method, passing a format specification:"
   ]
  },
  {
   "cell_type": "code",
   "execution_count": 7,
   "id": "7c397d2e",
   "metadata": {},
   "outputs": [
    {
     "data": {
      "text/plain": [
       "'2011-01-03 00:00:00'"
      ]
     },
     "execution_count": 7,
     "metadata": {},
     "output_type": "execute_result"
    }
   ],
   "source": [
    "stamp = datetime(2011, 1, 3)\n",
    "\n",
    "str(stamp)"
   ]
  },
  {
   "cell_type": "markdown",
   "id": "ece7427b",
   "metadata": {},
   "source": [
    "You can use these same format codes to convert strings to dates using <code>datetime.strptime</code>:"
   ]
  },
  {
   "cell_type": "code",
   "execution_count": 8,
   "id": "b057abd1",
   "metadata": {},
   "outputs": [
    {
     "data": {
      "text/plain": [
       "datetime.datetime(1999, 1, 3, 0, 0)"
      ]
     },
     "execution_count": 8,
     "metadata": {},
     "output_type": "execute_result"
    }
   ],
   "source": [
    "value = '99:01:03'\n",
    "\n",
    "datetime.strptime(value, '%y:%m:%d')"
   ]
  },
  {
   "cell_type": "markdown",
   "id": "dac70643",
   "metadata": {},
   "source": [
    "See the following table for a complete list of the format codes.\n",
    "\n",
    "* Datetime format specification (ISO C89 compatible)\n",
    "\n",
    "|Type | Description |\n",
    "|:- | :- | \n",
    "|%Y|Four-digit year\n",
    "|%y|Two-digit year\n",
    "|%m|Two-digit month [01, 12]\n",
    "|%d|Two-digit day [01, 31]\n",
    "|%H|Hour (24-hour clock) [00, 23]\n",
    "|%I|Hour (12-hour clock) [01, 12]\n",
    "|%M|Two-digit minute [00, 59]\n",
    "|%S|Second [00, 61] (seconds 60, 61 account for leap seconds)\n",
    "|%w|Weekday as integer [0 (Sunday), 6]\n",
    "|%U|Week number of the year [00, 53]; Sunday is considered the first day of the week, and days before the first Sunday of the year are \"week 0\"\n",
    "|%W|Week number of the year [00, 53]; Monday is considered the first day of the week, and days before the first Monday of the year are \"week 0\"\n",
    "|%z|UTC time zone offset as+HHMMor-HHMM; empty if time zone naive\n",
    "|%F|Shortcut for%Y-%m-%d (e.g.,2012-4-18)\n",
    "|%D|Shortcut for%m/%d/%y (e.g.,04/18/12)\n",
    "\n"
   ]
  },
  {
   "cell_type": "markdown",
   "id": "0ba9f93d",
   "metadata": {},
   "source": [
    "<code>datetime.strptime</code> is a good way to parse a date with a **known** format.\n",
    "\n",
    "However, it can be a bit annoying to have to write a format spec each time, especially for common date formats. In this case, you can use the <code>parser.parse()</code> method:"
   ]
  },
  {
   "cell_type": "code",
   "execution_count": 9,
   "id": "d586c8b4",
   "metadata": {},
   "outputs": [
    {
     "data": {
      "text/plain": [
       "datetime.datetime(2011, 1, 3, 0, 0)"
      ]
     },
     "execution_count": 9,
     "metadata": {},
     "output_type": "execute_result"
    }
   ],
   "source": [
    "from dateutil.parser import parse\n",
    "\n",
    "parse('2011-01-03')"
   ]
  },
  {
   "cell_type": "markdown",
   "id": "ab04a99f",
   "metadata": {},
   "source": [
    "<code>dateutil.parser</code> is capable of parsing most human-intelligible date representations:"
   ]
  },
  {
   "cell_type": "code",
   "execution_count": 10,
   "id": "4dc69f45",
   "metadata": {},
   "outputs": [
    {
     "data": {
      "text/plain": [
       "datetime.datetime(1997, 1, 31, 22, 45)"
      ]
     },
     "execution_count": 10,
     "metadata": {},
     "output_type": "execute_result"
    }
   ],
   "source": [
    "parse('Jan 31, 1997 10:45 PM')"
   ]
  },
  {
   "cell_type": "markdown",
   "id": "2301122d",
   "metadata": {},
   "source": [
    "<code>dateutil.parser</code> is a useful but **imperfect** tool. Notably, it will recognize some strings as dates that you might prefer that it didn't.\n",
    "\n",
    "In international locales, day appearing before month is very common, so you can pass <code>dayfirst=True</code> to indicate this:"
   ]
  },
  {
   "cell_type": "code",
   "execution_count": 11,
   "id": "ff01d979",
   "metadata": {},
   "outputs": [
    {
     "data": {
      "text/plain": [
       "datetime.datetime(2011, 12, 6, 0, 0)"
      ]
     },
     "execution_count": 11,
     "metadata": {},
     "output_type": "execute_result"
    }
   ],
   "source": [
    "parse('6/12/2011', dayfirst=True)"
   ]
  },
  {
   "cell_type": "markdown",
   "id": "efec5e75",
   "metadata": {},
   "source": [
    "pandas is generally oriented toward working with arrays of dates, whether used as an axis index or a column in a DataFrame.\n",
    "\n",
    "The <code>to_datetime()</code> method parses many different kinds of date representations:"
   ]
  },
  {
   "cell_type": "code",
   "execution_count": 12,
   "id": "dba322fc",
   "metadata": {},
   "outputs": [
    {
     "data": {
      "text/plain": [
       "DatetimeIndex(['2011-07-06 12:00:00', '2011-08-06 00:00:00'], dtype='datetime64[ns]', freq=None)"
      ]
     },
     "execution_count": 12,
     "metadata": {},
     "output_type": "execute_result"
    }
   ],
   "source": [
    "import pandas as pd\n",
    "\n",
    "datestrs = ['2011-07-06 12:00:00', '2011-08-06 00:00:00']\n",
    "\n",
    "pd.to_datetime(datestrs)"
   ]
  },
  {
   "cell_type": "markdown",
   "id": "71211471",
   "metadata": {},
   "source": [
    "***\n",
    "##  Time Series Basics\n",
    "\n",
    "A basic kind of time series object in pandas is a **Series indexed by timestamps**:"
   ]
  },
  {
   "cell_type": "code",
   "execution_count": 13,
   "id": "eba965fa",
   "metadata": {
    "scrolled": true
   },
   "outputs": [
    {
     "data": {
      "text/plain": [
       "2011-01-02    1.976024\n",
       "2011-01-05   -0.030445\n",
       "2011-01-07    1.271553\n",
       "2011-01-08   -0.302420\n",
       "2011-01-10   -1.120660\n",
       "2011-01-12   -0.030866\n",
       "dtype: float64"
      ]
     },
     "execution_count": 13,
     "metadata": {},
     "output_type": "execute_result"
    }
   ],
   "source": [
    "import numpy as np\n",
    "import pandas as pd\n",
    "from datetime import datetime\n",
    "\n",
    "dates = [datetime(2011, 1, 2), datetime(2011, 1, 5),\n",
    "         datetime(2011, 1, 7), datetime(2011, 1, 8),\n",
    "         datetime(2011, 1, 10), datetime(2011, 1, 12)]\n",
    "\n",
    "ts = pd.Series(np.random.randn(6), index=dates)\n",
    "\n",
    "ts"
   ]
  },
  {
   "cell_type": "markdown",
   "id": "df232cd8",
   "metadata": {},
   "source": [
    "These **datetime** objects have been put in a <code>DatetimeIndex</code>:"
   ]
  },
  {
   "cell_type": "code",
   "execution_count": 14,
   "id": "5796d09e",
   "metadata": {
    "scrolled": false
   },
   "outputs": [
    {
     "data": {
      "text/plain": [
       "DatetimeIndex(['2011-01-02', '2011-01-05', '2011-01-07', '2011-01-08',\n",
       "               '2011-01-10', '2011-01-12'],\n",
       "              dtype='datetime64[ns]', freq=None)"
      ]
     },
     "execution_count": 14,
     "metadata": {},
     "output_type": "execute_result"
    }
   ],
   "source": [
    "ts.index"
   ]
  },
  {
   "cell_type": "markdown",
   "id": "00f30d7d",
   "metadata": {},
   "source": [
    "Scalar values from a <code>DatetimeIndex</code> are pandas <code>Timestamp</code> objects. A Timestamp can be substituted anywhere you would use a datetime object."
   ]
  },
  {
   "cell_type": "code",
   "execution_count": 15,
   "id": "cffb413c",
   "metadata": {
    "scrolled": true
   },
   "outputs": [
    {
     "data": {
      "text/plain": [
       "Timestamp('2011-01-02 00:00:00')"
      ]
     },
     "execution_count": 15,
     "metadata": {},
     "output_type": "execute_result"
    }
   ],
   "source": [
    "stamp = ts.index[0]\n",
    "\n",
    "stamp"
   ]
  },
  {
   "cell_type": "markdown",
   "id": "fc9d8cc9",
   "metadata": {},
   "source": [
    "***\n",
    "### Indexing, Selection, Subsetting\n",
    "\n",
    "Time series behaves like any other <code>pandas.Series</code> when you are indexing and selecting data based on label:"
   ]
  },
  {
   "cell_type": "code",
   "execution_count": 16,
   "id": "1170be50",
   "metadata": {},
   "outputs": [
    {
     "data": {
      "text/plain": [
       "2011-01-02    1.976024\n",
       "2011-01-05   -0.030445\n",
       "2011-01-07    1.271553\n",
       "2011-01-08   -0.302420\n",
       "2011-01-10   -1.120660\n",
       "2011-01-12   -0.030866\n",
       "dtype: float64"
      ]
     },
     "execution_count": 16,
     "metadata": {},
     "output_type": "execute_result"
    }
   ],
   "source": [
    "ts"
   ]
  },
  {
   "cell_type": "code",
   "execution_count": 17,
   "id": "62aeece0",
   "metadata": {
    "scrolled": false
   },
   "outputs": [
    {
     "data": {
      "text/plain": [
       "Timestamp('2011-01-07 00:00:00')"
      ]
     },
     "execution_count": 17,
     "metadata": {},
     "output_type": "execute_result"
    }
   ],
   "source": [
    "stamp = ts.index[2]\n",
    "\n",
    "stamp"
   ]
  },
  {
   "cell_type": "code",
   "execution_count": 18,
   "id": "17b470d3",
   "metadata": {},
   "outputs": [
    {
     "data": {
      "text/plain": [
       "1.271552641486588"
      ]
     },
     "execution_count": 18,
     "metadata": {},
     "output_type": "execute_result"
    }
   ],
   "source": [
    "ts[stamp]"
   ]
  },
  {
   "cell_type": "markdown",
   "id": "c2c45ba4",
   "metadata": {},
   "source": [
    "As a convenience, you can also pass a string that is interpretable as a date:"
   ]
  },
  {
   "cell_type": "code",
   "execution_count": 19,
   "id": "5678a136",
   "metadata": {},
   "outputs": [
    {
     "data": {
      "text/plain": [
       "2011-01-02    1.976024\n",
       "2011-01-05   -0.030445\n",
       "2011-01-07    1.271553\n",
       "2011-01-08   -0.302420\n",
       "2011-01-10   -1.120660\n",
       "2011-01-12   -0.030866\n",
       "dtype: float64"
      ]
     },
     "execution_count": 19,
     "metadata": {},
     "output_type": "execute_result"
    }
   ],
   "source": [
    "ts"
   ]
  },
  {
   "cell_type": "code",
   "execution_count": 20,
   "id": "6d73f330",
   "metadata": {},
   "outputs": [
    {
     "data": {
      "text/plain": [
       "1.271552641486588"
      ]
     },
     "execution_count": 20,
     "metadata": {},
     "output_type": "execute_result"
    }
   ],
   "source": [
    "ts['Jan/07/2011']"
   ]
  },
  {
   "cell_type": "code",
   "execution_count": 21,
   "id": "c64e3649",
   "metadata": {
    "scrolled": true
   },
   "outputs": [
    {
     "data": {
      "text/plain": [
       "1.271552641486588"
      ]
     },
     "execution_count": 21,
     "metadata": {},
     "output_type": "execute_result"
    }
   ],
   "source": [
    "ts['20110107']"
   ]
  },
  {
   "cell_type": "markdown",
   "id": "77259845",
   "metadata": {},
   "source": [
    "For longer time series, a year or only a year and month can be passed to easily select slices of data:"
   ]
  },
  {
   "cell_type": "code",
   "execution_count": 22,
   "id": "244c3f79",
   "metadata": {},
   "outputs": [
    {
     "data": {
      "text/plain": [
       "2000-01-01   -0.953493\n",
       "2000-01-02    0.121024\n",
       "2000-01-03    1.625070\n",
       "2000-01-04    0.942599\n",
       "2000-01-05    0.950422\n",
       "                ...   \n",
       "2002-09-22   -1.724148\n",
       "2002-09-23    0.350723\n",
       "2002-09-24   -0.241075\n",
       "2002-09-25    1.271666\n",
       "2002-09-26    0.142564\n",
       "Freq: D, Length: 1000, dtype: float64"
      ]
     },
     "execution_count": 22,
     "metadata": {},
     "output_type": "execute_result"
    }
   ],
   "source": [
    "longer_ts = pd.Series(np.random.randn(1000), index=pd.date_range('1/1/2000', periods=1000))\n",
    "\n",
    "longer_ts"
   ]
  },
  {
   "cell_type": "code",
   "execution_count": 23,
   "id": "4e4ba695",
   "metadata": {},
   "outputs": [
    {
     "data": {
      "text/plain": [
       "2001-01-01    0.887724\n",
       "2001-01-02   -0.896955\n",
       "2001-01-03    0.562308\n",
       "2001-01-04    0.947738\n",
       "2001-01-05    0.866262\n",
       "                ...   \n",
       "2001-12-27    0.661008\n",
       "2001-12-28    1.457987\n",
       "2001-12-29   -0.581081\n",
       "2001-12-30    0.307636\n",
       "2001-12-31   -0.132754\n",
       "Freq: D, Length: 365, dtype: float64"
      ]
     },
     "execution_count": 23,
     "metadata": {},
     "output_type": "execute_result"
    }
   ],
   "source": [
    "longer_ts['2001']"
   ]
  },
  {
   "cell_type": "markdown",
   "id": "c661bd55",
   "metadata": {},
   "source": [
    "Here, the string '2001' is interpreted as a year and selects that time period. This also works if you specify the month:"
   ]
  },
  {
   "cell_type": "code",
   "execution_count": 24,
   "id": "6efc340d",
   "metadata": {},
   "outputs": [
    {
     "data": {
      "text/plain": [
       "2001-05-01   -1.075826\n",
       "2001-05-02   -0.368523\n",
       "2001-05-03   -0.724405\n",
       "2001-05-04   -0.678176\n",
       "2001-05-05    1.902710\n",
       "2001-05-06   -0.088312\n",
       "2001-05-07   -0.205817\n",
       "2001-05-08    1.168976\n",
       "2001-05-09    0.276810\n",
       "2001-05-10    0.661231\n",
       "2001-05-11   -1.114754\n",
       "2001-05-12    0.210153\n",
       "2001-05-13    0.241280\n",
       "2001-05-14    0.925500\n",
       "2001-05-15   -0.463700\n",
       "2001-05-16   -1.063321\n",
       "2001-05-17    0.405435\n",
       "2001-05-18   -0.868674\n",
       "2001-05-19   -0.814850\n",
       "2001-05-20    0.035860\n",
       "2001-05-21    0.495335\n",
       "2001-05-22    0.095867\n",
       "2001-05-23    1.667603\n",
       "2001-05-24    0.007068\n",
       "2001-05-25   -0.626161\n",
       "2001-05-26   -0.304650\n",
       "2001-05-27   -1.162671\n",
       "2001-05-28    0.466192\n",
       "2001-05-29    0.584128\n",
       "2001-05-30    1.317576\n",
       "2001-05-31    0.317257\n",
       "Freq: D, dtype: float64"
      ]
     },
     "execution_count": 24,
     "metadata": {},
     "output_type": "execute_result"
    }
   ],
   "source": [
    "longer_ts['2001-05']"
   ]
  },
  {
   "cell_type": "markdown",
   "id": "6e64e4c9",
   "metadata": {},
   "source": [
    "Slicing with datetime objects works as well:"
   ]
  },
  {
   "cell_type": "code",
   "execution_count": 25,
   "id": "7c597615",
   "metadata": {},
   "outputs": [
    {
     "data": {
      "text/plain": [
       "2011-01-02    1.976024\n",
       "2011-01-05   -0.030445\n",
       "2011-01-07    1.271553\n",
       "2011-01-08   -0.302420\n",
       "2011-01-10   -1.120660\n",
       "2011-01-12   -0.030866\n",
       "dtype: float64"
      ]
     },
     "execution_count": 25,
     "metadata": {},
     "output_type": "execute_result"
    }
   ],
   "source": [
    "ts"
   ]
  },
  {
   "cell_type": "code",
   "execution_count": 26,
   "id": "e7c5ade9",
   "metadata": {},
   "outputs": [
    {
     "data": {
      "text/plain": [
       "2011-01-07    1.271553\n",
       "2011-01-08   -0.302420\n",
       "2011-01-10   -1.120660\n",
       "2011-01-12   -0.030866\n",
       "dtype: float64"
      ]
     },
     "execution_count": 26,
     "metadata": {},
     "output_type": "execute_result"
    }
   ],
   "source": [
    "ts['1/7/2011':]"
   ]
  },
  {
   "cell_type": "markdown",
   "id": "facfd9b7",
   "metadata": {},
   "source": [
    "Because most time series data is ordered chronologically, you can slice with timestamps not contained in a time series to perform a range query:"
   ]
  },
  {
   "cell_type": "code",
   "execution_count": 27,
   "id": "8c0102cb",
   "metadata": {},
   "outputs": [
    {
     "data": {
      "text/plain": [
       "2011-01-07    1.271553\n",
       "2011-01-08   -0.302420\n",
       "2011-01-10   -1.120660\n",
       "dtype: float64"
      ]
     },
     "execution_count": 27,
     "metadata": {},
     "output_type": "execute_result"
    }
   ],
   "source": [
    "ts['Jan/6/2011':'1/11/2011']"
   ]
  },
  {
   "cell_type": "markdown",
   "id": "65f7b232",
   "metadata": {},
   "source": [
    "As before, you can pass **either** a string date, datetime, or timestamp.\n",
    "\n",
    "All of this holds true for <code>DataFrame</code> as well, indexing on its rows:"
   ]
  },
  {
   "cell_type": "code",
   "execution_count": 28,
   "id": "6d57743b",
   "metadata": {},
   "outputs": [
    {
     "data": {
      "text/html": [
       "<div>\n",
       "<style scoped>\n",
       "    .dataframe tbody tr th:only-of-type {\n",
       "        vertical-align: middle;\n",
       "    }\n",
       "\n",
       "    .dataframe tbody tr th {\n",
       "        vertical-align: top;\n",
       "    }\n",
       "\n",
       "    .dataframe thead th {\n",
       "        text-align: right;\n",
       "    }\n",
       "</style>\n",
       "<table border=\"1\" class=\"dataframe\">\n",
       "  <thead>\n",
       "    <tr style=\"text-align: right;\">\n",
       "      <th></th>\n",
       "      <th>Beijing</th>\n",
       "      <th>Shanghai</th>\n",
       "      <th>Guangdong</th>\n",
       "      <th>Fujian</th>\n",
       "    </tr>\n",
       "  </thead>\n",
       "  <tbody>\n",
       "    <tr>\n",
       "      <th>2000-01-05</th>\n",
       "      <td>1.636802</td>\n",
       "      <td>-0.133292</td>\n",
       "      <td>-1.231817</td>\n",
       "      <td>1.797256</td>\n",
       "    </tr>\n",
       "    <tr>\n",
       "      <th>2000-01-12</th>\n",
       "      <td>0.609883</td>\n",
       "      <td>0.292168</td>\n",
       "      <td>1.576165</td>\n",
       "      <td>-0.511653</td>\n",
       "    </tr>\n",
       "    <tr>\n",
       "      <th>2000-01-19</th>\n",
       "      <td>-0.898964</td>\n",
       "      <td>-0.189264</td>\n",
       "      <td>-1.185821</td>\n",
       "      <td>-0.916561</td>\n",
       "    </tr>\n",
       "    <tr>\n",
       "      <th>2000-01-26</th>\n",
       "      <td>-1.940313</td>\n",
       "      <td>0.161989</td>\n",
       "      <td>-0.080756</td>\n",
       "      <td>-0.659727</td>\n",
       "    </tr>\n",
       "    <tr>\n",
       "      <th>2000-02-02</th>\n",
       "      <td>-0.474919</td>\n",
       "      <td>-0.541740</td>\n",
       "      <td>0.144476</td>\n",
       "      <td>-1.843400</td>\n",
       "    </tr>\n",
       "    <tr>\n",
       "      <th>...</th>\n",
       "      <td>...</td>\n",
       "      <td>...</td>\n",
       "      <td>...</td>\n",
       "      <td>...</td>\n",
       "    </tr>\n",
       "    <tr>\n",
       "      <th>2001-10-31</th>\n",
       "      <td>0.233839</td>\n",
       "      <td>0.177758</td>\n",
       "      <td>-0.270259</td>\n",
       "      <td>-0.288995</td>\n",
       "    </tr>\n",
       "    <tr>\n",
       "      <th>2001-11-07</th>\n",
       "      <td>-0.508430</td>\n",
       "      <td>0.261283</td>\n",
       "      <td>0.819676</td>\n",
       "      <td>1.150036</td>\n",
       "    </tr>\n",
       "    <tr>\n",
       "      <th>2001-11-14</th>\n",
       "      <td>-1.025691</td>\n",
       "      <td>-0.068338</td>\n",
       "      <td>0.407646</td>\n",
       "      <td>-0.162213</td>\n",
       "    </tr>\n",
       "    <tr>\n",
       "      <th>2001-11-21</th>\n",
       "      <td>-0.173569</td>\n",
       "      <td>-0.004976</td>\n",
       "      <td>-0.054656</td>\n",
       "      <td>-0.519738</td>\n",
       "    </tr>\n",
       "    <tr>\n",
       "      <th>2001-11-28</th>\n",
       "      <td>-0.719963</td>\n",
       "      <td>-0.141201</td>\n",
       "      <td>1.248739</td>\n",
       "      <td>-0.314746</td>\n",
       "    </tr>\n",
       "  </tbody>\n",
       "</table>\n",
       "<p>100 rows × 4 columns</p>\n",
       "</div>"
      ],
      "text/plain": [
       "             Beijing  Shanghai  Guangdong    Fujian\n",
       "2000-01-05  1.636802 -0.133292  -1.231817  1.797256\n",
       "2000-01-12  0.609883  0.292168   1.576165 -0.511653\n",
       "2000-01-19 -0.898964 -0.189264  -1.185821 -0.916561\n",
       "2000-01-26 -1.940313  0.161989  -0.080756 -0.659727\n",
       "2000-02-02 -0.474919 -0.541740   0.144476 -1.843400\n",
       "...              ...       ...        ...       ...\n",
       "2001-10-31  0.233839  0.177758  -0.270259 -0.288995\n",
       "2001-11-07 -0.508430  0.261283   0.819676  1.150036\n",
       "2001-11-14 -1.025691 -0.068338   0.407646 -0.162213\n",
       "2001-11-21 -0.173569 -0.004976  -0.054656 -0.519738\n",
       "2001-11-28 -0.719963 -0.141201   1.248739 -0.314746\n",
       "\n",
       "[100 rows x 4 columns]"
      ]
     },
     "execution_count": 28,
     "metadata": {},
     "output_type": "execute_result"
    }
   ],
   "source": [
    "dates = pd.date_range('1/1/2000', periods=100, freq='W-WED')\n",
    "\n",
    "long_df = pd.DataFrame(np.random.randn(100, 4),\n",
    "                       index=dates,\n",
    "                       columns=['Beijing','Shanghai','Guangdong','Fujian'])\n",
    "\n",
    "long_df"
   ]
  },
  {
   "cell_type": "code",
   "execution_count": 29,
   "id": "4236d361",
   "metadata": {},
   "outputs": [
    {
     "data": {
      "text/html": [
       "<div>\n",
       "<style scoped>\n",
       "    .dataframe tbody tr th:only-of-type {\n",
       "        vertical-align: middle;\n",
       "    }\n",
       "\n",
       "    .dataframe tbody tr th {\n",
       "        vertical-align: top;\n",
       "    }\n",
       "\n",
       "    .dataframe thead th {\n",
       "        text-align: right;\n",
       "    }\n",
       "</style>\n",
       "<table border=\"1\" class=\"dataframe\">\n",
       "  <thead>\n",
       "    <tr style=\"text-align: right;\">\n",
       "      <th></th>\n",
       "      <th>Beijing</th>\n",
       "      <th>Shanghai</th>\n",
       "      <th>Guangdong</th>\n",
       "      <th>Fujian</th>\n",
       "    </tr>\n",
       "  </thead>\n",
       "  <tbody>\n",
       "    <tr>\n",
       "      <th>2001-05-02</th>\n",
       "      <td>0.131639</td>\n",
       "      <td>-0.943033</td>\n",
       "      <td>-1.118936</td>\n",
       "      <td>1.249002</td>\n",
       "    </tr>\n",
       "    <tr>\n",
       "      <th>2001-05-09</th>\n",
       "      <td>1.025719</td>\n",
       "      <td>0.822297</td>\n",
       "      <td>0.371603</td>\n",
       "      <td>0.185495</td>\n",
       "    </tr>\n",
       "    <tr>\n",
       "      <th>2001-05-16</th>\n",
       "      <td>1.934397</td>\n",
       "      <td>-0.009675</td>\n",
       "      <td>-0.765639</td>\n",
       "      <td>0.935663</td>\n",
       "    </tr>\n",
       "    <tr>\n",
       "      <th>2001-05-23</th>\n",
       "      <td>-0.370031</td>\n",
       "      <td>-0.791216</td>\n",
       "      <td>-0.723535</td>\n",
       "      <td>-1.704712</td>\n",
       "    </tr>\n",
       "    <tr>\n",
       "      <th>2001-05-30</th>\n",
       "      <td>-1.889028</td>\n",
       "      <td>0.885304</td>\n",
       "      <td>0.055354</td>\n",
       "      <td>0.527706</td>\n",
       "    </tr>\n",
       "  </tbody>\n",
       "</table>\n",
       "</div>"
      ],
      "text/plain": [
       "             Beijing  Shanghai  Guangdong    Fujian\n",
       "2001-05-02  0.131639 -0.943033  -1.118936  1.249002\n",
       "2001-05-09  1.025719  0.822297   0.371603  0.185495\n",
       "2001-05-16  1.934397 -0.009675  -0.765639  0.935663\n",
       "2001-05-23 -0.370031 -0.791216  -0.723535 -1.704712\n",
       "2001-05-30 -1.889028  0.885304   0.055354  0.527706"
      ]
     },
     "execution_count": 29,
     "metadata": {},
     "output_type": "execute_result"
    }
   ],
   "source": [
    "long_df.loc['2001---May']"
   ]
  },
  {
   "cell_type": "markdown",
   "id": "864d002c",
   "metadata": {},
   "source": [
    "***\n",
    "## Date Ranges, Frequencies, and Shifting\n",
    "\n",
    "Time series in pandas are assumed to be irregular; that is, they have no fixed frequency.\n",
    "\n",
    "For many applications this is sufficient. However, it's often desirable to work relative to a fixed frequency, such as daily, monthly, or every 15 minutes, even if that means introducing missing values into a time series.\n",
    "\n",
    "Fortunately pandas has a full suite of standard time series frequencies and tools for **resampling, inferring frequencies, and generating fixed-frequency date ranges**.\n",
    "\n",
    "While we used it previously without explanation, <code>pandas.date_range</code> is responsible for generating a <code>DatetimeIndex</code> with an indicated length according to a particular frequency:"
   ]
  },
  {
   "cell_type": "code",
   "execution_count": 30,
   "id": "9a7b323e",
   "metadata": {},
   "outputs": [
    {
     "data": {
      "text/plain": [
       "DatetimeIndex(['2012-04-01', '2012-04-02', '2012-04-03', '2012-04-04',\n",
       "               '2012-04-05', '2012-04-06', '2012-04-07', '2012-04-08',\n",
       "               '2012-04-09', '2012-04-10', '2012-04-11', '2012-04-12',\n",
       "               '2012-04-13', '2012-04-14', '2012-04-15', '2012-04-16',\n",
       "               '2012-04-17', '2012-04-18', '2012-04-19', '2012-04-20',\n",
       "               '2012-04-21', '2012-04-22', '2012-04-23', '2012-04-24',\n",
       "               '2012-04-25', '2012-04-26', '2012-04-27', '2012-04-28',\n",
       "               '2012-04-29', '2012-04-30', '2012-05-01', '2012-05-02',\n",
       "               '2012-05-03', '2012-05-04', '2012-05-05', '2012-05-06',\n",
       "               '2012-05-07', '2012-05-08', '2012-05-09', '2012-05-10',\n",
       "               '2012-05-11', '2012-05-12', '2012-05-13', '2012-05-14',\n",
       "               '2012-05-15', '2012-05-16', '2012-05-17', '2012-05-18',\n",
       "               '2012-05-19', '2012-05-20', '2012-05-21', '2012-05-22',\n",
       "               '2012-05-23', '2012-05-24', '2012-05-25', '2012-05-26',\n",
       "               '2012-05-27', '2012-05-28', '2012-05-29', '2012-05-30',\n",
       "               '2012-05-31', '2012-06-01'],\n",
       "              dtype='datetime64[ns]', freq='D')"
      ]
     },
     "execution_count": 30,
     "metadata": {},
     "output_type": "execute_result"
    }
   ],
   "source": [
    "index = pd.date_range('2012-04-01', '2012-06-01')\n",
    "\n",
    "index"
   ]
  },
  {
   "cell_type": "markdown",
   "id": "36dae35c",
   "metadata": {},
   "source": [
    "By default, <code>date_range()</code> generates **daily** timestamps.\n",
    "\n",
    "If you pass only a start or end date, you must pass a number of periods to generate:"
   ]
  },
  {
   "cell_type": "code",
   "execution_count": 31,
   "id": "fcbf417c",
   "metadata": {},
   "outputs": [
    {
     "data": {
      "text/plain": [
       "DatetimeIndex(['2012-04-01', '2012-04-02', '2012-04-03', '2012-04-04',\n",
       "               '2012-04-05', '2012-04-06', '2012-04-07', '2012-04-08',\n",
       "               '2012-04-09', '2012-04-10', '2012-04-11', '2012-04-12',\n",
       "               '2012-04-13', '2012-04-14', '2012-04-15', '2012-04-16',\n",
       "               '2012-04-17', '2012-04-18', '2012-04-19', '2012-04-20'],\n",
       "              dtype='datetime64[ns]', freq='D')"
      ]
     },
     "execution_count": 31,
     "metadata": {},
     "output_type": "execute_result"
    }
   ],
   "source": [
    "pd.date_range(start='2012-04-01', periods=20)"
   ]
  },
  {
   "cell_type": "code",
   "execution_count": 32,
   "id": "05dd1786",
   "metadata": {},
   "outputs": [
    {
     "data": {
      "text/plain": [
       "DatetimeIndex(['2012-05-13', '2012-05-14', '2012-05-15', '2012-05-16',\n",
       "               '2012-05-17', '2012-05-18', '2012-05-19', '2012-05-20',\n",
       "               '2012-05-21', '2012-05-22', '2012-05-23', '2012-05-24',\n",
       "               '2012-05-25', '2012-05-26', '2012-05-27', '2012-05-28',\n",
       "               '2012-05-29', '2012-05-30', '2012-05-31', '2012-06-01'],\n",
       "              dtype='datetime64[ns]', freq='D')"
      ]
     },
     "execution_count": 32,
     "metadata": {},
     "output_type": "execute_result"
    }
   ],
   "source": [
    "pd.date_range(end='2012-06-01', periods=20)"
   ]
  },
  {
   "cell_type": "markdown",
   "id": "9f183e2a",
   "metadata": {},
   "source": [
    "The start and end dates define strict boundaries for the generated date index.\n",
    "\n",
    "For example, if you wanted a date index containing the last business day of each month, you would pass the <code>'BM'</code> frequency (business end of month; see more complete listing of frequencies in the following table) and only dates falling on or inside the date interval will be included:"
   ]
  },
  {
   "cell_type": "code",
   "execution_count": 33,
   "id": "d82ed082",
   "metadata": {},
   "outputs": [
    {
     "data": {
      "text/plain": [
       "DatetimeIndex(['2000-01-31', '2000-02-29', '2000-03-31', '2000-04-28',\n",
       "               '2000-05-31', '2000-06-30', '2000-07-31', '2000-08-31',\n",
       "               '2000-09-29', '2000-10-31', '2000-11-30'],\n",
       "              dtype='datetime64[ns]', freq='BM')"
      ]
     },
     "execution_count": 33,
     "metadata": {},
     "output_type": "execute_result"
    }
   ],
   "source": [
    "pd.date_range('2000-01-01', '2000-12-01', freq='BM')"
   ]
  },
  {
   "cell_type": "markdown",
   "id": "e3fac22c",
   "metadata": {},
   "source": [
    "*  Base time series frequencies (not comprehensive)\n",
    "\n",
    "|Alias | Offset type | Description |\n",
    "|:- | :- | :- |\n",
    "|D|Day|Calendar daily\n",
    "|B|BusinessDay|Business daily\n",
    "|H|Hour|Hourly\n",
    "|T or min|Minute|Minutely\n",
    "|S|Second|Secondly\n",
    "|L or ms|Milli|Millisecond (1/1,000 of 1 second)\n",
    "|U|Micro|Microsecond (1/1,000,000 of 1 second)\n",
    "|M|MonthEnd|Last calendar day of month\n",
    "|BM|BusinessMonthEnd|Last business day (weekday) of month\n",
    "|MS|MonthBegin|First calendar day of month\n",
    "|BMS|BusinessMonthBegin|First weekday of month\n",
    "|W-MON, W-TUE, ...|Week|Weekly on given day of week (MON, TUE, WED, THU, FRI, SAT, or SUN)\n",
    "|WOM-1MON, WOM-2MON, ...|WeekOfMonth|Generate weekly dates in the first, second, third, or fourth week of the month (e.g.,WOM-3FRIfor the third Friday of each month)\n",
    "|Q-JAN, Q-FEB, ...|QuarterEnd|Quarterly dates anchored on last calendar day of each month, for year ending in indicated month (JAN, FEB, MAR, APR, MAY, JUN, JUL, AUG, SEP, OCT, NOV, or DEC)\n",
    "|BQ-JAN, BQ-FEB, ...|BusinessQuarterEnd|Quarterly dates anchored on last weekday day of each month, for year ending in indicated month\n",
    "|QS-JAN, QS-FEB, ...|QuarterBegin|Quarterly dates anchored on first calendar day of each month, for year ending in indicated month\n",
    "|BQS-JAN, BQS-FEB, ...|BusinessQuarterBegin|Quarterly dates anchored on first weekday day of each month, for year ending in indicated month\n",
    "|A-JAN, A-FEB, ...|YearEnd|Annual dates anchored on last calendar day of given month (JAN, FEB, MAR, APR, MAY, JUN, JUL, AUG, SEP, OCT, NOV, or DEC)\n",
    "|BA-JAN, BA-FEB, ...|BusinessYearEnd|Annual dates anchored on last weekday of given month\n",
    "|AS-JAN, AS-FEB, ...|YearBegin|Annual dates anchored on first day of given month\n",
    "|BAS-JAN, BAS-FEB, ...|BusinessYearBegin|Annual dates anchored on first weekday of given month\n",
    "\n",
    "***\n",
    "### Frequencies and Date Offsets\n",
    "Frequencies in pandas are composed of a **base frequency** and a **multiplier**.\n",
    "\n",
    "Base frequencies are typically referred to by a string alias, like <code>'M'</code> for monthly or <code>'H'</code> for hourly. Putting an integer before the base frequency creates a multiple:"
   ]
  },
  {
   "cell_type": "code",
   "execution_count": 34,
   "id": "96394b0e",
   "metadata": {},
   "outputs": [
    {
     "data": {
      "text/plain": [
       "DatetimeIndex(['2000-01-01 00:00:00', '2000-01-01 04:00:00',\n",
       "               '2000-01-01 08:00:00', '2000-01-01 12:00:00',\n",
       "               '2000-01-01 16:00:00', '2000-01-01 20:00:00',\n",
       "               '2000-01-02 00:00:00', '2000-01-02 04:00:00',\n",
       "               '2000-01-02 08:00:00', '2000-01-02 12:00:00',\n",
       "               '2000-01-02 16:00:00', '2000-01-02 20:00:00',\n",
       "               '2000-01-03 00:00:00', '2000-01-03 04:00:00',\n",
       "               '2000-01-03 08:00:00', '2000-01-03 12:00:00',\n",
       "               '2000-01-03 16:00:00', '2000-01-03 20:00:00'],\n",
       "              dtype='datetime64[ns]', freq='4H')"
      ]
     },
     "execution_count": 34,
     "metadata": {},
     "output_type": "execute_result"
    }
   ],
   "source": [
    "pd.date_range('2000-01-01', '2000-01-03 23:59', freq='4H')"
   ]
  },
  {
   "cell_type": "markdown",
   "id": "01749e62",
   "metadata": {},
   "source": [
    "Some frequencies describe points in time that are **not** evenly spaced. For example, <code>'M'</code> (calendar month end) and <code>'BM'</code> (last business/weekday of month) depend on the number of days in a month and whether the month ends on a weekend or not. We refer to these as **anchored offsets**.\n",
    "\n",
    "One useful frequency class is \"week of month,\" starting with <code>'WOM'</code>. This enables you to get dates like the third Friday of each month:"
   ]
  },
  {
   "cell_type": "code",
   "execution_count": 35,
   "id": "fe14a683",
   "metadata": {},
   "outputs": [
    {
     "data": {
      "text/plain": [
       "DatetimeIndex(['2012-01-20', '2012-02-17', '2012-03-16', '2012-04-20',\n",
       "               '2012-05-18', '2012-06-15', '2012-07-20', '2012-08-17'],\n",
       "              dtype='datetime64[ns]', freq='WOM-3FRI')"
      ]
     },
     "execution_count": 35,
     "metadata": {},
     "output_type": "execute_result"
    }
   ],
   "source": [
    "third_friday = pd.date_range('2012-01-01', '2012-09-01', freq='WOM-3FRI')\n",
    "\n",
    "third_friday"
   ]
  },
  {
   "cell_type": "markdown",
   "id": "8f6079fb",
   "metadata": {},
   "source": [
    "***\n",
    "### Shifting (Leading and Lagging) Data\n",
    "\n",
    "**Shifting** refers to moving data backward and forward through time.\n",
    "\n",
    "Both Series and DataFrame have a <code>shift()</code> method for doing naive shifts forward or backward, leaving the index unmodified:"
   ]
  },
  {
   "cell_type": "code",
   "execution_count": 36,
   "id": "dff8223d",
   "metadata": {},
   "outputs": [
    {
     "data": {
      "text/plain": [
       "2000-01-31   -0.606474\n",
       "2000-02-29   -0.681297\n",
       "2000-03-31    1.738421\n",
       "2000-04-30    1.040436\n",
       "Freq: M, dtype: float64"
      ]
     },
     "execution_count": 36,
     "metadata": {},
     "output_type": "execute_result"
    }
   ],
   "source": [
    "ts = pd.Series(np.random.randn(4),\n",
    "               index=pd.date_range('1/1/2000', periods=4, freq='M'))\n",
    "\n",
    "ts"
   ]
  },
  {
   "cell_type": "code",
   "execution_count": 37,
   "id": "3cdb9e0b",
   "metadata": {
    "scrolled": true
   },
   "outputs": [
    {
     "data": {
      "text/plain": [
       "2000-01-31         NaN\n",
       "2000-02-29         NaN\n",
       "2000-03-31   -0.606474\n",
       "2000-04-30   -0.681297\n",
       "Freq: M, dtype: float64"
      ]
     },
     "execution_count": 37,
     "metadata": {},
     "output_type": "execute_result"
    }
   ],
   "source": [
    "ts.shift(2)"
   ]
  },
  {
   "cell_type": "code",
   "execution_count": 38,
   "id": "a2f7f4fe",
   "metadata": {},
   "outputs": [
    {
     "data": {
      "text/plain": [
       "2000-01-31    1.738421\n",
       "2000-02-29    1.040436\n",
       "2000-03-31         NaN\n",
       "2000-04-30         NaN\n",
       "Freq: M, dtype: float64"
      ]
     },
     "execution_count": 38,
     "metadata": {},
     "output_type": "execute_result"
    }
   ],
   "source": [
    "ts.shift(-2)"
   ]
  },
  {
   "cell_type": "markdown",
   "id": "c288af3e",
   "metadata": {},
   "source": [
    "When we shift like this, missing data is introduced either at the start or the end of the time series.\n",
    "\n",
    "A common use of shift is computing **percent changes in a time series**:"
   ]
  },
  {
   "cell_type": "code",
   "execution_count": 39,
   "id": "d38351d9",
   "metadata": {},
   "outputs": [
    {
     "data": {
      "text/plain": [
       "2000-01-31   -0.606474\n",
       "2000-02-29   -0.681297\n",
       "2000-03-31    1.738421\n",
       "2000-04-30    1.040436\n",
       "Freq: M, dtype: float64"
      ]
     },
     "execution_count": 39,
     "metadata": {},
     "output_type": "execute_result"
    }
   ],
   "source": [
    "ts"
   ]
  },
  {
   "cell_type": "code",
   "execution_count": 40,
   "id": "38f4e5da",
   "metadata": {
    "scrolled": false
   },
   "outputs": [
    {
     "data": {
      "text/plain": [
       "2000-01-31         NaN\n",
       "2000-02-29    0.123374\n",
       "2000-03-31   -3.551636\n",
       "2000-04-30   -0.401505\n",
       "Freq: M, dtype: float64"
      ]
     },
     "execution_count": 40,
     "metadata": {},
     "output_type": "execute_result"
    }
   ],
   "source": [
    "ts / ts.shift(1) - 1"
   ]
  },
  {
   "cell_type": "markdown",
   "id": "2574bfea",
   "metadata": {},
   "source": [
    "Because naive shifts leave the index unmodified, some data is **discarded**.\n",
    "\n",
    "Thus if the frequency is known, it can be passed to shift to advance the timestamps instead of simply the data:"
   ]
  },
  {
   "cell_type": "code",
   "execution_count": 41,
   "id": "4db874bd",
   "metadata": {},
   "outputs": [
    {
     "data": {
      "text/plain": [
       "2000-01-31   -0.606474\n",
       "2000-02-29   -0.681297\n",
       "2000-03-31    1.738421\n",
       "2000-04-30    1.040436\n",
       "Freq: M, dtype: float64"
      ]
     },
     "execution_count": 41,
     "metadata": {},
     "output_type": "execute_result"
    }
   ],
   "source": [
    "ts"
   ]
  },
  {
   "cell_type": "code",
   "execution_count": 42,
   "id": "f0856285",
   "metadata": {},
   "outputs": [
    {
     "data": {
      "text/plain": [
       "2000-03-31   -0.606474\n",
       "2000-04-30   -0.681297\n",
       "2000-05-31    1.738421\n",
       "2000-06-30    1.040436\n",
       "Freq: M, dtype: float64"
      ]
     },
     "execution_count": 42,
     "metadata": {},
     "output_type": "execute_result"
    }
   ],
   "source": [
    "ts.shift(2, freq='M')"
   ]
  },
  {
   "cell_type": "code",
   "execution_count": 43,
   "id": "dac4f549",
   "metadata": {},
   "outputs": [
    {
     "data": {
      "text/plain": [
       "2000-02-03   -0.606474\n",
       "2000-03-03   -0.681297\n",
       "2000-04-03    1.738421\n",
       "2000-05-03    1.040436\n",
       "dtype: float64"
      ]
     },
     "execution_count": 43,
     "metadata": {},
     "output_type": "execute_result"
    }
   ],
   "source": [
    "ts.shift(3, freq='D')"
   ]
  },
  {
   "cell_type": "markdown",
   "id": "f5462695",
   "metadata": {},
   "source": [
    "***\n",
    "## Periods and Period Arithmetic\n",
    "\n",
    "**Periods** represent timespans, like days, months, quarters, or years. The <code>Period</code> class represents this data type, requiring a string or integer and a frequency."
   ]
  },
  {
   "cell_type": "code",
   "execution_count": 44,
   "id": "3f9b80a9",
   "metadata": {},
   "outputs": [
    {
     "data": {
      "text/plain": [
       "Period('2007', 'A-DEC')"
      ]
     },
     "execution_count": 44,
     "metadata": {},
     "output_type": "execute_result"
    }
   ],
   "source": [
    "p = pd.Period(2007, freq='A-DEC')\n",
    "\n",
    "p"
   ]
  },
  {
   "cell_type": "markdown",
   "id": "7b98cd40",
   "metadata": {},
   "source": [
    "In this case, the Period object represents the full timespan from January 1, 2007, to December 31, 2007, inclusive.\n",
    "\n",
    "***\n",
    "### Period Frequency Conversion\n",
    "Periods and PeriodIndex objects can be converted to another frequency with their <code>asfreq()</code> method.\n",
    "\n",
    "As an example, suppose we had an annual period and wanted to convert it into a monthly period either at the start or end of the year. This is fairly straightforward:"
   ]
  },
  {
   "cell_type": "code",
   "execution_count": 45,
   "id": "f3260fcb",
   "metadata": {},
   "outputs": [
    {
     "data": {
      "text/plain": [
       "Period('2007-01', 'M')"
      ]
     },
     "execution_count": 45,
     "metadata": {},
     "output_type": "execute_result"
    }
   ],
   "source": [
    "p.asfreq('M', how='start')"
   ]
  },
  {
   "cell_type": "code",
   "execution_count": 46,
   "id": "e82b824a",
   "metadata": {},
   "outputs": [
    {
     "data": {
      "text/plain": [
       "Period('2007-12', 'M')"
      ]
     },
     "execution_count": 46,
     "metadata": {},
     "output_type": "execute_result"
    }
   ],
   "source": [
    "p.asfreq('M', how='end')"
   ]
  },
  {
   "cell_type": "markdown",
   "id": "833c6165",
   "metadata": {},
   "source": [
    "* Period frequency conversion illustration\n",
    "\n",
    "![avatar](https://raw.githubusercontent.com/lazydingding/gallery/main/Screen%20Shot%202022-04-19%20at%2011.13.09.png)\n",
    "\n",
    "***\n",
    "### Quarterly Period Frequencies\n",
    "\n",
    "Quarterly data is standard in accounting, finance, and other fields. Much quarterly data is reported relative to a **fiscal year end**, typically the last calendar or business day of one of the 12 months of the year.\n",
    "\n",
    "pandas supports all 12 possible quarterly frequencies as Q-JAN through Q-DEC:"
   ]
  },
  {
   "cell_type": "code",
   "execution_count": 47,
   "id": "29879006",
   "metadata": {},
   "outputs": [
    {
     "data": {
      "text/plain": [
       "Period('2012Q4', 'Q-JAN')"
      ]
     },
     "execution_count": 47,
     "metadata": {},
     "output_type": "execute_result"
    }
   ],
   "source": [
    "p = pd.Period('2012Q4', freq='Q-JAN')\n",
    "\n",
    "p"
   ]
  },
  {
   "cell_type": "markdown",
   "id": "c6390ea2",
   "metadata": {},
   "source": [
    "In the case of fiscal year ending in January, 2012Q4 runs from November through January, which you can check by converting to daily frequency:"
   ]
  },
  {
   "cell_type": "code",
   "execution_count": 48,
   "id": "cbbbc1d3",
   "metadata": {},
   "outputs": [
    {
     "data": {
      "text/plain": [
       "Period('2011-11-01', 'D')"
      ]
     },
     "execution_count": 48,
     "metadata": {},
     "output_type": "execute_result"
    }
   ],
   "source": [
    "p.asfreq('D', 'start')"
   ]
  },
  {
   "cell_type": "code",
   "execution_count": 49,
   "id": "2212ff8b",
   "metadata": {},
   "outputs": [
    {
     "data": {
      "text/plain": [
       "Period('2012-01-31', 'D')"
      ]
     },
     "execution_count": 49,
     "metadata": {},
     "output_type": "execute_result"
    }
   ],
   "source": [
    "p.asfreq('D', 'end')"
   ]
  },
  {
   "cell_type": "markdown",
   "id": "c76b272b",
   "metadata": {},
   "source": [
    "* Different quarterly frequency conventions\n",
    "\n",
    "![avatar](https://raw.githubusercontent.com/lazydingding/gallery/main/Screen%20Shot%202022-04-19%20at%2011.15.10.png)\n",
    "\n",
    "***\n",
    "## Resampling and Frequency Conversion\n",
    "\n",
    "**Resampling** refers to the process of converting a time series from one frequency to another.\n",
    "\n",
    "Aggregating higher frequency data to lower frequency is called **downsampling**, while converting lower frequency to higher frequency is called **upsampling**.\n",
    "\n",
    "pandas objects are equipped with a <code>resample()</code> method, which is the workhorse function for all frequency conversion.\n",
    "\n",
    "<code>resample()</code> has a similar API to <code>groupby()</code>; you call resample to group the data, then call an aggregation function:"
   ]
  },
  {
   "cell_type": "code",
   "execution_count": 50,
   "id": "273b2e76",
   "metadata": {},
   "outputs": [
    {
     "data": {
      "text/plain": [
       "2000-01-01    0.954870\n",
       "2000-01-02    0.109680\n",
       "2000-01-03   -0.050917\n",
       "2000-01-04    0.247322\n",
       "2000-01-05    2.024514\n",
       "                ...   \n",
       "2000-04-05   -1.152745\n",
       "2000-04-06    1.721990\n",
       "2000-04-07   -0.199907\n",
       "2000-04-08    0.362957\n",
       "2000-04-09    0.957613\n",
       "Freq: D, Length: 100, dtype: float64"
      ]
     },
     "execution_count": 50,
     "metadata": {},
     "output_type": "execute_result"
    }
   ],
   "source": [
    "rng = pd.date_range('2000-01-01', periods=100, freq='D')\n",
    "\n",
    "ts = pd.Series(np.random.randn(len(rng)), index=rng)\n",
    "\n",
    "ts  "
   ]
  },
  {
   "cell_type": "code",
   "execution_count": 51,
   "id": "84db8ec1",
   "metadata": {},
   "outputs": [
    {
     "data": {
      "text/plain": [
       "2000-01-31    0.396260\n",
       "2000-02-29   -0.138347\n",
       "2000-03-31   -0.199954\n",
       "2000-04-30    0.034279\n",
       "Freq: M, dtype: float64"
      ]
     },
     "execution_count": 51,
     "metadata": {},
     "output_type": "execute_result"
    }
   ],
   "source": [
    "ts.resample('M').mean()"
   ]
  },
  {
   "cell_type": "code",
   "execution_count": 52,
   "id": "8d7704ed",
   "metadata": {},
   "outputs": [
    {
     "data": {
      "text/plain": [
       "2000-01    0.396260\n",
       "2000-02   -0.138347\n",
       "2000-03   -0.199954\n",
       "2000-04    0.034279\n",
       "Freq: M, dtype: float64"
      ]
     },
     "execution_count": 52,
     "metadata": {},
     "output_type": "execute_result"
    }
   ],
   "source": [
    "ts.resample('M', kind='period').mean()"
   ]
  },
  {
   "cell_type": "markdown",
   "id": "6f4bed74",
   "metadata": {},
   "source": [
    "<code>resample()</code> is a flexible and high-performance method that can be used to process very large time series. The following table summarizes some of its options.\n",
    "\n",
    "* Resample method arguments\n",
    "\n",
    "|Argument | Description |\n",
    "|:- | :- | \n",
    "|freq|String or DateOffset indicating desired resampled frequency (e.g., ‘M', ’5min', or Second(15))\n",
    "|axis|Axis to resample on; default axis=0\n",
    "|fill_method|How to interpolate when upsampling, as in 'ffill' or 'bfill'; by default does no interpolation\n",
    "|closed|In downsampling, which end of each interval is closed (inclusive), 'right' or 'left'\n",
    "|label|In downsampling, how to label the aggregated result, with the 'right' or 'left' bin edge (e.g., the 9:30 to 9:35 five-minute interval could be labeled9:30or9:35)\n",
    "|loffset|Time adjustment to the bin labels, such as '-1s' / Second(-1) to shift the aggregate labels one second earlier\n",
    "|limit|When forward or backward filling, the maximum number of periods to fill\n",
    "|kind|Aggregate to periods ('period') or timestamps ('timestamp'); defaults to the type of index the time series has\n",
    "|convention|When resampling periods, the convention ('start' or 'end') for convert\n",
    "\n",
    "***\n",
    "### Downsampling\n",
    "\n",
    "Aggregating data to a regular, lower frequency is a pretty normal time series task.\n",
    "\n",
    "The desired frequency defines bin edges that are used to slice the time series into pieces to aggregate. For example, to convert to monthly, you need to chop up the data into one-month intervals.\n",
    "\n",
    "Each interval is said to be **half-open**; a data point can only belong to one interval, and the union of the intervals must make up the whole time frame.\n",
    "\n",
    "To illustrate, let’s look at some one-minute data:"
   ]
  },
  {
   "cell_type": "code",
   "execution_count": 53,
   "id": "09b38c73",
   "metadata": {},
   "outputs": [
    {
     "data": {
      "text/plain": [
       "2000-01-01 00:00:00     0\n",
       "2000-01-01 00:01:00     1\n",
       "2000-01-01 00:02:00     2\n",
       "2000-01-01 00:03:00     3\n",
       "2000-01-01 00:04:00     4\n",
       "2000-01-01 00:05:00     5\n",
       "2000-01-01 00:06:00     6\n",
       "2000-01-01 00:07:00     7\n",
       "2000-01-01 00:08:00     8\n",
       "2000-01-01 00:09:00     9\n",
       "2000-01-01 00:10:00    10\n",
       "2000-01-01 00:11:00    11\n",
       "Freq: T, dtype: int64"
      ]
     },
     "execution_count": 53,
     "metadata": {},
     "output_type": "execute_result"
    }
   ],
   "source": [
    "rng = pd.date_range('2000-01-01', periods=12, freq='T')\n",
    "\n",
    "ts = pd.Series(np.arange(12), index=rng)\n",
    "\n",
    "ts"
   ]
  },
  {
   "cell_type": "markdown",
   "id": "61f14adb",
   "metadata": {},
   "source": [
    "Suppose you wanted to aggregate this data into five-minute chunks or bars by taking the sum of each group:"
   ]
  },
  {
   "cell_type": "code",
   "execution_count": 54,
   "id": "226d00e9",
   "metadata": {},
   "outputs": [
    {
     "data": {
      "text/plain": [
       "2000-01-01 00:00:00    10\n",
       "2000-01-01 00:05:00    35\n",
       "2000-01-01 00:10:00    21\n",
       "Freq: 5T, dtype: int64"
      ]
     },
     "execution_count": 54,
     "metadata": {},
     "output_type": "execute_result"
    }
   ],
   "source": [
    "ts.resample('5min').sum()"
   ]
  },
  {
   "cell_type": "markdown",
   "id": "a91a4866",
   "metadata": {},
   "source": [
    "***\n",
    "### Upsampling and Interpolation\n",
    "\n",
    "When converting from a low frequency to a higher frequency, no aggregation is needed.\n",
    "\n",
    "Let's consider a DataFrame with some weekly data:"
   ]
  },
  {
   "cell_type": "code",
   "execution_count": 55,
   "id": "0b8ca806",
   "metadata": {},
   "outputs": [
    {
     "data": {
      "text/html": [
       "<div>\n",
       "<style scoped>\n",
       "    .dataframe tbody tr th:only-of-type {\n",
       "        vertical-align: middle;\n",
       "    }\n",
       "\n",
       "    .dataframe tbody tr th {\n",
       "        vertical-align: top;\n",
       "    }\n",
       "\n",
       "    .dataframe thead th {\n",
       "        text-align: right;\n",
       "    }\n",
       "</style>\n",
       "<table border=\"1\" class=\"dataframe\">\n",
       "  <thead>\n",
       "    <tr style=\"text-align: right;\">\n",
       "      <th></th>\n",
       "      <th>Colorado</th>\n",
       "      <th>Texas</th>\n",
       "      <th>New York</th>\n",
       "      <th>Ohio</th>\n",
       "    </tr>\n",
       "  </thead>\n",
       "  <tbody>\n",
       "    <tr>\n",
       "      <th>2000-01-05</th>\n",
       "      <td>-1.681419</td>\n",
       "      <td>-0.233672</td>\n",
       "      <td>0.307125</td>\n",
       "      <td>0.341754</td>\n",
       "    </tr>\n",
       "    <tr>\n",
       "      <th>2000-01-12</th>\n",
       "      <td>0.391169</td>\n",
       "      <td>-0.006416</td>\n",
       "      <td>1.638438</td>\n",
       "      <td>-0.028422</td>\n",
       "    </tr>\n",
       "  </tbody>\n",
       "</table>\n",
       "</div>"
      ],
      "text/plain": [
       "            Colorado     Texas  New York      Ohio\n",
       "2000-01-05 -1.681419 -0.233672  0.307125  0.341754\n",
       "2000-01-12  0.391169 -0.006416  1.638438 -0.028422"
      ]
     },
     "execution_count": 55,
     "metadata": {},
     "output_type": "execute_result"
    }
   ],
   "source": [
    "frame = pd.DataFrame(np.random.randn(2, 4),\n",
    "                     index=pd.date_range('1/1/2000', periods=2, freq='W-WED'),\n",
    "                     columns=['Colorado', 'Texas', 'New York', 'Ohio'])\n",
    "\n",
    "frame"
   ]
  },
  {
   "cell_type": "markdown",
   "id": "3801d05f",
   "metadata": {},
   "source": [
    "When you are using an aggregation function with this data, there is only one value per group, and missing values result in the gaps.\n",
    "\n",
    "We use the <code>asfreq</code> method to convert to the higher frequency without any aggregation:"
   ]
  },
  {
   "cell_type": "code",
   "execution_count": 56,
   "id": "9d77e896",
   "metadata": {},
   "outputs": [
    {
     "data": {
      "text/html": [
       "<div>\n",
       "<style scoped>\n",
       "    .dataframe tbody tr th:only-of-type {\n",
       "        vertical-align: middle;\n",
       "    }\n",
       "\n",
       "    .dataframe tbody tr th {\n",
       "        vertical-align: top;\n",
       "    }\n",
       "\n",
       "    .dataframe thead th {\n",
       "        text-align: right;\n",
       "    }\n",
       "</style>\n",
       "<table border=\"1\" class=\"dataframe\">\n",
       "  <thead>\n",
       "    <tr style=\"text-align: right;\">\n",
       "      <th></th>\n",
       "      <th>Colorado</th>\n",
       "      <th>Texas</th>\n",
       "      <th>New York</th>\n",
       "      <th>Ohio</th>\n",
       "    </tr>\n",
       "  </thead>\n",
       "  <tbody>\n",
       "    <tr>\n",
       "      <th>2000-01-05</th>\n",
       "      <td>-1.681419</td>\n",
       "      <td>-0.233672</td>\n",
       "      <td>0.307125</td>\n",
       "      <td>0.341754</td>\n",
       "    </tr>\n",
       "    <tr>\n",
       "      <th>2000-01-06</th>\n",
       "      <td>NaN</td>\n",
       "      <td>NaN</td>\n",
       "      <td>NaN</td>\n",
       "      <td>NaN</td>\n",
       "    </tr>\n",
       "    <tr>\n",
       "      <th>2000-01-07</th>\n",
       "      <td>NaN</td>\n",
       "      <td>NaN</td>\n",
       "      <td>NaN</td>\n",
       "      <td>NaN</td>\n",
       "    </tr>\n",
       "    <tr>\n",
       "      <th>2000-01-08</th>\n",
       "      <td>NaN</td>\n",
       "      <td>NaN</td>\n",
       "      <td>NaN</td>\n",
       "      <td>NaN</td>\n",
       "    </tr>\n",
       "    <tr>\n",
       "      <th>2000-01-09</th>\n",
       "      <td>NaN</td>\n",
       "      <td>NaN</td>\n",
       "      <td>NaN</td>\n",
       "      <td>NaN</td>\n",
       "    </tr>\n",
       "    <tr>\n",
       "      <th>2000-01-10</th>\n",
       "      <td>NaN</td>\n",
       "      <td>NaN</td>\n",
       "      <td>NaN</td>\n",
       "      <td>NaN</td>\n",
       "    </tr>\n",
       "    <tr>\n",
       "      <th>2000-01-11</th>\n",
       "      <td>NaN</td>\n",
       "      <td>NaN</td>\n",
       "      <td>NaN</td>\n",
       "      <td>NaN</td>\n",
       "    </tr>\n",
       "    <tr>\n",
       "      <th>2000-01-12</th>\n",
       "      <td>0.391169</td>\n",
       "      <td>-0.006416</td>\n",
       "      <td>1.638438</td>\n",
       "      <td>-0.028422</td>\n",
       "    </tr>\n",
       "  </tbody>\n",
       "</table>\n",
       "</div>"
      ],
      "text/plain": [
       "            Colorado     Texas  New York      Ohio\n",
       "2000-01-05 -1.681419 -0.233672  0.307125  0.341754\n",
       "2000-01-06       NaN       NaN       NaN       NaN\n",
       "2000-01-07       NaN       NaN       NaN       NaN\n",
       "2000-01-08       NaN       NaN       NaN       NaN\n",
       "2000-01-09       NaN       NaN       NaN       NaN\n",
       "2000-01-10       NaN       NaN       NaN       NaN\n",
       "2000-01-11       NaN       NaN       NaN       NaN\n",
       "2000-01-12  0.391169 -0.006416  1.638438 -0.028422"
      ]
     },
     "execution_count": 56,
     "metadata": {},
     "output_type": "execute_result"
    }
   ],
   "source": [
    "df_daily = frame.resample('D').asfreq()\n",
    "\n",
    "df_daily"
   ]
  },
  {
   "cell_type": "markdown",
   "id": "6ba885a2",
   "metadata": {},
   "source": [
    "Suppose you wanted to fill forward each weekly value on the non-Wednesdays:"
   ]
  },
  {
   "cell_type": "code",
   "execution_count": 57,
   "id": "5d6e8a49",
   "metadata": {},
   "outputs": [
    {
     "data": {
      "text/html": [
       "<div>\n",
       "<style scoped>\n",
       "    .dataframe tbody tr th:only-of-type {\n",
       "        vertical-align: middle;\n",
       "    }\n",
       "\n",
       "    .dataframe tbody tr th {\n",
       "        vertical-align: top;\n",
       "    }\n",
       "\n",
       "    .dataframe thead th {\n",
       "        text-align: right;\n",
       "    }\n",
       "</style>\n",
       "<table border=\"1\" class=\"dataframe\">\n",
       "  <thead>\n",
       "    <tr style=\"text-align: right;\">\n",
       "      <th></th>\n",
       "      <th>Colorado</th>\n",
       "      <th>Texas</th>\n",
       "      <th>New York</th>\n",
       "      <th>Ohio</th>\n",
       "    </tr>\n",
       "  </thead>\n",
       "  <tbody>\n",
       "    <tr>\n",
       "      <th>2000-01-05</th>\n",
       "      <td>-1.681419</td>\n",
       "      <td>-0.233672</td>\n",
       "      <td>0.307125</td>\n",
       "      <td>0.341754</td>\n",
       "    </tr>\n",
       "    <tr>\n",
       "      <th>2000-01-06</th>\n",
       "      <td>-1.681419</td>\n",
       "      <td>-0.233672</td>\n",
       "      <td>0.307125</td>\n",
       "      <td>0.341754</td>\n",
       "    </tr>\n",
       "    <tr>\n",
       "      <th>2000-01-07</th>\n",
       "      <td>-1.681419</td>\n",
       "      <td>-0.233672</td>\n",
       "      <td>0.307125</td>\n",
       "      <td>0.341754</td>\n",
       "    </tr>\n",
       "    <tr>\n",
       "      <th>2000-01-08</th>\n",
       "      <td>-1.681419</td>\n",
       "      <td>-0.233672</td>\n",
       "      <td>0.307125</td>\n",
       "      <td>0.341754</td>\n",
       "    </tr>\n",
       "    <tr>\n",
       "      <th>2000-01-09</th>\n",
       "      <td>-1.681419</td>\n",
       "      <td>-0.233672</td>\n",
       "      <td>0.307125</td>\n",
       "      <td>0.341754</td>\n",
       "    </tr>\n",
       "    <tr>\n",
       "      <th>2000-01-10</th>\n",
       "      <td>-1.681419</td>\n",
       "      <td>-0.233672</td>\n",
       "      <td>0.307125</td>\n",
       "      <td>0.341754</td>\n",
       "    </tr>\n",
       "    <tr>\n",
       "      <th>2000-01-11</th>\n",
       "      <td>-1.681419</td>\n",
       "      <td>-0.233672</td>\n",
       "      <td>0.307125</td>\n",
       "      <td>0.341754</td>\n",
       "    </tr>\n",
       "    <tr>\n",
       "      <th>2000-01-12</th>\n",
       "      <td>0.391169</td>\n",
       "      <td>-0.006416</td>\n",
       "      <td>1.638438</td>\n",
       "      <td>-0.028422</td>\n",
       "    </tr>\n",
       "  </tbody>\n",
       "</table>\n",
       "</div>"
      ],
      "text/plain": [
       "            Colorado     Texas  New York      Ohio\n",
       "2000-01-05 -1.681419 -0.233672  0.307125  0.341754\n",
       "2000-01-06 -1.681419 -0.233672  0.307125  0.341754\n",
       "2000-01-07 -1.681419 -0.233672  0.307125  0.341754\n",
       "2000-01-08 -1.681419 -0.233672  0.307125  0.341754\n",
       "2000-01-09 -1.681419 -0.233672  0.307125  0.341754\n",
       "2000-01-10 -1.681419 -0.233672  0.307125  0.341754\n",
       "2000-01-11 -1.681419 -0.233672  0.307125  0.341754\n",
       "2000-01-12  0.391169 -0.006416  1.638438 -0.028422"
      ]
     },
     "execution_count": 57,
     "metadata": {},
     "output_type": "execute_result"
    }
   ],
   "source": [
    "frame.resample('D').ffill()"
   ]
  },
  {
   "cell_type": "markdown",
   "id": "d697b2b4",
   "metadata": {},
   "source": [
    "You can similarly choose to only fill a certain number of periods forward to limit how far to continue using an observed value:"
   ]
  },
  {
   "cell_type": "code",
   "execution_count": 58,
   "id": "ec8d7052",
   "metadata": {
    "scrolled": true
   },
   "outputs": [
    {
     "data": {
      "text/html": [
       "<div>\n",
       "<style scoped>\n",
       "    .dataframe tbody tr th:only-of-type {\n",
       "        vertical-align: middle;\n",
       "    }\n",
       "\n",
       "    .dataframe tbody tr th {\n",
       "        vertical-align: top;\n",
       "    }\n",
       "\n",
       "    .dataframe thead th {\n",
       "        text-align: right;\n",
       "    }\n",
       "</style>\n",
       "<table border=\"1\" class=\"dataframe\">\n",
       "  <thead>\n",
       "    <tr style=\"text-align: right;\">\n",
       "      <th></th>\n",
       "      <th>Colorado</th>\n",
       "      <th>Texas</th>\n",
       "      <th>New York</th>\n",
       "      <th>Ohio</th>\n",
       "    </tr>\n",
       "  </thead>\n",
       "  <tbody>\n",
       "    <tr>\n",
       "      <th>2000-01-05</th>\n",
       "      <td>-1.681419</td>\n",
       "      <td>-0.233672</td>\n",
       "      <td>0.307125</td>\n",
       "      <td>0.341754</td>\n",
       "    </tr>\n",
       "    <tr>\n",
       "      <th>2000-01-06</th>\n",
       "      <td>-1.681419</td>\n",
       "      <td>-0.233672</td>\n",
       "      <td>0.307125</td>\n",
       "      <td>0.341754</td>\n",
       "    </tr>\n",
       "    <tr>\n",
       "      <th>2000-01-07</th>\n",
       "      <td>-1.681419</td>\n",
       "      <td>-0.233672</td>\n",
       "      <td>0.307125</td>\n",
       "      <td>0.341754</td>\n",
       "    </tr>\n",
       "    <tr>\n",
       "      <th>2000-01-08</th>\n",
       "      <td>NaN</td>\n",
       "      <td>NaN</td>\n",
       "      <td>NaN</td>\n",
       "      <td>NaN</td>\n",
       "    </tr>\n",
       "    <tr>\n",
       "      <th>2000-01-09</th>\n",
       "      <td>NaN</td>\n",
       "      <td>NaN</td>\n",
       "      <td>NaN</td>\n",
       "      <td>NaN</td>\n",
       "    </tr>\n",
       "    <tr>\n",
       "      <th>2000-01-10</th>\n",
       "      <td>NaN</td>\n",
       "      <td>NaN</td>\n",
       "      <td>NaN</td>\n",
       "      <td>NaN</td>\n",
       "    </tr>\n",
       "    <tr>\n",
       "      <th>2000-01-11</th>\n",
       "      <td>NaN</td>\n",
       "      <td>NaN</td>\n",
       "      <td>NaN</td>\n",
       "      <td>NaN</td>\n",
       "    </tr>\n",
       "    <tr>\n",
       "      <th>2000-01-12</th>\n",
       "      <td>0.391169</td>\n",
       "      <td>-0.006416</td>\n",
       "      <td>1.638438</td>\n",
       "      <td>-0.028422</td>\n",
       "    </tr>\n",
       "  </tbody>\n",
       "</table>\n",
       "</div>"
      ],
      "text/plain": [
       "            Colorado     Texas  New York      Ohio\n",
       "2000-01-05 -1.681419 -0.233672  0.307125  0.341754\n",
       "2000-01-06 -1.681419 -0.233672  0.307125  0.341754\n",
       "2000-01-07 -1.681419 -0.233672  0.307125  0.341754\n",
       "2000-01-08       NaN       NaN       NaN       NaN\n",
       "2000-01-09       NaN       NaN       NaN       NaN\n",
       "2000-01-10       NaN       NaN       NaN       NaN\n",
       "2000-01-11       NaN       NaN       NaN       NaN\n",
       "2000-01-12  0.391169 -0.006416  1.638438 -0.028422"
      ]
     },
     "execution_count": 58,
     "metadata": {},
     "output_type": "execute_result"
    }
   ],
   "source": [
    "frame.resample('D').ffill(limit=2)"
   ]
  },
  {
   "cell_type": "markdown",
   "id": "6f2d4c75",
   "metadata": {},
   "source": [
    "***\n",
    "## Moving Window Functions\n",
    "\n",
    "Before digging in, we can load up some time series data and resample it to business day frequency:"
   ]
  },
  {
   "cell_type": "code",
   "execution_count": 59,
   "id": "d1f26853",
   "metadata": {
    "scrolled": true
   },
   "outputs": [
    {
     "data": {
      "text/html": [
       "<div>\n",
       "<style scoped>\n",
       "    .dataframe tbody tr th:only-of-type {\n",
       "        vertical-align: middle;\n",
       "    }\n",
       "\n",
       "    .dataframe tbody tr th {\n",
       "        vertical-align: top;\n",
       "    }\n",
       "\n",
       "    .dataframe thead th {\n",
       "        text-align: right;\n",
       "    }\n",
       "</style>\n",
       "<table border=\"1\" class=\"dataframe\">\n",
       "  <thead>\n",
       "    <tr style=\"text-align: right;\">\n",
       "      <th></th>\n",
       "      <th>AAPL</th>\n",
       "      <th>MSFT</th>\n",
       "      <th>XOM</th>\n",
       "      <th>SPX</th>\n",
       "    </tr>\n",
       "  </thead>\n",
       "  <tbody>\n",
       "    <tr>\n",
       "      <th>2003-01-02</th>\n",
       "      <td>7.40</td>\n",
       "      <td>21.11</td>\n",
       "      <td>29.22</td>\n",
       "      <td>909.03</td>\n",
       "    </tr>\n",
       "    <tr>\n",
       "      <th>2003-01-03</th>\n",
       "      <td>7.45</td>\n",
       "      <td>21.14</td>\n",
       "      <td>29.24</td>\n",
       "      <td>908.59</td>\n",
       "    </tr>\n",
       "    <tr>\n",
       "      <th>2003-01-06</th>\n",
       "      <td>7.45</td>\n",
       "      <td>21.52</td>\n",
       "      <td>29.96</td>\n",
       "      <td>929.01</td>\n",
       "    </tr>\n",
       "    <tr>\n",
       "      <th>2003-01-07</th>\n",
       "      <td>7.43</td>\n",
       "      <td>21.93</td>\n",
       "      <td>28.95</td>\n",
       "      <td>922.93</td>\n",
       "    </tr>\n",
       "    <tr>\n",
       "      <th>2003-01-08</th>\n",
       "      <td>7.28</td>\n",
       "      <td>21.31</td>\n",
       "      <td>28.83</td>\n",
       "      <td>909.93</td>\n",
       "    </tr>\n",
       "    <tr>\n",
       "      <th>...</th>\n",
       "      <td>...</td>\n",
       "      <td>...</td>\n",
       "      <td>...</td>\n",
       "      <td>...</td>\n",
       "    </tr>\n",
       "    <tr>\n",
       "      <th>2011-10-10</th>\n",
       "      <td>388.81</td>\n",
       "      <td>26.94</td>\n",
       "      <td>76.28</td>\n",
       "      <td>1194.89</td>\n",
       "    </tr>\n",
       "    <tr>\n",
       "      <th>2011-10-11</th>\n",
       "      <td>400.29</td>\n",
       "      <td>27.00</td>\n",
       "      <td>76.27</td>\n",
       "      <td>1195.54</td>\n",
       "    </tr>\n",
       "    <tr>\n",
       "      <th>2011-10-12</th>\n",
       "      <td>402.19</td>\n",
       "      <td>26.96</td>\n",
       "      <td>77.16</td>\n",
       "      <td>1207.25</td>\n",
       "    </tr>\n",
       "    <tr>\n",
       "      <th>2011-10-13</th>\n",
       "      <td>408.43</td>\n",
       "      <td>27.18</td>\n",
       "      <td>76.37</td>\n",
       "      <td>1203.66</td>\n",
       "    </tr>\n",
       "    <tr>\n",
       "      <th>2011-10-14</th>\n",
       "      <td>422.00</td>\n",
       "      <td>27.27</td>\n",
       "      <td>78.11</td>\n",
       "      <td>1224.58</td>\n",
       "    </tr>\n",
       "  </tbody>\n",
       "</table>\n",
       "<p>2214 rows × 4 columns</p>\n",
       "</div>"
      ],
      "text/plain": [
       "              AAPL   MSFT    XOM      SPX\n",
       "2003-01-02    7.40  21.11  29.22   909.03\n",
       "2003-01-03    7.45  21.14  29.24   908.59\n",
       "2003-01-06    7.45  21.52  29.96   929.01\n",
       "2003-01-07    7.43  21.93  28.95   922.93\n",
       "2003-01-08    7.28  21.31  28.83   909.93\n",
       "...            ...    ...    ...      ...\n",
       "2011-10-10  388.81  26.94  76.28  1194.89\n",
       "2011-10-11  400.29  27.00  76.27  1195.54\n",
       "2011-10-12  402.19  26.96  77.16  1207.25\n",
       "2011-10-13  408.43  27.18  76.37  1203.66\n",
       "2011-10-14  422.00  27.27  78.11  1224.58\n",
       "\n",
       "[2214 rows x 4 columns]"
      ]
     },
     "execution_count": 59,
     "metadata": {},
     "output_type": "execute_result"
    }
   ],
   "source": [
    "import pandas as pd\n",
    "\n",
    "close_px_all = pd.read_csv('examples/stock_px_2.csv',\n",
    "                           parse_dates=True, index_col=0)\n",
    "\n",
    "close_px_all"
   ]
  },
  {
   "cell_type": "code",
   "execution_count": 60,
   "id": "11267d84",
   "metadata": {
    "scrolled": true
   },
   "outputs": [
    {
     "data": {
      "text/html": [
       "<div>\n",
       "<style scoped>\n",
       "    .dataframe tbody tr th:only-of-type {\n",
       "        vertical-align: middle;\n",
       "    }\n",
       "\n",
       "    .dataframe tbody tr th {\n",
       "        vertical-align: top;\n",
       "    }\n",
       "\n",
       "    .dataframe thead th {\n",
       "        text-align: right;\n",
       "    }\n",
       "</style>\n",
       "<table border=\"1\" class=\"dataframe\">\n",
       "  <thead>\n",
       "    <tr style=\"text-align: right;\">\n",
       "      <th></th>\n",
       "      <th>AAPL</th>\n",
       "      <th>MSFT</th>\n",
       "      <th>XOM</th>\n",
       "      <th>SPX</th>\n",
       "    </tr>\n",
       "  </thead>\n",
       "  <tbody>\n",
       "    <tr>\n",
       "      <th>2003-01-02</th>\n",
       "      <td>7.40</td>\n",
       "      <td>21.11</td>\n",
       "      <td>29.22</td>\n",
       "      <td>909.03</td>\n",
       "    </tr>\n",
       "    <tr>\n",
       "      <th>2003-01-03</th>\n",
       "      <td>7.45</td>\n",
       "      <td>21.14</td>\n",
       "      <td>29.24</td>\n",
       "      <td>908.59</td>\n",
       "    </tr>\n",
       "    <tr>\n",
       "      <th>2003-01-06</th>\n",
       "      <td>7.45</td>\n",
       "      <td>21.52</td>\n",
       "      <td>29.96</td>\n",
       "      <td>929.01</td>\n",
       "    </tr>\n",
       "    <tr>\n",
       "      <th>2003-01-07</th>\n",
       "      <td>7.43</td>\n",
       "      <td>21.93</td>\n",
       "      <td>28.95</td>\n",
       "      <td>922.93</td>\n",
       "    </tr>\n",
       "    <tr>\n",
       "      <th>2003-01-08</th>\n",
       "      <td>7.28</td>\n",
       "      <td>21.31</td>\n",
       "      <td>28.83</td>\n",
       "      <td>909.93</td>\n",
       "    </tr>\n",
       "    <tr>\n",
       "      <th>...</th>\n",
       "      <td>...</td>\n",
       "      <td>...</td>\n",
       "      <td>...</td>\n",
       "      <td>...</td>\n",
       "    </tr>\n",
       "    <tr>\n",
       "      <th>2011-10-10</th>\n",
       "      <td>388.81</td>\n",
       "      <td>26.94</td>\n",
       "      <td>76.28</td>\n",
       "      <td>1194.89</td>\n",
       "    </tr>\n",
       "    <tr>\n",
       "      <th>2011-10-11</th>\n",
       "      <td>400.29</td>\n",
       "      <td>27.00</td>\n",
       "      <td>76.27</td>\n",
       "      <td>1195.54</td>\n",
       "    </tr>\n",
       "    <tr>\n",
       "      <th>2011-10-12</th>\n",
       "      <td>402.19</td>\n",
       "      <td>26.96</td>\n",
       "      <td>77.16</td>\n",
       "      <td>1207.25</td>\n",
       "    </tr>\n",
       "    <tr>\n",
       "      <th>2011-10-13</th>\n",
       "      <td>408.43</td>\n",
       "      <td>27.18</td>\n",
       "      <td>76.37</td>\n",
       "      <td>1203.66</td>\n",
       "    </tr>\n",
       "    <tr>\n",
       "      <th>2011-10-14</th>\n",
       "      <td>422.00</td>\n",
       "      <td>27.27</td>\n",
       "      <td>78.11</td>\n",
       "      <td>1224.58</td>\n",
       "    </tr>\n",
       "  </tbody>\n",
       "</table>\n",
       "<p>2292 rows × 4 columns</p>\n",
       "</div>"
      ],
      "text/plain": [
       "              AAPL   MSFT    XOM      SPX\n",
       "2003-01-02    7.40  21.11  29.22   909.03\n",
       "2003-01-03    7.45  21.14  29.24   908.59\n",
       "2003-01-06    7.45  21.52  29.96   929.01\n",
       "2003-01-07    7.43  21.93  28.95   922.93\n",
       "2003-01-08    7.28  21.31  28.83   909.93\n",
       "...            ...    ...    ...      ...\n",
       "2011-10-10  388.81  26.94  76.28  1194.89\n",
       "2011-10-11  400.29  27.00  76.27  1195.54\n",
       "2011-10-12  402.19  26.96  77.16  1207.25\n",
       "2011-10-13  408.43  27.18  76.37  1203.66\n",
       "2011-10-14  422.00  27.27  78.11  1224.58\n",
       "\n",
       "[2292 rows x 4 columns]"
      ]
     },
     "execution_count": 60,
     "metadata": {},
     "output_type": "execute_result"
    }
   ],
   "source": [
    "close_px = close_px_all.resample('B').ffill()\n",
    "\n",
    "close_px"
   ]
  },
  {
   "cell_type": "markdown",
   "id": "124013f7",
   "metadata": {},
   "source": [
    "We now introduce the <code>rolling()</code> operator, which behaves similarly to <code>resample()</code> and <code>groupby()</code>. It can be called on a Series or DataFrame along with a window:"
   ]
  },
  {
   "cell_type": "code",
   "execution_count": 61,
   "id": "208e0c32",
   "metadata": {
    "scrolled": true
   },
   "outputs": [
    {
     "data": {
      "text/plain": [
       "<Axes: >"
      ]
     },
     "execution_count": 61,
     "metadata": {},
     "output_type": "execute_result"
    },
    {
     "data": {
      "image/png": "[encoded data removed]",
      "text/plain": [
       "<Figure size 640x480 with 1 Axes>"
      ]
     },
     "metadata": {},
     "output_type": "display_data"
    }
   ],
   "source": [
    "%matplotlib inline\n",
    "%config InlineBackend.figure_format = 'svg'\n",
    "\n",
    "close_px['AAPL'].plot()\n",
    "close_px['AAPL'].rolling(180).mean().plot()"
   ]
  },
  {
   "cell_type": "markdown",
   "id": "1bcd9fd0",
   "metadata": {},
   "source": [
    "Some statistical operators, like correlation and covariance, need to operate on two time series.\n",
    "\n",
    "As an example, financial analysts are often interested in a stock’s correlation to a benchmark index like the S&P 500. To have a look at this, we first compute the percent change for all of our time series of interest:"
   ]
  },
  {
   "cell_type": "code",
   "execution_count": 62,
   "id": "903091b0",
   "metadata": {},
   "outputs": [
    {
     "data": {
      "text/html": [
       "<div>\n",
       "<style scoped>\n",
       "    .dataframe tbody tr th:only-of-type {\n",
       "        vertical-align: middle;\n",
       "    }\n",
       "\n",
       "    .dataframe tbody tr th {\n",
       "        vertical-align: top;\n",
       "    }\n",
       "\n",
       "    .dataframe thead th {\n",
       "        text-align: right;\n",
       "    }\n",
       "</style>\n",
       "<table border=\"1\" class=\"dataframe\">\n",
       "  <thead>\n",
       "    <tr style=\"text-align: right;\">\n",
       "      <th></th>\n",
       "      <th>AAPL</th>\n",
       "      <th>MSFT</th>\n",
       "      <th>XOM</th>\n",
       "      <th>SPX</th>\n",
       "    </tr>\n",
       "  </thead>\n",
       "  <tbody>\n",
       "    <tr>\n",
       "      <th>2003-01-02</th>\n",
       "      <td>NaN</td>\n",
       "      <td>NaN</td>\n",
       "      <td>NaN</td>\n",
       "      <td>NaN</td>\n",
       "    </tr>\n",
       "    <tr>\n",
       "      <th>2003-01-03</th>\n",
       "      <td>0.006757</td>\n",
       "      <td>0.001421</td>\n",
       "      <td>0.000684</td>\n",
       "      <td>-0.000484</td>\n",
       "    </tr>\n",
       "    <tr>\n",
       "      <th>2003-01-06</th>\n",
       "      <td>0.000000</td>\n",
       "      <td>0.017975</td>\n",
       "      <td>0.024624</td>\n",
       "      <td>0.022474</td>\n",
       "    </tr>\n",
       "    <tr>\n",
       "      <th>2003-01-07</th>\n",
       "      <td>-0.002685</td>\n",
       "      <td>0.019052</td>\n",
       "      <td>-0.033712</td>\n",
       "      <td>-0.006545</td>\n",
       "    </tr>\n",
       "    <tr>\n",
       "      <th>2003-01-08</th>\n",
       "      <td>-0.020188</td>\n",
       "      <td>-0.028272</td>\n",
       "      <td>-0.004145</td>\n",
       "      <td>-0.014086</td>\n",
       "    </tr>\n",
       "    <tr>\n",
       "      <th>...</th>\n",
       "      <td>...</td>\n",
       "      <td>...</td>\n",
       "      <td>...</td>\n",
       "      <td>...</td>\n",
       "    </tr>\n",
       "    <tr>\n",
       "      <th>2011-10-10</th>\n",
       "      <td>0.051406</td>\n",
       "      <td>0.026286</td>\n",
       "      <td>0.036977</td>\n",
       "      <td>0.034125</td>\n",
       "    </tr>\n",
       "    <tr>\n",
       "      <th>2011-10-11</th>\n",
       "      <td>0.029526</td>\n",
       "      <td>0.002227</td>\n",
       "      <td>-0.000131</td>\n",
       "      <td>0.000544</td>\n",
       "    </tr>\n",
       "    <tr>\n",
       "      <th>2011-10-12</th>\n",
       "      <td>0.004747</td>\n",
       "      <td>-0.001481</td>\n",
       "      <td>0.011669</td>\n",
       "      <td>0.009795</td>\n",
       "    </tr>\n",
       "    <tr>\n",
       "      <th>2011-10-13</th>\n",
       "      <td>0.015515</td>\n",
       "      <td>0.008160</td>\n",
       "      <td>-0.010238</td>\n",
       "      <td>-0.002974</td>\n",
       "    </tr>\n",
       "    <tr>\n",
       "      <th>2011-10-14</th>\n",
       "      <td>0.033225</td>\n",
       "      <td>0.003311</td>\n",
       "      <td>0.022784</td>\n",
       "      <td>0.017380</td>\n",
       "    </tr>\n",
       "  </tbody>\n",
       "</table>\n",
       "<p>2292 rows × 4 columns</p>\n",
       "</div>"
      ],
      "text/plain": [
       "                AAPL      MSFT       XOM       SPX\n",
       "2003-01-02       NaN       NaN       NaN       NaN\n",
       "2003-01-03  0.006757  0.001421  0.000684 -0.000484\n",
       "2003-01-06  0.000000  0.017975  0.024624  0.022474\n",
       "2003-01-07 -0.002685  0.019052 -0.033712 -0.006545\n",
       "2003-01-08 -0.020188 -0.028272 -0.004145 -0.014086\n",
       "...              ...       ...       ...       ...\n",
       "2011-10-10  0.051406  0.026286  0.036977  0.034125\n",
       "2011-10-11  0.029526  0.002227 -0.000131  0.000544\n",
       "2011-10-12  0.004747 -0.001481  0.011669  0.009795\n",
       "2011-10-13  0.015515  0.008160 -0.010238 -0.002974\n",
       "2011-10-14  0.033225  0.003311  0.022784  0.017380\n",
       "\n",
       "[2292 rows x 4 columns]"
      ]
     },
     "execution_count": 62,
     "metadata": {},
     "output_type": "execute_result"
    }
   ],
   "source": [
    "returns = close_px / close_px.shift(1) - 1\n",
    "\n",
    "returns"
   ]
  },
  {
   "cell_type": "markdown",
   "id": "1cb4c0aa",
   "metadata": {},
   "source": [
    "The <code>corr</code> aggregation function after we call rolling can then compute the rolling correlation with S&P Index:"
   ]
  },
  {
   "cell_type": "code",
   "execution_count": 63,
   "id": "12c54345",
   "metadata": {},
   "outputs": [
    {
     "data": {
      "text/plain": [
       "<Axes: title={'center': 'Six-month AAPL return correlation to S&P 500'}>"
      ]
     },
     "execution_count": 63,
     "metadata": {},
     "output_type": "execute_result"
    },
    {
     "data": {
      "image/png": "[encoded data removed]",
      "text/plain": [
       "<Figure size 640x480 with 1 Axes>"
      ]
     },
     "metadata": {},
     "output_type": "display_data"
    }
   ],
   "source": [
    "corr = returns['AAPL'].rolling(125).corr(returns['SPX'])\n",
    "\n",
    "corr.plot(title=\"Six-month AAPL return correlation to S&P 500\")"
   ]
  },
  {
   "cell_type": "code",
   "execution_count": 64,
   "id": "09b9af2c",
   "metadata": {},
   "outputs": [
    {
     "data": {
      "text/plain": [
       "<Axes: title={'center': 'Six-month return correlations to S&P 500'}>"
      ]
     },
     "execution_count": 64,
     "metadata": {},
     "output_type": "execute_result"
    },
    {
     "data": {
      "image/png": "[encoded data removed]",
      "text/plain": [
       "<Figure size 640x480 with 1 Axes>"
      ]
     },
     "metadata": {},
     "output_type": "display_data"
    }
   ],
   "source": [
    "corr = returns.rolling(125).corr(returns['SPX'])\n",
    "\n",
    "corr.plot(title=\"Six-month return correlations to S&P 500\")"
   ]
  }
 ],
 "metadata": {
  "kernelspec": {
   "display_name": "Python 3 (ipykernel)",
   "language": "python",
   "name": "python3"
  },
  "language_info": {
   "codemirror_mode": {
    "name": "ipython",
    "version": 3
   },
   "file_extension": ".py",
   "mimetype": "text/x-python",
   "name": "python",
   "nbconvert_exporter": "python",
   "pygments_lexer": "ipython3",
   "version": "3.11.2"
  }
 },
 "nbformat": 4,
 "nbformat_minor": 5
}
