{
 "cells": [
  {
   "cell_type": "markdown",
   "id": "4511df5d",
   "metadata": {},
   "source": [
    "# Financial Data Analysis with Python\n",
    "\n",
    "### Instructor: Luping Yu\n",
    "\n",
    "### May 10, 2022\n",
    "\n",
    "***\n",
    "# Practice 02. Web Page and Crawler\n",
    "***\n",
    "## Web Page\n",
    "\n",
    "Before we start writing code, we need to understand a little bit about the structure of a web page.\n",
    "\n",
    "When we visit a web page, our web browser makes a request to a web server. This request is called a <code>GET</code> request, since we're getting files from the server. The server then sends back files that tell our browser how to render the page for us. These files will typically include:\n",
    "\n",
    "* HTML — the main content of the page.\n",
    "* CSS — used to add styling to make the page look nicer.\n",
    "* JS — Javascript files add interactivity to web pages.\n",
    "\n",
    "After our browser receives all the files, it **renders** the page and displays it to us.\n",
    "\n",
    "There's a lot that happens behind the scenes to render a page nicely, but we don't need to worry about most of it when we're web scraping. <u>When we perform web scraping, we’re interested in the main content of the web page</u>, so we look primarily at the HTML.\n",
    "\n",
    "***\n",
    "### What is HTML?\n",
    "* HTML stands for <u>Hyper Text Markup Language</u>\n",
    "* HTML is the standard **markup language** for creating Web pages\n",
    "* HTML describes the structure of a Web page\n",
    "* HTML consists of a series of **elements**\n",
    "* HTML elements tell the browser how to display the content\n",
    "* HTML elements label pieces of content such as \"this is a heading\", \"this is a paragraph\", \"this is a link\", etc.\n",
    "\n",
    "***\n",
    "### How to View HTML Source?\n",
    "Have you ever seen a Web page and wondered \"Hey! How did they do that?\"\n",
    "\n",
    "View HTML Source Code:\n",
    "* Right-click in an HTML page and select \"View Page Source\" (in Chrome) or \"View Source\" (in Edge), or similar in other browsers. This will open a window containing the HTML source code of the page.\n",
    "\n",
    "Chrome Developer Tools <code>F12</code>:\n",
    "* More Tools ---> Developer Tools\n",
    "* Chrome DevTools is a set of web developer tools built directly into the Google Chrome browser.\n",
    "\n",
    "![avatar](https://raw.githubusercontent.com/lazydingding/gallery/main/20220509_f0.png)\n",
    "\n",
    "***\n",
    "### A Simple HTML Document (a.k.a. \"Page\")"
   ]
  },
  {
   "cell_type": "code",
   "execution_count": 3,
   "id": "093ac56d",
   "metadata": {},
   "outputs": [
    {
     "data": {
      "text/html": [
       "\n",
       "<!DOCTYPE html>\n",
       "<html>\n",
       "\n",
       "    <head>\n",
       "        <title>Page Title</title>\n",
       "    </head>\n",
       "\n",
       "    <body>\n",
       "        <h1>66666666</h1>\n",
       "        <p>My first paragraph.</p>\n",
       "    </body>\n",
       "\n",
       "</html>\n"
      ],
      "text/plain": [
       "<IPython.core.display.HTML object>"
      ]
     },
     "metadata": {},
     "output_type": "display_data"
    }
   ],
   "source": [
    "%%HTML\n",
    "\n",
    "<!DOCTYPE html>\n",
    "<html>\n",
    "\n",
    "    <head>\n",
    "        <title>Page Title</title>\n",
    "    </head>\n",
    "\n",
    "    <body>\n",
    "        <h1>66666666</h1>\n",
    "        <p>My first paragraph.</p>\n",
    "    </body>\n",
    "\n",
    "</html>"
   ]
  },
  {
   "cell_type": "markdown",
   "id": "1318f27f",
   "metadata": {},
   "source": [
    "### Example Explained\n",
    "\n",
    "* The <code>&lt;!DOCTYPE html&gt;</code> declaration defines that this document is an HTML document\n",
    "* The <code>&lt;html&gt;</code> element is the root element of an HTML page\n",
    "* The <code>&lt;head&gt;</code> element contains meta information about the HTML page\n",
    "* The <code>&lt;title&gt;</code> element specifies a title for the HTML page (which is shown in the browser's title bar or in the page's tab)\n",
    "* The <code>&lt;body&gt;</code> element defines the document's body, and is a container for all the **visible** contents, such as headings, paragraphs, images, hyperlinks, tables, lists, etc.\n",
    "* The <code>&lt;h1&gt;</code> element defines a large heading\n",
    "* The <code>&lt;p&gt;</code> element defines a paragraph\n",
    "\n",
    "***\n",
    "### HTML Element\n",
    "\n",
    "An HTML <code>element</code> is defined by a **start tag**, some **content**, and an **end tag**:\n",
    "\n",
    "![avatar](https://raw.githubusercontent.com/lazydingding/gallery/main/20220509_f1.png)\n"
   ]
  },
  {
   "cell_type": "markdown",
   "id": "ad62f207",
   "metadata": {},
   "source": [
    "The HTML **element** is everything from the start tag to the end tag:"
   ]
  },
  {
   "cell_type": "code",
   "execution_count": null,
   "id": "6e9ebfa8",
   "metadata": {},
   "outputs": [],
   "source": [
    "<h1>My First Heading</h1>\n",
    "<p>My first paragraph.</p>"
   ]
  },
  {
   "cell_type": "markdown",
   "id": "ad057de2",
   "metadata": {},
   "source": [
    "#### 1. Empty HTML Elements\n",
    "* Empty elements (also called self-closing or void elements) are not container tags.\n",
    "* A typical example of an empty element, is the <code>&lt;br&gt;</code> element, which represents a line break. Some other common empty elements are <code>&lt;img&gt;</code>, <code>&lt;input&gt;</code>, etc."
   ]
  },
  {
   "cell_type": "code",
   "execution_count": 4,
   "id": "26a78326",
   "metadata": {
    "scrolled": true
   },
   "outputs": [
    {
     "data": {
      "text/html": [
       "\n",
       "<p>This paragraph contains <br> a line break.</p>\n",
       "<img src=\"logo.png\" alt=\"xmu\">\n",
       "<input type=\"text\" name=\"username\">\n"
      ],
      "text/plain": [
       "<IPython.core.display.HTML object>"
      ]
     },
     "metadata": {},
     "output_type": "display_data"
    }
   ],
   "source": [
    "%%HTML\n",
    "\n",
    "<p>This paragraph contains <br> a line break.</p>\n",
    "<img src=\"logo.png\" alt=\"xmu\">\n",
    "<input type=\"text\" name=\"username\">"
   ]
  },
  {
   "cell_type": "markdown",
   "id": "382c336a",
   "metadata": {},
   "source": [
    "#### 2. Nesting HTML Elements\n",
    "* Most HTML elements can contain any number of further elements, which are, in turn, made up of tags, attributes, and content or other elements.\n",
    "* The following example shows some elements nested inside the <code>&lt;p&gt;</code> element."
   ]
  },
  {
   "cell_type": "code",
   "execution_count": 5,
   "id": "71be0b0b",
   "metadata": {},
   "outputs": [
    {
     "data": {
      "text/html": [
       "\n",
       "<p>Here is some <b>bold</b> text.</p>\n",
       "<p>Here is some <em>emphasized</em> text.</p>\n",
       "<p>Here is some <mark>highlighted</mark> text.</p>\n"
      ],
      "text/plain": [
       "<IPython.core.display.HTML object>"
      ]
     },
     "metadata": {},
     "output_type": "display_data"
    }
   ],
   "source": [
    "%%HTML\n",
    "\n",
    "<p>Here is some <b>bold</b> text.</p>\n",
    "<p>Here is some <em>emphasized</em> text.</p>\n",
    "<p>Here is some <mark>highlighted</mark> text.</p>"
   ]
  },
  {
   "cell_type": "markdown",
   "id": "c96320d9",
   "metadata": {},
   "source": [
    "#### 3. HTML Links\n",
    "\n",
    "HTML links are defined with the <code>&lt;a&gt;</code> tag:\n",
    "* The link's destination is specified in the <code>href</code> attribute. \n",
    "* <code>Attributes</code> are used to provide **additional information** about HTML elements."
   ]
  },
  {
   "cell_type": "code",
   "execution_count": 6,
   "id": "051866eb",
   "metadata": {},
   "outputs": [
    {
     "data": {
      "text/html": [
       "\n",
       "<a href=\"https://sm.xmu.edu.cn/\">This is a link</a>\n"
      ],
      "text/plain": [
       "<IPython.core.display.HTML object>"
      ]
     },
     "metadata": {},
     "output_type": "display_data"
    }
   ],
   "source": [
    "%%HTML\n",
    "\n",
    "<a href=\"https://sm.xmu.edu.cn/\">This is a link</a>"
   ]
  },
  {
   "cell_type": "markdown",
   "id": "4821c0c2",
   "metadata": {},
   "source": [
    "#### 4. Writing Comments in HTML\n",
    "* Comments are usually added with the purpose of making the source code easier to understand.\n",
    "* You can also comment out part of your HTML code for debugging purpose.\n",
    "* An HTML comment begins with <code>&lt;!--, and ends with --&gt;</code>, as shown in the example below:"
   ]
  },
  {
   "cell_type": "code",
   "execution_count": null,
   "id": "6c5a2953",
   "metadata": {},
   "outputs": [],
   "source": [
    "%%HTML\n",
    "\n",
    "\n",
    "<!-- This is an HTML comment -->\n",
    "<!-- This is a multi-line HTML comment \n",
    "     that spans across more than one line -->\n",
    "<p>This is a normal piece of text.</p>"
   ]
  },
  {
   "cell_type": "markdown",
   "id": "9df922d6",
   "metadata": {},
   "source": [
    "#### 5. HTML Elements Types\n",
    "\n",
    "The basic elements of an HTML page are:\n",
    "\n",
    "* A text header, denoted using the <code>&lt;h1&gt;, &lt;h2&gt;, &lt;h3&gt;, &lt;h4&gt;, &lt;h5&gt;, &lt;h6&gt;</code> tags.\n",
    "* A paragraph, denoted using the <code>&lt;p&gt;</code> tag.\n",
    "* A link, denoted using the <code>&lt;a&gt;</code> (anchor) tag.\n",
    "* A list, denoted using the <code>&lt;ul&gt;</code> (unordered list), <code>&lt;ol&gt;</code> (ordered list) and <code>&lt;li&gt;</code> (list element) tags.\n",
    "* An image, denoted using the <code>&lt;img&gt;</code> tag\n",
    "* A divider, denoted using the <code>&lt;div&gt;</code> tag\n",
    "* A text span, denoted using the <code>&lt;span&gt;</code> tag\n",
    "\n",
    "\n",
    "Elements can be placed in two distinct groups: **block level** and **inline level** elements. The former make up the document's structure, while the latter dress up the contents of a block.\n",
    "\n",
    "* A block element occupies 100% of the available width and it is rendered with a line break before and after. Whereas, an inline element will take up only as much space as it needs.\n",
    "    * The most commonly used block-level elements are <code>&lt;div&gt;, &lt;p&gt;, &lt;h1&gt;</code> through <code>&lt;h6&gt;, &lt;form&gt;, &lt;ol&gt;, &lt;ul&gt;, &lt;li&gt;</code>, and so on. Whereas, the commonly used inline-level elements are <code>&lt;img&gt;, &lt;a&gt;, &lt;span&gt;, &lt;strong&gt;, &lt;b&gt;, &lt;em&gt;, &lt;i&gt;, &lt;code&gt;, &lt;input&gt;, &lt;button&gt;</code>, etc.\n",
    "* The block-level elements should not be placed within inline-level elements. For example, the <code>&lt;p&gt;</code> element should not be placed inside the <code>&lt;b&gt;</code> element.\n",
    "\n",
    "\n",
    "\n",
    "***\n",
    "### HTML Attributes\n",
    "\n",
    "<code>Attributes</code> define **additional characteristics or properties** of the element such as width and height of an image. \n",
    "* Attributes are always specified in the start tag (or opening tag) and usually consists of name/value pairs like <code>name=\"value\"</code>.\n",
    "    * Some attributes are required for certain elements. For instance, an <code>&lt;img&gt;</code> tag must contain a src and alt attributes.\n",
    "\n",
    "Let's take a look at some examples of the attributes usages:"
   ]
  },
  {
   "cell_type": "code",
   "execution_count": 8,
   "id": "5c599515",
   "metadata": {},
   "outputs": [
    {
     "data": {
      "text/html": [
       "\n",
       "<img src=\"https://sm.xmu.edu.cn/dfiles/8522/statics/images/sm2/logo.png\" width=\"500\" height=\"200\" alt=\"xmu\">\n",
       "<a href=\"https://www.google.com/\" title=\"Search Engine\">Google</a>\n",
       "<input type=\"text\" value=\"Guido van Rossum\">\n"
      ],
      "text/plain": [
       "<IPython.core.display.HTML object>"
      ]
     },
     "metadata": {},
     "output_type": "display_data"
    }
   ],
   "source": [
    "%%HTML\n",
    "\n",
    "<img src=\"https://sm.xmu.edu.cn/dfiles/8522/statics/images/sm2/logo.png\" width=\"500\" height=\"200\" alt=\"xmu\">\n",
    "<a href=\"https://www.google.com/\" title=\"Search Engine\">Google</a>\n",
    "<input type=\"text\" value=\"Guido van Rossum\">"
   ]
  },
  {
   "cell_type": "markdown",
   "id": "e1c069bb",
   "metadata": {},
   "source": [
    "In the above example <code>src</code> inside the <code>&lt;img&gt;</code> tag is an attribute and image path provided is its value. Similarly <code>href</code> inside the <code>&lt;a&gt;</code> tag is an attribute and the link provided is its value, and so on.\n",
    "      \n",
    "There are some **general purpose** attributes, such as <code>id, title, class, style</code>, etc. that you can use on the majority of HTML elements.\n",
    "    \n",
    "#### 1.The <code>id</code> Attribute\n",
    "    \n",
    "The <code>id</code> attribute is used to give a unique identifier to an element within a document. This makes it easier to select the element using CSS or JavaScript.\n",
    "*  The <code>id</code> of an element must be **unique** within a single document.\n",
    "    * No two elements in the same document can be named with the same id.\n",
    "    * Each element can have only one id."
   ]
  },
  {
   "cell_type": "code",
   "execution_count": 12,
   "id": "cce551bb",
   "metadata": {},
   "outputs": [
    {
     "data": {
      "text/html": [
       "\n",
       "<input type=\"text\" id=\"firstName\">\n",
       "<div id=\"container\">Some content</div>\n",
       "<p id=\"infoText\">This is a paragraph.</p>\n"
      ],
      "text/plain": [
       "<IPython.core.display.HTML object>"
      ]
     },
     "metadata": {},
     "output_type": "display_data"
    }
   ],
   "source": [
    "%%HTML\n",
    "\n",
    "<input type=\"text\" id=\"firstName\">\n",
    "<div id=\"container\">Some content</div>\n",
    "<p id=\"infoText\">This is a paragraph.</p>"
   ]
  },
  {
   "cell_type": "markdown",
   "id": "e86b141c",
   "metadata": {},
   "source": [
    "#### 2. The <code>class</code> Attribute\n",
    "\n",
    "Like <code>id</code> attribute, the <code>class</code> attribute is also used to identify elements. But unlike <code>id</code>, the class attribute **does not have to be unique** in the document.\n",
    "* This means you can apply the same class to multiple elements in a document.\n",
    "* Any style rules that are written to that class will be applied to all the elements having that class."
   ]
  },
  {
   "cell_type": "code",
   "execution_count": null,
   "id": "21196d70",
   "metadata": {
    "scrolled": true
   },
   "outputs": [],
   "source": [
    "%%HTML\n",
    "\n",
    "<input type=\"text\" class=\"highlight\">\n",
    "<div class=\"box highlight\">Some content</div>\n",
    "<p class=\"highlight\">This is a paragraph.</p>"
   ]
  },
  {
   "cell_type": "markdown",
   "id": "78e2876f",
   "metadata": {},
   "source": [
    "#### 3. The <code>style</code> Attribute\n",
    "\n",
    "HTML is quite limited when it comes to the presentation of a web page. It was originally designed as a simple way of presenting information.\n",
    "\n",
    "**CSS (Cascading Style Sheets)** was introduced in December 1996 by the World Wide Web Consortium (W3C) to provide a better way to style HTML elements.\n",
    "\n",
    "![avatar](https://github.com/lazydingding/gallery/blob/main/Screen%20Shot%202022-05-09%20at%2023.55.26.png?raw=true)\n",
    "\n",
    "The <code>style</code> attribute allows you to specify CSS styling rules such as color, font, border, etc. directly within the element. Let's check out an example to see how it works:"
   ]
  },
  {
   "cell_type": "code",
   "execution_count": 15,
   "id": "bd4ca72d",
   "metadata": {
    "scrolled": true
   },
   "outputs": [
    {
     "data": {
      "text/html": [
       "\n",
       "<p style=\"color: blue;\">This is a paragraph.</p>\n",
       "<div style=\"border: 1px solid red;\">Some content</div>\n"
      ],
      "text/plain": [
       "<IPython.core.display.HTML object>"
      ]
     },
     "metadata": {},
     "output_type": "display_data"
    }
   ],
   "source": [
    "%%HTML\n",
    "\n",
    "<p style=\"color: blue;\">This is a paragraph.</p>\n",
    "<div style=\"border: 1px solid red;\">Some content</div>"
   ]
  },
  {
   "cell_type": "markdown",
   "id": "0850937a",
   "metadata": {},
   "source": [
    "#### 4. HTML Attributes Types\n",
    "\n",
    "Each element can also have attributes - each element has a different set of attributes relevant to the element.\n",
    "\n",
    "There are a few global elements, the most common of them are:\n",
    "* <code>id</code> - Denotes the unique ID of an element in a page. Used for locating elements by using links, JavaScript, and more.\n",
    "* <code>class</code> - Denotes the CSS class of an element.\n",
    "* <code>style</code> - Denotes the CSS styles to apply to an element."
   ]
  },
  {
   "cell_type": "markdown",
   "id": "6aed93df",
   "metadata": {},
   "source": [
    "***\n",
    "## Crawler\n",
    "\n",
    "Some websites offer data sets that are downloadable in CSV format, or accessible via an Application Programming Interface (API). But many websites with useful data don't offer these convenient options.\n",
    "\n",
    "Web scraping is the process of **gathering information** from the Internet. Even copying and pasting the lyrics of your favorite song is a form of web scraping!\n",
    "\n",
    "The words \"web scraping\" usually refer to a process that involves automation. Some websites don't like it when automatic scrapers gather their data, while others don't mind.\n",
    "\n",
    "Common tools:\n",
    "* requests\n",
    "* BeautifulSoup\n",
    "* Selenium\n",
    "* Pandas.read_html(  )\n",
    "\n",
    "***\n",
    "### How Does Web Scraping Work?\n",
    "\n",
    "When we scrape the web, we write code that sends a request to the server that's hosting the page we specified. The server will return the source code — HTML, mostly — for the page (or pages) we requested.\n",
    "\n",
    "So far, we're essentially doing the same thing a web browser does — sending a server request with a specific URL and asking the server to return the code for that page.\n",
    "\n",
    "But unlike a web browser, our web scraping code won't interpret the page's source code and display the page visually. Instead, we'll write some custom code that filters through the page's source code looking for specific elements we've specified, and extracting whatever content we've instructed it to extract.\n",
    "\n",
    "For example, if we wanted to get all of the data from inside a table that was displayed on a web page, our code would be written to go through these steps in sequence:\n",
    "\n",
    "* Request the content (source code) of a specific URL from the server\n",
    "* Download the content that is returned\n",
    "* Identify the elements of the page that are part of the table we want\n",
    "* Extract and (if necessary) reformat those elements into a dataset we can analyze or use in whatever way we require.\n",
    "\n",
    "Python and <code>BeautifulSoup</code> have built-in features designed to make this relatively straightforward.\n",
    "\n",
    "***\n",
    "### The requests library\n",
    "\n",
    "Now that we understand the structure of a web page, it's time to get into the fun part: scraping the content we want!\n",
    "\n",
    "The first thing we'll need to do to scrape a web page is to download the page. We can download pages using the Python <code>requests</code> library.\n",
    "\n",
    "The requests library will make a <code>GET</code> request to a web server, which will download the HTML contents of a given web page for us.\n",
    "\n",
    "Let's try downloading a simple [sample website](https://dataquestio.github.io/web-scraping-pages/simple.html):"
   ]
  },
  {
   "cell_type": "code",
   "execution_count": 17,
   "id": "a4e32f5d",
   "metadata": {},
   "outputs": [
    {
     "data": {
      "text/plain": [
       "<Response [200]>"
      ]
     },
     "execution_count": 17,
     "metadata": {},
     "output_type": "execute_result"
    }
   ],
   "source": [
    "import requests\n",
    "\n",
    "page = requests.get(\"https://dataquestio.github.io/web-scraping-pages/simple.html\")\n",
    "\n",
    "page"
   ]
  },
  {
   "cell_type": "markdown",
   "id": "8ee39f1a",
   "metadata": {},
   "source": [
    "A <code>status_code</code> of 200 means that the page downloaded successfully.\n",
    "\n",
    "We won't fully dive into status codes here, but a status code starting with a 2 generally indicates success, and a code starting with a 4 or a 5 indicates an error.\n",
    "\n",
    "We can print out the HTML content of the page using the content property:"
   ]
  },
  {
   "cell_type": "code",
   "execution_count": 18,
   "id": "7d853cfa",
   "metadata": {
    "scrolled": true
   },
   "outputs": [
    {
     "data": {
      "text/plain": [
       "b'<!DOCTYPE html>\\n<html>\\n    <head>\\n        <title>A simple example page</title>\\n    </head>\\n    <body>\\n        <p>Here is some simple content for this page.</p>\\n    </body>\\n</html>'"
      ]
     },
     "execution_count": 18,
     "metadata": {},
     "output_type": "execute_result"
    }
   ],
   "source": [
    "page.content"
   ]
  },
  {
   "cell_type": "markdown",
   "id": "d8ff3c98",
   "metadata": {},
   "source": [
    "***\n",
    "### Parsing a page with BeautifulSoup\n",
    "\n",
    "As you can see above, we now have downloaded an HTML document.\n",
    "\n",
    "We can use the <code>BeautifulSoup</code> library to parse this document, and extract the text from the <code>p tag</code>. If we want to extract a single tag, we can use the <code>find_all</code> method, which will find all the instances of a tag on a page.\n",
    "\n",
    "We first have to import the library, and create an instance of the <code>BeautifulSoup</code> class to parse our document:"
   ]
  },
  {
   "cell_type": "code",
   "execution_count": 20,
   "id": "9f1f4166",
   "metadata": {
    "scrolled": true
   },
   "outputs": [
    {
     "data": {
      "text/plain": [
       "<!DOCTYPE html>\n",
       "\n",
       "<html>\n",
       "<head>\n",
       "<title>A simple example page</title>\n",
       "</head>\n",
       "<body>\n",
       "<p>Here is some simple content for this page.</p>\n",
       "</body>\n",
       "</html>"
      ]
     },
     "execution_count": 20,
     "metadata": {},
     "output_type": "execute_result"
    }
   ],
   "source": [
    "from bs4 import BeautifulSoup\n",
    "\n",
    "soup = BeautifulSoup(page.content, 'html.parser')\n",
    "\n",
    "soup"
   ]
  },
  {
   "cell_type": "code",
   "execution_count": 21,
   "id": "14f3f661",
   "metadata": {},
   "outputs": [
    {
     "data": {
      "text/plain": [
       "[<p>Here is some simple content for this page.</p>]"
      ]
     },
     "execution_count": 21,
     "metadata": {},
     "output_type": "execute_result"
    }
   ],
   "source": [
    "soup.find_all('p')"
   ]
  },
  {
   "cell_type": "markdown",
   "id": "f4145e4a",
   "metadata": {},
   "source": [
    "Note that <code>find_all</code> returns a list, so we'll have to loop through, or use list indexing, it to extract text:"
   ]
  },
  {
   "cell_type": "code",
   "execution_count": 22,
   "id": "5b6d61f7",
   "metadata": {},
   "outputs": [
    {
     "data": {
      "text/plain": [
       "'Here is some simple content for this page.'"
      ]
     },
     "execution_count": 22,
     "metadata": {},
     "output_type": "execute_result"
    }
   ],
   "source": [
    "soup.find_all('p')[0].get_text()"
   ]
  },
  {
   "cell_type": "markdown",
   "id": "56cc9635",
   "metadata": {},
   "source": [
    "***\n",
    "### Searching for tags by class and id\n",
    "\n",
    "We introduced classes and ids earlier, but it probably wasn't clear why they were useful.\n",
    "\n",
    "<code>Classes</code> and <code>ids</code> are used by CSS to determine which HTML elements to apply certain styles to. But when we're scraping, we can also use them to specify the elements we want to scrape.\n",
    "\n",
    "To illustrate this principle, we'll work with another [sample website](https://dataquestio.github.io/web-scraping-pages/ids_and_classes.html):"
   ]
  },
  {
   "cell_type": "code",
   "execution_count": 23,
   "id": "a92c5cbd",
   "metadata": {
    "scrolled": true
   },
   "outputs": [
    {
     "data": {
      "text/plain": [
       "<html>\n",
       "<head>\n",
       "<title>A simple example page</title>\n",
       "</head>\n",
       "<body>\n",
       "<div>\n",
       "<p class=\"inner-text first-item\" id=\"first\">\n",
       "                First paragraph.\n",
       "            </p>\n",
       "<p class=\"inner-text\">\n",
       "                Second paragraph.\n",
       "            </p>\n",
       "</div>\n",
       "<p class=\"outer-text first-item\" id=\"second\">\n",
       "<b>\n",
       "                First outer paragraph.\n",
       "            </b>\n",
       "</p>\n",
       "<p class=\"outer-text\">\n",
       "<b>\n",
       "                Second outer paragraph.\n",
       "            </b>\n",
       "</p>\n",
       "</body>\n",
       "</html>"
      ]
     },
     "execution_count": 23,
     "metadata": {},
     "output_type": "execute_result"
    }
   ],
   "source": [
    "page = requests.get(\"https://dataquestio.github.io/web-scraping-pages/ids_and_classes.html\")\n",
    "soup = BeautifulSoup(page.content, 'html.parser')\n",
    "soup"
   ]
  },
  {
   "cell_type": "markdown",
   "id": "16138d44",
   "metadata": {},
   "source": [
    "Now, we can use the <code>find_all</code> method to search for items by class or by id. Let's look for any tag that has the class <code>outer-text</code>:"
   ]
  },
  {
   "cell_type": "code",
   "execution_count": 24,
   "id": "68938e0d",
   "metadata": {},
   "outputs": [
    {
     "data": {
      "text/plain": [
       "[<p class=\"outer-text first-item\" id=\"second\">\n",
       " <b>\n",
       "                 First outer paragraph.\n",
       "             </b>\n",
       " </p>,\n",
       " <p class=\"outer-text\">\n",
       " <b>\n",
       "                 Second outer paragraph.\n",
       "             </b>\n",
       " </p>]"
      ]
     },
     "execution_count": 24,
     "metadata": {},
     "output_type": "execute_result"
    }
   ],
   "source": [
    "soup.find_all(class_='outer-text')"
   ]
  },
  {
   "cell_type": "markdown",
   "id": "8006b16f",
   "metadata": {},
   "source": [
    "We can also search for elements by <code>id</code>:"
   ]
  },
  {
   "cell_type": "code",
   "execution_count": 26,
   "id": "1c3cbb33",
   "metadata": {},
   "outputs": [
    {
     "data": {
      "text/plain": [
       "[<p class=\"inner-text first-item\" id=\"first\">\n",
       "                 First paragraph.\n",
       "             </p>]"
      ]
     },
     "execution_count": 26,
     "metadata": {},
     "output_type": "execute_result"
    }
   ],
   "source": [
    "soup.find_all(id=\"first\")"
   ]
  },
  {
   "cell_type": "markdown",
   "id": "bbfe68c4",
   "metadata": {},
   "source": [
    "***\n",
    "### Using CSS Selectors\n",
    "\n",
    "We can also search for items using <code>CSS</code> selectors. These selectors are how the CSS language allows developers to specify HTML tags to style. Here are some examples:\n",
    "\n",
    "* <code>p a</code> — finds all a tags inside of a p tag.\n",
    "* <code>body p a</code> — finds all a tags inside of a p tag inside of a body tag.\n",
    "* <code>html body</code> — finds all body tags inside of an html tag.\n",
    "* <code>p.outer-text</code> — finds all p tags with a class of outer-text.\n",
    "* <code>p#first</code> — finds all p tags with an id of first.\n",
    "* <code>body p.outer-text</code> — finds any p tags with a class of outer-text inside of a body tag.\n",
    "\n",
    "<code>BeautifulSoup</code> objects support searching a page via CSS selectors using the <code>select</code> method. We can use CSS selectors to find all the <code>p</code> tags in our page that are inside of a <code>div</code> like this:"
   ]
  },
  {
   "cell_type": "code",
   "execution_count": null,
   "id": "ecc27ce5",
   "metadata": {
    "scrolled": true
   },
   "outputs": [],
   "source": [
    "soup.select(\"div p\")"
   ]
  },
  {
   "cell_type": "markdown",
   "id": "861bf0e0",
   "metadata": {},
   "source": [
    "***\n",
    "### Example 1. Downloading weather data\n",
    "\n",
    "We now know enough to proceed with extracting information about the local weather from the National Weather Service website.\n",
    "\n",
    "The first step is to find the page we want to scrape. We'll extract weather information about downtown San Francisco from [this page](https://forecast.weather.gov/MapClick.php?lat=37.7772&lon=-122.4168#.YnnblBNBzpY). The page has information about the extended forecast for the next week, including time of day, temperature, and a brief description of the conditions.\n",
    "\n",
    "Specifically, let's extract data about the extended forecast.\n",
    "\n",
    "***\n",
    "#### 1. Exploring page structure with Chrome DevTools\n",
    "\n",
    "The first thing we'll need to do is inspect the page using <mark>Chrome Devtools</mark>. If you’re using another browser, Firefox and Safari have equivalents.\n",
    "\n",
    "You can start the developer tools in Chrome by clicking <mark>View -> Developer -> Developer Tools</mark>. Make sure the Elements panel is highlighted.\n",
    "\n",
    "The elements panel will show you all the HTML tags on the page, and let you navigate through them. It's a really handy feature!\n",
    "\n",
    "We can then scroll up in the elements panel to find the \"outermost\" element that contains all of the text that corresponds to the extended forecasts. In this case, it's a <code>div</code> tag with the id <code>seven-day-forecast</code>.\n",
    "\n",
    "If we click around on the console, and explore the div, we'll discover that each forecast item (like \"Tonight\", \"Thursday\", and \"Thursday Night\") is contained in a <code>div</code> with the class <code>tombstone-container</code>.\n",
    "\n",
    "***\n",
    "#### 2. Time to Start Scraping!\n",
    "\n",
    "We now know enough to download the page and start parsing it. In the below code, we will:\n",
    "\n",
    "* Download the web page containing the forecast.\n",
    "* Create a BeautifulSoup class to parse the page.\n",
    "* Find the div with id seven-day-forecast, and assign to seven_day\n",
    "* Inside seven_day, find each individual forecast item.\n",
    "* Extract and print the first forecast item."
   ]
  },
  {
   "cell_type": "code",
   "execution_count": 34,
   "id": "885d7c22",
   "metadata": {},
   "outputs": [
    {
     "data": {
      "text/plain": [
       "<div class=\"tombstone-container\">\n",
       "<p class=\"period-name\">Overnight<br/><br/></p>\n",
       "<p><img alt=\"Overnight: A 20 percent chance of showers.  Partly cloudy, with a low around 44. West northwest wind around 9 mph. \" class=\"forecast-icon\" src=\"newimages/medium/hi_nshwrs20.png\" title=\"Overnight: A 20 percent chance of showers.  Partly cloudy, with a low around 44. West northwest wind around 9 mph. \"/></p><p class=\"short-desc\">Slight Chance<br/>Showers</p><p class=\"temp temp-low\">Low: 44 °F</p></div>"
      ]
     },
     "execution_count": 34,
     "metadata": {},
     "output_type": "execute_result"
    }
   ],
   "source": [
    "page = requests.get(\"https://forecast.weather.gov/MapClick.php?lat=37.7772&lon=-122.4168\")\n",
    "soup = BeautifulSoup(page.content, 'html.parser')\n",
    "\n",
    "seven_day = soup.find(id=\"seven-day-forecast\")\n",
    "\n",
    "forecast_items = seven_day.find_all(class_=\"tombstone-container\")\n",
    "\n",
    "tonight = forecast_items[0]\n",
    "\n",
    "tonight"
   ]
  },
  {
   "cell_type": "markdown",
   "id": "f7371f36",
   "metadata": {},
   "source": [
    "***\n",
    "#### 3. Extracting information from the page\n",
    "\n",
    "As we can see, inside the forecast item <mark>tonight</mark> is all the information we want. There are four pieces of information we can extract:\n",
    "\n",
    "* The name of the forecast item — in this case, <mark>Tonight</mark>.\n",
    "* The description of the conditions — this is stored in the <mark>title</mark> property of <mark>img</mark>.\n",
    "* A short description of the conditions — in this case, <mark>Mostly Clear</mark>.\n",
    "* The temperature low — in this case, <mark>49 degrees</mark>.\n",
    "\n",
    "\n",
    "We'll extract the name of the forecast item, the short description, and the temperature first, since they're all similar:"
   ]
  },
  {
   "cell_type": "code",
   "execution_count": 36,
   "id": "f1711be2",
   "metadata": {},
   "outputs": [
    {
     "name": "stdout",
     "output_type": "stream",
     "text": [
      "Overnight\n",
      "Slight ChanceShowers\n",
      "Low: 44 °F\n"
     ]
    }
   ],
   "source": [
    "period = tonight.find(class_=\"period-name\").get_text()\n",
    "short_desc = tonight.find(class_=\"short-desc\").get_text()\n",
    "temp = tonight.find(class_=\"temp\").get_text()\n",
    "print(period)\n",
    "print(short_desc)\n",
    "print(temp)"
   ]
  },
  {
   "cell_type": "markdown",
   "id": "89162747",
   "metadata": {},
   "source": [
    "Now, we can extract the <code>title</code> attribute from the <code>img</code> tag. To do this, we just treat the <code>BeautifulSoup</code> object like a dictionary, and pass in the attribute we want as a key:"
   ]
  },
  {
   "cell_type": "code",
   "execution_count": 37,
   "id": "7fe928b5",
   "metadata": {},
   "outputs": [
    {
     "name": "stdout",
     "output_type": "stream",
     "text": [
      "Overnight: A 20 percent chance of showers.  Partly cloudy, with a low around 44. West northwest wind around 9 mph. \n"
     ]
    }
   ],
   "source": [
    "img = tonight.find(\"img\")\n",
    "desc = img['title']\n",
    "print(desc)"
   ]
  },
  {
   "cell_type": "markdown",
   "id": "fb6e2e43",
   "metadata": {},
   "source": [
    "***\n",
    "#### 4. Extracting all the information from the page\n",
    "Now that we know how to extract each individual piece of information, we can combine our knowledge with CSS selectors and list comprehensions to **extract everything at once**.\n",
    "\n",
    "In the below code, we will:\n",
    "\n",
    "* Select all items with the class <code>period-name</code> inside an item with the class <code>tombstone-container</code> in <code>seven_day</code>.\n",
    "* Use a list comprehension to call the <code>get_text</code> method on each <code>BeautifulSoup</code> object."
   ]
  },
  {
   "cell_type": "code",
   "execution_count": 38,
   "id": "dca45725",
   "metadata": {},
   "outputs": [
    {
     "data": {
      "text/plain": [
       "['Overnight',\n",
       " 'Tuesday',\n",
       " 'TuesdayNight',\n",
       " 'Wednesday',\n",
       " 'WednesdayNight',\n",
       " 'Thursday',\n",
       " 'ThursdayNight',\n",
       " 'Friday',\n",
       " 'FridayNight']"
      ]
     },
     "execution_count": 38,
     "metadata": {},
     "output_type": "execute_result"
    }
   ],
   "source": [
    "period_tags = seven_day.select(\".tombstone-container .period-name\")\n",
    "periods = [pt.get_text() for pt in period_tags]\n",
    "periods"
   ]
  },
  {
   "cell_type": "markdown",
   "id": "10d3d6b0",
   "metadata": {},
   "source": [
    "As we can see above, our technique gets us each of the period names, in order. We can apply the same technique to get the other three fields:"
   ]
  },
  {
   "cell_type": "code",
   "execution_count": 39,
   "id": "a2212799",
   "metadata": {},
   "outputs": [
    {
     "name": "stdout",
     "output_type": "stream",
     "text": [
      "['Slight ChanceShowers', 'Slight ChanceShowers andBreezy', 'Mostly Clearand Breezythen MostlyClear', 'Sunny thenSunny andBreezy', 'Mostly Clearand Breezythen MostlyClear', 'Sunny', 'Mostly Clear', 'Sunny', 'Mostly Clear']\n",
      "['Low: 44 °F', 'High: 59 °F', 'Low: 47 °F', 'High: 62 °F', 'Low: 49 °F', 'High: 62 °F', 'Low: 51 °F', 'High: 69 °F', 'Low: 53 °F']\n",
      "['Overnight: A 20 percent chance of showers.  Partly cloudy, with a low around 44. West northwest wind around 9 mph. ', 'Tuesday: A 20 percent chance of showers after 11am.  Sunny, with a high near 59. Breezy, with a west wind 10 to 15 mph increasing to 19 to 24 mph in the afternoon. Winds could gust as high as 32 mph. ', 'Tuesday Night: Mostly clear, with a low around 47. Breezy, with a west northwest wind 17 to 22 mph decreasing to 9 to 14 mph after midnight. Winds could gust as high as 28 mph. ', 'Wednesday: Sunny, with a high near 62. Breezy, with a light west northwest wind becoming west 19 to 24 mph in the morning. Winds could gust as high as 31 mph. ', 'Wednesday Night: Mostly clear, with a low around 49. Breezy, with a west northwest wind 20 to 25 mph decreasing to 14 to 19 mph after midnight. Winds could gust as high as 32 mph. ', 'Thursday: Sunny, with a high near 62.', 'Thursday Night: Mostly clear, with a low around 51.', 'Friday: Sunny, with a high near 69.', 'Friday Night: Mostly clear, with a low around 53.']\n"
     ]
    }
   ],
   "source": [
    "short_descs = [sd.get_text() for sd in seven_day.select(\".tombstone-container .short-desc\")]\n",
    "temps = [t.get_text() for t in seven_day.select(\".tombstone-container .temp\")]\n",
    "descs = [d[\"title\"] for d in seven_day.select(\".tombstone-container img\")]\n",
    "print(short_descs)\n",
    "print(temps)\n",
    "print(descs)"
   ]
  },
  {
   "cell_type": "markdown",
   "id": "de5fecf2",
   "metadata": {},
   "source": [
    "***\n",
    "#### 5. Combining our data into a Pandas Dataframe\n",
    "\n",
    "We can now combine the data into a <code>Pandas DataFrame</code> and analyze it."
   ]
  },
  {
   "cell_type": "code",
   "execution_count": 41,
   "id": "10d411e1",
   "metadata": {
    "scrolled": true
   },
   "outputs": [
    {
     "data": {
      "text/html": [
       "<div>\n",
       "<style scoped>\n",
       "    .dataframe tbody tr th:only-of-type {\n",
       "        vertical-align: middle;\n",
       "    }\n",
       "\n",
       "    .dataframe tbody tr th {\n",
       "        vertical-align: top;\n",
       "    }\n",
       "\n",
       "    .dataframe thead th {\n",
       "        text-align: right;\n",
       "    }\n",
       "</style>\n",
       "<table border=\"1\" class=\"dataframe\">\n",
       "  <thead>\n",
       "    <tr style=\"text-align: right;\">\n",
       "      <th></th>\n",
       "      <th>period</th>\n",
       "      <th>short_desc</th>\n",
       "      <th>temp</th>\n",
       "      <th>desc</th>\n",
       "    </tr>\n",
       "  </thead>\n",
       "  <tbody>\n",
       "    <tr>\n",
       "      <th>0</th>\n",
       "      <td>Overnight</td>\n",
       "      <td>Slight ChanceShowers</td>\n",
       "      <td>Low: 44 °F</td>\n",
       "      <td>Overnight: A 20 percent chance of showers.  Pa...</td>\n",
       "    </tr>\n",
       "    <tr>\n",
       "      <th>1</th>\n",
       "      <td>Tuesday</td>\n",
       "      <td>Slight ChanceShowers andBreezy</td>\n",
       "      <td>High: 59 °F</td>\n",
       "      <td>Tuesday: A 20 percent chance of showers after ...</td>\n",
       "    </tr>\n",
       "    <tr>\n",
       "      <th>2</th>\n",
       "      <td>TuesdayNight</td>\n",
       "      <td>Mostly Clearand Breezythen MostlyClear</td>\n",
       "      <td>Low: 47 °F</td>\n",
       "      <td>Tuesday Night: Mostly clear, with a low around...</td>\n",
       "    </tr>\n",
       "    <tr>\n",
       "      <th>3</th>\n",
       "      <td>Wednesday</td>\n",
       "      <td>Sunny thenSunny andBreezy</td>\n",
       "      <td>High: 62 °F</td>\n",
       "      <td>Wednesday: Sunny, with a high near 62. Breezy,...</td>\n",
       "    </tr>\n",
       "    <tr>\n",
       "      <th>4</th>\n",
       "      <td>WednesdayNight</td>\n",
       "      <td>Mostly Clearand Breezythen MostlyClear</td>\n",
       "      <td>Low: 49 °F</td>\n",
       "      <td>Wednesday Night: Mostly clear, with a low arou...</td>\n",
       "    </tr>\n",
       "    <tr>\n",
       "      <th>5</th>\n",
       "      <td>Thursday</td>\n",
       "      <td>Sunny</td>\n",
       "      <td>High: 62 °F</td>\n",
       "      <td>Thursday: Sunny, with a high near 62.</td>\n",
       "    </tr>\n",
       "    <tr>\n",
       "      <th>6</th>\n",
       "      <td>ThursdayNight</td>\n",
       "      <td>Mostly Clear</td>\n",
       "      <td>Low: 51 °F</td>\n",
       "      <td>Thursday Night: Mostly clear, with a low aroun...</td>\n",
       "    </tr>\n",
       "    <tr>\n",
       "      <th>7</th>\n",
       "      <td>Friday</td>\n",
       "      <td>Sunny</td>\n",
       "      <td>High: 69 °F</td>\n",
       "      <td>Friday: Sunny, with a high near 69.</td>\n",
       "    </tr>\n",
       "    <tr>\n",
       "      <th>8</th>\n",
       "      <td>FridayNight</td>\n",
       "      <td>Mostly Clear</td>\n",
       "      <td>Low: 53 °F</td>\n",
       "      <td>Friday Night: Mostly clear, with a low around 53.</td>\n",
       "    </tr>\n",
       "  </tbody>\n",
       "</table>\n",
       "</div>"
      ],
      "text/plain": [
       "           period                              short_desc         temp  \\\n",
       "0       Overnight                    Slight ChanceShowers   Low: 44 °F   \n",
       "1         Tuesday          Slight ChanceShowers andBreezy  High: 59 °F   \n",
       "2    TuesdayNight  Mostly Clearand Breezythen MostlyClear   Low: 47 °F   \n",
       "3       Wednesday               Sunny thenSunny andBreezy  High: 62 °F   \n",
       "4  WednesdayNight  Mostly Clearand Breezythen MostlyClear   Low: 49 °F   \n",
       "5        Thursday                                   Sunny  High: 62 °F   \n",
       "6   ThursdayNight                            Mostly Clear   Low: 51 °F   \n",
       "7          Friday                                   Sunny  High: 69 °F   \n",
       "8     FridayNight                            Mostly Clear   Low: 53 °F   \n",
       "\n",
       "                                                desc  \n",
       "0  Overnight: A 20 percent chance of showers.  Pa...  \n",
       "1  Tuesday: A 20 percent chance of showers after ...  \n",
       "2  Tuesday Night: Mostly clear, with a low around...  \n",
       "3  Wednesday: Sunny, with a high near 62. Breezy,...  \n",
       "4  Wednesday Night: Mostly clear, with a low arou...  \n",
       "5              Thursday: Sunny, with a high near 62.  \n",
       "6  Thursday Night: Mostly clear, with a low aroun...  \n",
       "7                Friday: Sunny, with a high near 69.  \n",
       "8  Friday Night: Mostly clear, with a low around 53.  "
      ]
     },
     "execution_count": 41,
     "metadata": {},
     "output_type": "execute_result"
    }
   ],
   "source": [
    "import pandas as pd\n",
    "\n",
    "weather = pd.DataFrame({\"period\": periods,\n",
    "                        \"short_desc\": short_descs,\n",
    "                        \"temp\": temps,\n",
    "                        \"desc\":descs\n",
    "})\n",
    "\n",
    "weather"
   ]
  },
  {
   "cell_type": "markdown",
   "id": "6dfbf7f7",
   "metadata": {},
   "source": [
    "***\n",
    "### Example 2. Pandas Web Scraping\n",
    "\n",
    "Pandas makes it easy to scrape a <code>table</code> tag on a web page. You can use the function <code>read_html(url)</code> to get webpage contents.\n",
    "\n",
    "It's only suitable for fetching <code>Table</code> type data, then let's see what kind of pages meet the conditions?\n",
    "\n",
    "***\n",
    "#### HTML Tables\n",
    "\n",
    "HTML tables allow web developers to arrange data into rows and columns:"
   ]
  },
  {
   "cell_type": "code",
   "execution_count": 42,
   "id": "870f580a",
   "metadata": {
    "scrolled": true
   },
   "outputs": [
    {
     "data": {
      "text/html": [
       "\n",
       "<table>\n",
       "  <tr>\n",
       "    <th>Company</th>\n",
       "    <th>Contact</th>\n",
       "    <th>Country</th>\n",
       "  </tr>\n",
       "  <tr>\n",
       "    <td>Apple</td>\n",
       "    <td>Tim Cook</td>\n",
       "    <td>United States</td>\n",
       "  </tr>\n",
       "  <tr>\n",
       "    <td>Tencent</td>\n",
       "    <td>Pony Ma</td>\n",
       "    <td>China</td>\n",
       "  </tr>\n",
       "</table>\n"
      ],
      "text/plain": [
       "<IPython.core.display.HTML object>"
      ]
     },
     "metadata": {},
     "output_type": "display_data"
    }
   ],
   "source": [
    "%%HTML\n",
    "\n",
    "<table>\n",
    "  <tr>\n",
    "    <th>Company</th>\n",
    "    <th>Contact</th>\n",
    "    <th>Country</th>\n",
    "  </tr>\n",
    "  <tr>\n",
    "    <td>Apple</td>\n",
    "    <td>Tim Cook</td>\n",
    "    <td>United States</td>\n",
    "  </tr>\n",
    "  <tr>\n",
    "    <td>Tencent</td>\n",
    "    <td>Pony Ma</td>\n",
    "    <td>China</td>\n",
    "  </tr>\n",
    "</table>"
   ]
  },
  {
   "cell_type": "markdown",
   "id": "b2c0afe6",
   "metadata": {},
   "source": [
    "Open the web version with a browser, F12 view the HTML structure of the web page, you will find that the structure of the eligible web page has a common feature.\n",
    "\n",
    "If you find <code>Table</code> format, you can use <code>pd.read_html( )</code>\n",
    "\n",
    "***\n",
    "#### Sina finance - Institutional ownership\n",
    "\n",
    "Take the aggregate shareholding data of Sina Financial institutions as an example:\n",
    "\n"
   ]
  },
  {
   "cell_type": "code",
   "execution_count": 43,
   "id": "a4419283",
   "metadata": {},
   "outputs": [
    {
     "data": {
      "text/html": [
       "<div>\n",
       "<style scoped>\n",
       "    .dataframe tbody tr th:only-of-type {\n",
       "        vertical-align: middle;\n",
       "    }\n",
       "\n",
       "    .dataframe tbody tr th {\n",
       "        vertical-align: top;\n",
       "    }\n",
       "\n",
       "    .dataframe thead th {\n",
       "        text-align: right;\n",
       "    }\n",
       "</style>\n",
       "<table border=\"1\" class=\"dataframe\">\n",
       "  <thead>\n",
       "    <tr style=\"text-align: right;\">\n",
       "      <th></th>\n",
       "      <th>代码</th>\n",
       "      <th>简称</th>\n",
       "      <th>截至日期</th>\n",
       "      <th>家数</th>\n",
       "      <th>本期持股数(万股)</th>\n",
       "      <th>持股占已流通A股比例(%)</th>\n",
       "      <th>同上期增减(万股)</th>\n",
       "      <th>持股比例(%)</th>\n",
       "      <th>上期家数</th>\n",
       "      <th>明细</th>\n",
       "    </tr>\n",
       "  </thead>\n",
       "  <tbody>\n",
       "    <tr>\n",
       "      <th>0</th>\n",
       "      <td>600006</td>\n",
       "      <td>东风汽车</td>\n",
       "      <td>2022-03-31</td>\n",
       "      <td>1</td>\n",
       "      <td>416.5162</td>\n",
       "      <td>0.21</td>\n",
       "      <td>-50.8500</td>\n",
       "      <td>0.23</td>\n",
       "      <td>1</td>\n",
       "      <td>+展开明细</td>\n",
       "    </tr>\n",
       "    <tr>\n",
       "      <th>1</th>\n",
       "      <td>600008</td>\n",
       "      <td>首创环保</td>\n",
       "      <td>2022-03-31</td>\n",
       "      <td>3</td>\n",
       "      <td>6025.9268</td>\n",
       "      <td>0.82</td>\n",
       "      <td>-1745.6070</td>\n",
       "      <td>1.06</td>\n",
       "      <td>4</td>\n",
       "      <td>+展开明细</td>\n",
       "    </tr>\n",
       "    <tr>\n",
       "      <th>2</th>\n",
       "      <td>600009</td>\n",
       "      <td>上海机场</td>\n",
       "      <td>2022-03-31</td>\n",
       "      <td>1</td>\n",
       "      <td>1102.8611</td>\n",
       "      <td>0.57</td>\n",
       "      <td>-161.4500</td>\n",
       "      <td>0.66</td>\n",
       "      <td>1</td>\n",
       "      <td>+展开明细</td>\n",
       "    </tr>\n",
       "    <tr>\n",
       "      <th>3</th>\n",
       "      <td>600011</td>\n",
       "      <td>华能国际</td>\n",
       "      <td>2022-03-31</td>\n",
       "      <td>1</td>\n",
       "      <td>16605.1848</td>\n",
       "      <td>1.06</td>\n",
       "      <td>16605.1848</td>\n",
       "      <td>0.00</td>\n",
       "      <td>0</td>\n",
       "      <td>+展开明细</td>\n",
       "    </tr>\n",
       "    <tr>\n",
       "      <th>4</th>\n",
       "      <td>600012</td>\n",
       "      <td>皖通高速</td>\n",
       "      <td>2022-03-31</td>\n",
       "      <td>1</td>\n",
       "      <td>292.3414</td>\n",
       "      <td>0.18</td>\n",
       "      <td>292.3414</td>\n",
       "      <td>0.00</td>\n",
       "      <td>0</td>\n",
       "      <td>+展开明细</td>\n",
       "    </tr>\n",
       "    <tr>\n",
       "      <th>5</th>\n",
       "      <td>600026</td>\n",
       "      <td>中远海能</td>\n",
       "      <td>2022-03-31</td>\n",
       "      <td>3</td>\n",
       "      <td>10098.0943</td>\n",
       "      <td>2.12</td>\n",
       "      <td>-1234.2574</td>\n",
       "      <td>2.38</td>\n",
       "      <td>3</td>\n",
       "      <td>+展开明细</td>\n",
       "    </tr>\n",
       "    <tr>\n",
       "      <th>6</th>\n",
       "      <td>600028</td>\n",
       "      <td>中国石化</td>\n",
       "      <td>2022-03-31</td>\n",
       "      <td>2</td>\n",
       "      <td>17768.8692</td>\n",
       "      <td>0.15</td>\n",
       "      <td>6425.2416</td>\n",
       "      <td>0.09</td>\n",
       "      <td>1</td>\n",
       "      <td>+展开明细</td>\n",
       "    </tr>\n",
       "    <tr>\n",
       "      <th>7</th>\n",
       "      <td>600030</td>\n",
       "      <td>中信证券</td>\n",
       "      <td>2022-03-31</td>\n",
       "      <td>1</td>\n",
       "      <td>20780.5399</td>\n",
       "      <td>1.40</td>\n",
       "      <td>4165.9361</td>\n",
       "      <td>1.29</td>\n",
       "      <td>1</td>\n",
       "      <td>+展开明细</td>\n",
       "    </tr>\n",
       "    <tr>\n",
       "      <th>8</th>\n",
       "      <td>600037</td>\n",
       "      <td>歌华有线</td>\n",
       "      <td>2022-03-31</td>\n",
       "      <td>1</td>\n",
       "      <td>909.9664</td>\n",
       "      <td>0.65</td>\n",
       "      <td>144.4800</td>\n",
       "      <td>0.55</td>\n",
       "      <td>1</td>\n",
       "      <td>+展开明细</td>\n",
       "    </tr>\n",
       "    <tr>\n",
       "      <th>9</th>\n",
       "      <td>600038</td>\n",
       "      <td>中直股份</td>\n",
       "      <td>2022-03-31</td>\n",
       "      <td>2</td>\n",
       "      <td>915.5758</td>\n",
       "      <td>1.55</td>\n",
       "      <td>-986.7410</td>\n",
       "      <td>3.23</td>\n",
       "      <td>3</td>\n",
       "      <td>+展开明细</td>\n",
       "    </tr>\n",
       "    <tr>\n",
       "      <th>10</th>\n",
       "      <td>600054</td>\n",
       "      <td>黄山旅游</td>\n",
       "      <td>2022-03-31</td>\n",
       "      <td>1</td>\n",
       "      <td>253.8637</td>\n",
       "      <td>0.35</td>\n",
       "      <td>-3455.2722</td>\n",
       "      <td>5.09</td>\n",
       "      <td>5</td>\n",
       "      <td>+展开明细</td>\n",
       "    </tr>\n",
       "    <tr>\n",
       "      <th>11</th>\n",
       "      <td>600056</td>\n",
       "      <td>中国医药</td>\n",
       "      <td>2022-03-31</td>\n",
       "      <td>1</td>\n",
       "      <td>260.5555</td>\n",
       "      <td>0.24</td>\n",
       "      <td>-63.8700</td>\n",
       "      <td>0.30</td>\n",
       "      <td>1</td>\n",
       "      <td>+展开明细</td>\n",
       "    </tr>\n",
       "    <tr>\n",
       "      <th>12</th>\n",
       "      <td>600057</td>\n",
       "      <td>厦门象屿</td>\n",
       "      <td>2022-03-31</td>\n",
       "      <td>1</td>\n",
       "      <td>1441.0314</td>\n",
       "      <td>0.67</td>\n",
       "      <td>0.0000</td>\n",
       "      <td>0.67</td>\n",
       "      <td>1</td>\n",
       "      <td>+展开明细</td>\n",
       "    </tr>\n",
       "    <tr>\n",
       "      <th>13</th>\n",
       "      <td>600059</td>\n",
       "      <td>古越龙山</td>\n",
       "      <td>2022-03-31</td>\n",
       "      <td>1</td>\n",
       "      <td>420.7417</td>\n",
       "      <td>0.46</td>\n",
       "      <td>420.7417</td>\n",
       "      <td>0.00</td>\n",
       "      <td>0</td>\n",
       "      <td>+展开明细</td>\n",
       "    </tr>\n",
       "    <tr>\n",
       "      <th>14</th>\n",
       "      <td>600060</td>\n",
       "      <td>海信视像</td>\n",
       "      <td>2022-03-31</td>\n",
       "      <td>7</td>\n",
       "      <td>8279.7411</td>\n",
       "      <td>6.33</td>\n",
       "      <td>777.2028</td>\n",
       "      <td>5.73</td>\n",
       "      <td>7</td>\n",
       "      <td>+展开明细</td>\n",
       "    </tr>\n",
       "    <tr>\n",
       "      <th>15</th>\n",
       "      <td>600062</td>\n",
       "      <td>华润双鹤</td>\n",
       "      <td>2022-03-31</td>\n",
       "      <td>1</td>\n",
       "      <td>264.2860</td>\n",
       "      <td>0.25</td>\n",
       "      <td>-33.8100</td>\n",
       "      <td>0.29</td>\n",
       "      <td>1</td>\n",
       "      <td>+展开明细</td>\n",
       "    </tr>\n",
       "    <tr>\n",
       "      <th>16</th>\n",
       "      <td>600063</td>\n",
       "      <td>皖维高新</td>\n",
       "      <td>2022-03-31</td>\n",
       "      <td>2</td>\n",
       "      <td>1801.4282</td>\n",
       "      <td>0.94</td>\n",
       "      <td>1146.6182</td>\n",
       "      <td>0.34</td>\n",
       "      <td>1</td>\n",
       "      <td>+展开明细</td>\n",
       "    </tr>\n",
       "    <tr>\n",
       "      <th>17</th>\n",
       "      <td>600066</td>\n",
       "      <td>宇通客车</td>\n",
       "      <td>2022-03-31</td>\n",
       "      <td>1</td>\n",
       "      <td>2281.3571</td>\n",
       "      <td>1.01</td>\n",
       "      <td>-419.5066</td>\n",
       "      <td>1.19</td>\n",
       "      <td>1</td>\n",
       "      <td>+展开明细</td>\n",
       "    </tr>\n",
       "    <tr>\n",
       "      <th>18</th>\n",
       "      <td>600071</td>\n",
       "      <td>凤凰光学</td>\n",
       "      <td>2022-03-31</td>\n",
       "      <td>3</td>\n",
       "      <td>853.6743</td>\n",
       "      <td>3.03</td>\n",
       "      <td>256.0288</td>\n",
       "      <td>2.12</td>\n",
       "      <td>3</td>\n",
       "      <td>+展开明细</td>\n",
       "    </tr>\n",
       "    <tr>\n",
       "      <th>19</th>\n",
       "      <td>600072</td>\n",
       "      <td>中船科技</td>\n",
       "      <td>2022-03-31</td>\n",
       "      <td>2</td>\n",
       "      <td>727.6100</td>\n",
       "      <td>0.99</td>\n",
       "      <td>307.1600</td>\n",
       "      <td>0.57</td>\n",
       "      <td>1</td>\n",
       "      <td>+展开明细</td>\n",
       "    </tr>\n",
       "    <tr>\n",
       "      <th>20</th>\n",
       "      <td>600073</td>\n",
       "      <td>上海梅林</td>\n",
       "      <td>2022-03-31</td>\n",
       "      <td>2</td>\n",
       "      <td>3396.9774</td>\n",
       "      <td>3.62</td>\n",
       "      <td>978.4700</td>\n",
       "      <td>2.58</td>\n",
       "      <td>2</td>\n",
       "      <td>+展开明细</td>\n",
       "    </tr>\n",
       "    <tr>\n",
       "      <th>21</th>\n",
       "      <td>600075</td>\n",
       "      <td>新疆天业</td>\n",
       "      <td>2022-03-31</td>\n",
       "      <td>1</td>\n",
       "      <td>800.0000</td>\n",
       "      <td>0.47</td>\n",
       "      <td>0.0000</td>\n",
       "      <td>0.47</td>\n",
       "      <td>1</td>\n",
       "      <td>+展开明细</td>\n",
       "    </tr>\n",
       "    <tr>\n",
       "      <th>22</th>\n",
       "      <td>600079</td>\n",
       "      <td>人福医药</td>\n",
       "      <td>2022-03-31</td>\n",
       "      <td>1</td>\n",
       "      <td>1115.8910</td>\n",
       "      <td>0.68</td>\n",
       "      <td>19.3087</td>\n",
       "      <td>0.67</td>\n",
       "      <td>1</td>\n",
       "      <td>+展开明细</td>\n",
       "    </tr>\n",
       "    <tr>\n",
       "      <th>23</th>\n",
       "      <td>600082</td>\n",
       "      <td>海泰发展</td>\n",
       "      <td>2022-03-31</td>\n",
       "      <td>2</td>\n",
       "      <td>746.2000</td>\n",
       "      <td>1.15</td>\n",
       "      <td>746.2000</td>\n",
       "      <td>0.00</td>\n",
       "      <td>0</td>\n",
       "      <td>+展开明细</td>\n",
       "    </tr>\n",
       "    <tr>\n",
       "      <th>24</th>\n",
       "      <td>600085</td>\n",
       "      <td>同仁堂</td>\n",
       "      <td>2022-03-31</td>\n",
       "      <td>5</td>\n",
       "      <td>6422.3984</td>\n",
       "      <td>4.68</td>\n",
       "      <td>2863.5597</td>\n",
       "      <td>2.59</td>\n",
       "      <td>3</td>\n",
       "      <td>+展开明细</td>\n",
       "    </tr>\n",
       "    <tr>\n",
       "      <th>25</th>\n",
       "      <td>601975</td>\n",
       "      <td>招商南油</td>\n",
       "      <td>2022-03-31</td>\n",
       "      <td>1</td>\n",
       "      <td>1767.2043</td>\n",
       "      <td>0.36</td>\n",
       "      <td>-235.4500</td>\n",
       "      <td>0.41</td>\n",
       "      <td>1</td>\n",
       "      <td>+展开明细</td>\n",
       "    </tr>\n",
       "    <tr>\n",
       "      <th>26</th>\n",
       "      <td>600095</td>\n",
       "      <td>湘财股份</td>\n",
       "      <td>2022-03-31</td>\n",
       "      <td>1</td>\n",
       "      <td>1346.2830</td>\n",
       "      <td>0.47</td>\n",
       "      <td>-611.9592</td>\n",
       "      <td>0.69</td>\n",
       "      <td>2</td>\n",
       "      <td>+展开明细</td>\n",
       "    </tr>\n",
       "    <tr>\n",
       "      <th>27</th>\n",
       "      <td>600096</td>\n",
       "      <td>云天化</td>\n",
       "      <td>2022-03-31</td>\n",
       "      <td>1</td>\n",
       "      <td>506.9400</td>\n",
       "      <td>0.28</td>\n",
       "      <td>506.9400</td>\n",
       "      <td>0.00</td>\n",
       "      <td>0</td>\n",
       "      <td>+展开明细</td>\n",
       "    </tr>\n",
       "    <tr>\n",
       "      <th>28</th>\n",
       "      <td>600109</td>\n",
       "      <td>国金证券</td>\n",
       "      <td>2022-03-31</td>\n",
       "      <td>2</td>\n",
       "      <td>7609.6137</td>\n",
       "      <td>2.52</td>\n",
       "      <td>164.0649</td>\n",
       "      <td>2.46</td>\n",
       "      <td>2</td>\n",
       "      <td>+展开明细</td>\n",
       "    </tr>\n",
       "    <tr>\n",
       "      <th>29</th>\n",
       "      <td>600110</td>\n",
       "      <td>诺德股份</td>\n",
       "      <td>2022-03-31</td>\n",
       "      <td>8</td>\n",
       "      <td>14304.5048</td>\n",
       "      <td>8.23</td>\n",
       "      <td>1038.8132</td>\n",
       "      <td>9.49</td>\n",
       "      <td>7</td>\n",
       "      <td>+展开明细</td>\n",
       "    </tr>\n",
       "    <tr>\n",
       "      <th>30</th>\n",
       "      <td>600111</td>\n",
       "      <td>北方稀土</td>\n",
       "      <td>2022-03-31</td>\n",
       "      <td>5</td>\n",
       "      <td>4935.5965</td>\n",
       "      <td>1.36</td>\n",
       "      <td>2434.0060</td>\n",
       "      <td>0.69</td>\n",
       "      <td>3</td>\n",
       "      <td>+展开明细</td>\n",
       "    </tr>\n",
       "    <tr>\n",
       "      <th>31</th>\n",
       "      <td>600115</td>\n",
       "      <td>中国东航</td>\n",
       "      <td>2022-03-31</td>\n",
       "      <td>1</td>\n",
       "      <td>7844.6291</td>\n",
       "      <td>0.42</td>\n",
       "      <td>7844.6291</td>\n",
       "      <td>0.00</td>\n",
       "      <td>0</td>\n",
       "      <td>+展开明细</td>\n",
       "    </tr>\n",
       "    <tr>\n",
       "      <th>32</th>\n",
       "      <td>600117</td>\n",
       "      <td>西宁特钢</td>\n",
       "      <td>2022-03-31</td>\n",
       "      <td>1</td>\n",
       "      <td>208.0200</td>\n",
       "      <td>0.20</td>\n",
       "      <td>208.0200</td>\n",
       "      <td>0.00</td>\n",
       "      <td>0</td>\n",
       "      <td>+展开明细</td>\n",
       "    </tr>\n",
       "    <tr>\n",
       "      <th>33</th>\n",
       "      <td>600118</td>\n",
       "      <td>中国卫星</td>\n",
       "      <td>2022-03-31</td>\n",
       "      <td>3</td>\n",
       "      <td>1271.6625</td>\n",
       "      <td>1.08</td>\n",
       "      <td>131.0458</td>\n",
       "      <td>0.96</td>\n",
       "      <td>3</td>\n",
       "      <td>+展开明细</td>\n",
       "    </tr>\n",
       "    <tr>\n",
       "      <th>34</th>\n",
       "      <td>600121</td>\n",
       "      <td>郑州煤电</td>\n",
       "      <td>2022-03-31</td>\n",
       "      <td>3</td>\n",
       "      <td>1534.7963</td>\n",
       "      <td>1.26</td>\n",
       "      <td>-617.1400</td>\n",
       "      <td>1.77</td>\n",
       "      <td>3</td>\n",
       "      <td>+展开明细</td>\n",
       "    </tr>\n",
       "    <tr>\n",
       "      <th>35</th>\n",
       "      <td>600123</td>\n",
       "      <td>兰花科创</td>\n",
       "      <td>2022-03-31</td>\n",
       "      <td>5</td>\n",
       "      <td>3813.0530</td>\n",
       "      <td>3.34</td>\n",
       "      <td>-8280.2313</td>\n",
       "      <td>10.59</td>\n",
       "      <td>6</td>\n",
       "      <td>+展开明细</td>\n",
       "    </tr>\n",
       "    <tr>\n",
       "      <th>36</th>\n",
       "      <td>600128</td>\n",
       "      <td>弘业股份</td>\n",
       "      <td>2022-03-31</td>\n",
       "      <td>1</td>\n",
       "      <td>220.0000</td>\n",
       "      <td>0.89</td>\n",
       "      <td>220.0000</td>\n",
       "      <td>0.00</td>\n",
       "      <td>0</td>\n",
       "      <td>+展开明细</td>\n",
       "    </tr>\n",
       "    <tr>\n",
       "      <th>37</th>\n",
       "      <td>600129</td>\n",
       "      <td>太极集团</td>\n",
       "      <td>2022-03-31</td>\n",
       "      <td>2</td>\n",
       "      <td>1079.5900</td>\n",
       "      <td>1.94</td>\n",
       "      <td>330.2400</td>\n",
       "      <td>1.35</td>\n",
       "      <td>1</td>\n",
       "      <td>+展开明细</td>\n",
       "    </tr>\n",
       "    <tr>\n",
       "      <th>38</th>\n",
       "      <td>600131</td>\n",
       "      <td>国网信通</td>\n",
       "      <td>2022-03-31</td>\n",
       "      <td>4</td>\n",
       "      <td>6998.1609</td>\n",
       "      <td>5.85</td>\n",
       "      <td>4664.3175</td>\n",
       "      <td>1.95</td>\n",
       "      <td>2</td>\n",
       "      <td>+展开明细</td>\n",
       "    </tr>\n",
       "    <tr>\n",
       "      <th>39</th>\n",
       "      <td>600132</td>\n",
       "      <td>重庆啤酒</td>\n",
       "      <td>2022-03-31</td>\n",
       "      <td>5</td>\n",
       "      <td>2474.1198</td>\n",
       "      <td>5.11</td>\n",
       "      <td>-90.0042</td>\n",
       "      <td>5.30</td>\n",
       "      <td>5</td>\n",
       "      <td>+展开明细</td>\n",
       "    </tr>\n",
       "  </tbody>\n",
       "</table>\n",
       "</div>"
      ],
      "text/plain": [
       "        代码    简称        截至日期  家数   本期持股数(万股)  持股占已流通A股比例(%)   同上期增减(万股)  \\\n",
       "0   600006  东风汽车  2022-03-31   1    416.5162           0.21    -50.8500   \n",
       "1   600008  首创环保  2022-03-31   3   6025.9268           0.82  -1745.6070   \n",
       "2   600009  上海机场  2022-03-31   1   1102.8611           0.57   -161.4500   \n",
       "3   600011  华能国际  2022-03-31   1  16605.1848           1.06  16605.1848   \n",
       "4   600012  皖通高速  2022-03-31   1    292.3414           0.18    292.3414   \n",
       "5   600026  中远海能  2022-03-31   3  10098.0943           2.12  -1234.2574   \n",
       "6   600028  中国石化  2022-03-31   2  17768.8692           0.15   6425.2416   \n",
       "7   600030  中信证券  2022-03-31   1  20780.5399           1.40   4165.9361   \n",
       "8   600037  歌华有线  2022-03-31   1    909.9664           0.65    144.4800   \n",
       "9   600038  中直股份  2022-03-31   2    915.5758           1.55   -986.7410   \n",
       "10  600054  黄山旅游  2022-03-31   1    253.8637           0.35  -3455.2722   \n",
       "11  600056  中国医药  2022-03-31   1    260.5555           0.24    -63.8700   \n",
       "12  600057  厦门象屿  2022-03-31   1   1441.0314           0.67      0.0000   \n",
       "13  600059  古越龙山  2022-03-31   1    420.7417           0.46    420.7417   \n",
       "14  600060  海信视像  2022-03-31   7   8279.7411           6.33    777.2028   \n",
       "15  600062  华润双鹤  2022-03-31   1    264.2860           0.25    -33.8100   \n",
       "16  600063  皖维高新  2022-03-31   2   1801.4282           0.94   1146.6182   \n",
       "17  600066  宇通客车  2022-03-31   1   2281.3571           1.01   -419.5066   \n",
       "18  600071  凤凰光学  2022-03-31   3    853.6743           3.03    256.0288   \n",
       "19  600072  中船科技  2022-03-31   2    727.6100           0.99    307.1600   \n",
       "20  600073  上海梅林  2022-03-31   2   3396.9774           3.62    978.4700   \n",
       "21  600075  新疆天业  2022-03-31   1    800.0000           0.47      0.0000   \n",
       "22  600079  人福医药  2022-03-31   1   1115.8910           0.68     19.3087   \n",
       "23  600082  海泰发展  2022-03-31   2    746.2000           1.15    746.2000   \n",
       "24  600085   同仁堂  2022-03-31   5   6422.3984           4.68   2863.5597   \n",
       "25  601975  招商南油  2022-03-31   1   1767.2043           0.36   -235.4500   \n",
       "26  600095  湘财股份  2022-03-31   1   1346.2830           0.47   -611.9592   \n",
       "27  600096   云天化  2022-03-31   1    506.9400           0.28    506.9400   \n",
       "28  600109  国金证券  2022-03-31   2   7609.6137           2.52    164.0649   \n",
       "29  600110  诺德股份  2022-03-31   8  14304.5048           8.23   1038.8132   \n",
       "30  600111  北方稀土  2022-03-31   5   4935.5965           1.36   2434.0060   \n",
       "31  600115  中国东航  2022-03-31   1   7844.6291           0.42   7844.6291   \n",
       "32  600117  西宁特钢  2022-03-31   1    208.0200           0.20    208.0200   \n",
       "33  600118  中国卫星  2022-03-31   3   1271.6625           1.08    131.0458   \n",
       "34  600121  郑州煤电  2022-03-31   3   1534.7963           1.26   -617.1400   \n",
       "35  600123  兰花科创  2022-03-31   5   3813.0530           3.34  -8280.2313   \n",
       "36  600128  弘业股份  2022-03-31   1    220.0000           0.89    220.0000   \n",
       "37  600129  太极集团  2022-03-31   2   1079.5900           1.94    330.2400   \n",
       "38  600131  国网信通  2022-03-31   4   6998.1609           5.85   4664.3175   \n",
       "39  600132  重庆啤酒  2022-03-31   5   2474.1198           5.11    -90.0042   \n",
       "\n",
       "    持股比例(%)  上期家数     明细  \n",
       "0      0.23     1  +展开明细  \n",
       "1      1.06     4  +展开明细  \n",
       "2      0.66     1  +展开明细  \n",
       "3      0.00     0  +展开明细  \n",
       "4      0.00     0  +展开明细  \n",
       "5      2.38     3  +展开明细  \n",
       "6      0.09     1  +展开明细  \n",
       "7      1.29     1  +展开明细  \n",
       "8      0.55     1  +展开明细  \n",
       "9      3.23     3  +展开明细  \n",
       "10     5.09     5  +展开明细  \n",
       "11     0.30     1  +展开明细  \n",
       "12     0.67     1  +展开明细  \n",
       "13     0.00     0  +展开明细  \n",
       "14     5.73     7  +展开明细  \n",
       "15     0.29     1  +展开明细  \n",
       "16     0.34     1  +展开明细  \n",
       "17     1.19     1  +展开明细  \n",
       "18     2.12     3  +展开明细  \n",
       "19     0.57     1  +展开明细  \n",
       "20     2.58     2  +展开明细  \n",
       "21     0.47     1  +展开明细  \n",
       "22     0.67     1  +展开明细  \n",
       "23     0.00     0  +展开明细  \n",
       "24     2.59     3  +展开明细  \n",
       "25     0.41     1  +展开明细  \n",
       "26     0.69     2  +展开明细  \n",
       "27     0.00     0  +展开明细  \n",
       "28     2.46     2  +展开明细  \n",
       "29     9.49     7  +展开明细  \n",
       "30     0.69     3  +展开明细  \n",
       "31     0.00     0  +展开明细  \n",
       "32     0.00     0  +展开明细  \n",
       "33     0.96     3  +展开明细  \n",
       "34     1.77     3  +展开明细  \n",
       "35    10.59     6  +展开明细  \n",
       "36     0.00     0  +展开明细  \n",
       "37     1.35     1  +展开明细  \n",
       "38     1.95     2  +展开明细  \n",
       "39     5.30     5  +展开明细  "
      ]
     },
     "execution_count": 43,
     "metadata": {},
     "output_type": "execute_result"
    }
   ],
   "source": [
    "url = 'https://vip.stock.finance.sina.com.cn/q/go.php/vComStockHold/kind/jjzc/'\n",
    "\n",
    "df = pd.read_html(url)[0]\n",
    "\n",
    "df"
   ]
  },
  {
   "cell_type": "code",
   "execution_count": 44,
   "id": "d105a9a1",
   "metadata": {},
   "outputs": [
    {
     "name": "stdout",
     "output_type": "stream",
     "text": [
      "Page 1 completed!\n",
      "Page 2 completed!\n",
      "Page 3 completed!\n",
      "Page 4 completed!\n",
      "Page 5 completed!\n",
      "Page 6 completed!\n",
      "Page 7 completed!\n",
      "Page 8 completed!\n",
      "Page 9 completed!\n"
     ]
    },
    {
     "data": {
      "text/html": [
       "<div>\n",
       "<style scoped>\n",
       "    .dataframe tbody tr th:only-of-type {\n",
       "        vertical-align: middle;\n",
       "    }\n",
       "\n",
       "    .dataframe tbody tr th {\n",
       "        vertical-align: top;\n",
       "    }\n",
       "\n",
       "    .dataframe thead th {\n",
       "        text-align: right;\n",
       "    }\n",
       "</style>\n",
       "<table border=\"1\" class=\"dataframe\">\n",
       "  <thead>\n",
       "    <tr style=\"text-align: right;\">\n",
       "      <th></th>\n",
       "      <th>代码</th>\n",
       "      <th>简称</th>\n",
       "      <th>截至日期</th>\n",
       "      <th>家数</th>\n",
       "      <th>本期持股数(万股)</th>\n",
       "      <th>持股占已流通A股比例(%)</th>\n",
       "      <th>同上期增减(万股)</th>\n",
       "      <th>持股比例(%)</th>\n",
       "      <th>上期家数</th>\n",
       "      <th>明细</th>\n",
       "    </tr>\n",
       "  </thead>\n",
       "  <tbody>\n",
       "    <tr>\n",
       "      <th>0</th>\n",
       "      <td>600006</td>\n",
       "      <td>东风汽车</td>\n",
       "      <td>2022-03-31</td>\n",
       "      <td>1</td>\n",
       "      <td>416.5162</td>\n",
       "      <td>0.21</td>\n",
       "      <td>-50.8500</td>\n",
       "      <td>0.23</td>\n",
       "      <td>1</td>\n",
       "      <td>+展开明细</td>\n",
       "    </tr>\n",
       "    <tr>\n",
       "      <th>1</th>\n",
       "      <td>600008</td>\n",
       "      <td>首创环保</td>\n",
       "      <td>2022-03-31</td>\n",
       "      <td>3</td>\n",
       "      <td>6025.9268</td>\n",
       "      <td>0.82</td>\n",
       "      <td>-1745.6070</td>\n",
       "      <td>1.06</td>\n",
       "      <td>4</td>\n",
       "      <td>+展开明细</td>\n",
       "    </tr>\n",
       "    <tr>\n",
       "      <th>2</th>\n",
       "      <td>600009</td>\n",
       "      <td>上海机场</td>\n",
       "      <td>2022-03-31</td>\n",
       "      <td>1</td>\n",
       "      <td>1102.8611</td>\n",
       "      <td>0.57</td>\n",
       "      <td>-161.4500</td>\n",
       "      <td>0.66</td>\n",
       "      <td>1</td>\n",
       "      <td>+展开明细</td>\n",
       "    </tr>\n",
       "    <tr>\n",
       "      <th>3</th>\n",
       "      <td>600011</td>\n",
       "      <td>华能国际</td>\n",
       "      <td>2022-03-31</td>\n",
       "      <td>1</td>\n",
       "      <td>16605.1848</td>\n",
       "      <td>1.06</td>\n",
       "      <td>16605.1848</td>\n",
       "      <td>0.00</td>\n",
       "      <td>0</td>\n",
       "      <td>+展开明细</td>\n",
       "    </tr>\n",
       "    <tr>\n",
       "      <th>4</th>\n",
       "      <td>600012</td>\n",
       "      <td>皖通高速</td>\n",
       "      <td>2022-03-31</td>\n",
       "      <td>1</td>\n",
       "      <td>292.3414</td>\n",
       "      <td>0.18</td>\n",
       "      <td>292.3414</td>\n",
       "      <td>0.00</td>\n",
       "      <td>0</td>\n",
       "      <td>+展开明细</td>\n",
       "    </tr>\n",
       "    <tr>\n",
       "      <th>...</th>\n",
       "      <td>...</td>\n",
       "      <td>...</td>\n",
       "      <td>...</td>\n",
       "      <td>...</td>\n",
       "      <td>...</td>\n",
       "      <td>...</td>\n",
       "      <td>...</td>\n",
       "      <td>...</td>\n",
       "      <td>...</td>\n",
       "      <td>...</td>\n",
       "    </tr>\n",
       "    <tr>\n",
       "      <th>35</th>\n",
       "      <td>733</td>\n",
       "      <td>振华科技</td>\n",
       "      <td>2022-03-31</td>\n",
       "      <td>7</td>\n",
       "      <td>5228.4960</td>\n",
       "      <td>10.09</td>\n",
       "      <td>-487.7556</td>\n",
       "      <td>11.03</td>\n",
       "      <td>7</td>\n",
       "      <td>+展开明细</td>\n",
       "    </tr>\n",
       "    <tr>\n",
       "      <th>36</th>\n",
       "      <td>735</td>\n",
       "      <td>罗牛山</td>\n",
       "      <td>2022-03-31</td>\n",
       "      <td>1</td>\n",
       "      <td>679.4253</td>\n",
       "      <td>0.59</td>\n",
       "      <td>679.4253</td>\n",
       "      <td>0.00</td>\n",
       "      <td>0</td>\n",
       "      <td>+展开明细</td>\n",
       "    </tr>\n",
       "    <tr>\n",
       "      <th>37</th>\n",
       "      <td>736</td>\n",
       "      <td>中交地产</td>\n",
       "      <td>2022-03-31</td>\n",
       "      <td>5</td>\n",
       "      <td>4085.3682</td>\n",
       "      <td>5.87</td>\n",
       "      <td>2872.0800</td>\n",
       "      <td>1.74</td>\n",
       "      <td>1</td>\n",
       "      <td>+展开明细</td>\n",
       "    </tr>\n",
       "    <tr>\n",
       "      <th>38</th>\n",
       "      <td>738</td>\n",
       "      <td>航发控制</td>\n",
       "      <td>2022-03-31</td>\n",
       "      <td>2</td>\n",
       "      <td>1845.0267</td>\n",
       "      <td>1.40</td>\n",
       "      <td>108.6600</td>\n",
       "      <td>1.32</td>\n",
       "      <td>2</td>\n",
       "      <td>+展开明细</td>\n",
       "    </tr>\n",
       "    <tr>\n",
       "      <th>39</th>\n",
       "      <td>739</td>\n",
       "      <td>普洛药业</td>\n",
       "      <td>2022-03-31</td>\n",
       "      <td>4</td>\n",
       "      <td>8207.8192</td>\n",
       "      <td>6.96</td>\n",
       "      <td>250.3610</td>\n",
       "      <td>6.75</td>\n",
       "      <td>4</td>\n",
       "      <td>+展开明细</td>\n",
       "    </tr>\n",
       "  </tbody>\n",
       "</table>\n",
       "<p>360 rows × 10 columns</p>\n",
       "</div>"
      ],
      "text/plain": [
       "        代码    简称        截至日期  家数   本期持股数(万股)  持股占已流通A股比例(%)   同上期增减(万股)  \\\n",
       "0   600006  东风汽车  2022-03-31   1    416.5162           0.21    -50.8500   \n",
       "1   600008  首创环保  2022-03-31   3   6025.9268           0.82  -1745.6070   \n",
       "2   600009  上海机场  2022-03-31   1   1102.8611           0.57   -161.4500   \n",
       "3   600011  华能国际  2022-03-31   1  16605.1848           1.06  16605.1848   \n",
       "4   600012  皖通高速  2022-03-31   1    292.3414           0.18    292.3414   \n",
       "..     ...   ...         ...  ..         ...            ...         ...   \n",
       "35     733  振华科技  2022-03-31   7   5228.4960          10.09   -487.7556   \n",
       "36     735   罗牛山  2022-03-31   1    679.4253           0.59    679.4253   \n",
       "37     736  中交地产  2022-03-31   5   4085.3682           5.87   2872.0800   \n",
       "38     738  航发控制  2022-03-31   2   1845.0267           1.40    108.6600   \n",
       "39     739  普洛药业  2022-03-31   4   8207.8192           6.96    250.3610   \n",
       "\n",
       "    持股比例(%)  上期家数     明细  \n",
       "0      0.23     1  +展开明细  \n",
       "1      1.06     4  +展开明细  \n",
       "2      0.66     1  +展开明细  \n",
       "3      0.00     0  +展开明细  \n",
       "4      0.00     0  +展开明细  \n",
       "..      ...   ...    ...  \n",
       "35    11.03     7  +展开明细  \n",
       "36     0.00     0  +展开明细  \n",
       "37     1.74     1  +展开明细  \n",
       "38     1.32     2  +展开明细  \n",
       "39     6.75     4  +展开明细  \n",
       "\n",
       "[360 rows x 10 columns]"
      ]
     },
     "execution_count": 44,
     "metadata": {},
     "output_type": "execute_result"
    }
   ],
   "source": [
    "df = pd.DataFrame()\n",
    "\n",
    "for i in range(1, 10):\n",
    "    url = 'https://vip.stock.finance.sina.com.cn/q/go.php/vComStockHold/kind/jjzc/?p=%s' % i\n",
    "    df = pd.concat([df, pd.read_html(url)[0]])\n",
    "    print(\"Page %s completed!\" % i)\n",
    "    \n",
    "df"
   ]
  },
  {
   "cell_type": "code",
   "execution_count": null,
   "id": "6b887746",
   "metadata": {},
   "outputs": [],
   "source": []
  }
 ],
 "metadata": {
  "kernelspec": {
   "display_name": "Python 3 (ipykernel)",
   "language": "python",
   "name": "python3"
  },
  "language_info": {
   "codemirror_mode": {
    "name": "ipython",
    "version": 3
   },
   "file_extension": ".py",
   "mimetype": "text/x-python",
   "name": "python",
   "nbconvert_exporter": "python",
   "pygments_lexer": "ipython3",
   "version": "3.9.10"
  }
 },
 "nbformat": 4,
 "nbformat_minor": 5
}
