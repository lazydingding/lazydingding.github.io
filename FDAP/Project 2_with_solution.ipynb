{
 "cells": [
  {
   "cell_type": "markdown",
   "id": "71d36b06",
   "metadata": {},
   "source": [
    "## Project 2\n",
    "\n",
    "It's time to test your new pandas skills! Use the provided .csv file to complete the tasks below!\n",
    "\n",
    "Student Name 1:\n",
    "\n",
    "Student Name 2:\n",
    "\n",
    "(solo work is appreciated, it will be associated with 5% bonus)\n",
    "\n",
    "***\n",
    "### Task 1. Apple Stock\n",
    "\n",
    "***\n",
    "* Step 1. Import the necessary libraries and import the dataset from <u>apple.csv</u>, and transform the 'Date' column as a datetime type and set the date as the index."
   ]
  },
  {
   "cell_type": "code",
   "execution_count": null,
   "id": "ef917815",
   "metadata": {},
   "outputs": [],
   "source": [
    "import pandas as pd\n",
    "\n",
    "df = pd.read_csv('appl_1980_2014.csv', parse_dates=['Date'], index_col=['Date']).sort_index()\n",
    "\n",
    "df"
   ]
  },
  {
   "cell_type": "markdown",
   "id": "8844c443",
   "metadata": {},
   "source": [
    "***\n",
    "* Step 2. How many weeks and quarters in the data we have?"
   ]
  },
  {
   "cell_type": "code",
   "execution_count": null,
   "id": "f13f2af5",
   "metadata": {},
   "outputs": [],
   "source": [
    "df_weeks = df.resample('W').count()\n",
    "df_quarters = df.resample('Q').count()\n",
    "\n",
    "print('We have %s weeks.'% len(df_weeks)) \n",
    "print('We have %s quarters.'% len(df_quarters)) "
   ]
  },
  {
   "cell_type": "markdown",
   "id": "55d64981",
   "metadata": {},
   "source": [
    "***\n",
    "* Step 3. Get the stock price of **each Monday**. (tips: <code>dropna</code>)"
   ]
  },
  {
   "cell_type": "code",
   "execution_count": null,
   "id": "9ba9c87c",
   "metadata": {
    "scrolled": true
   },
   "outputs": [],
   "source": [
    "df.resample('W-MON').asfreq().dropna()"
   ]
  },
  {
   "cell_type": "markdown",
   "id": "a75cfff2",
   "metadata": {},
   "source": [
    "***\n",
    "* Step 4. Get the **quarterly** average stock price."
   ]
  },
  {
   "cell_type": "code",
   "execution_count": null,
   "id": "a84f5a63",
   "metadata": {
    "scrolled": true
   },
   "outputs": [],
   "source": [
    "df_q = df.resample('Q', kind='period').mean()\n",
    "\n",
    "df_q"
   ]
  },
  {
   "cell_type": "markdown",
   "id": "fd3e9499",
   "metadata": {},
   "source": [
    " ***\n",
    "* Step 5. Show stock price (<code>Close</code>) with 250-day MA (moving average) from 2005/1/1 to 2010/12/31."
   ]
  },
  {
   "cell_type": "code",
   "execution_count": null,
   "id": "0573a18b",
   "metadata": {},
   "outputs": [],
   "source": [
    "%matplotlib inline\n",
    "%config InlineBackend.figure_format = 'svg'\n",
    "\n",
    "df['2005/1/1':'2010/12/31']['Close'].plot()\n",
    "df['2005/1/1':'2010/12/31']['Close'].rolling(250).mean().plot()"
   ]
  },
  {
   "cell_type": "markdown",
   "id": "e9c2abcc",
   "metadata": {},
   "source": [
    "***\n",
    "* Step 6. Import <u>fundamentals.csv</u>, then transform <code>quarter</code> column as a <u>datetime period</u> type and set it as the index. (tips: <code>dt.to_period( )</code> could convert datetime to period type)"
   ]
  },
  {
   "cell_type": "code",
   "execution_count": null,
   "id": "f61e40de",
   "metadata": {},
   "outputs": [],
   "source": [
    "df_new = pd.read_csv('fundamentals.csv')\n",
    "\n",
    "df_new['quarter'] = pd.to_datetime(df_new['quarter'])\n",
    "\n",
    "df_new['quarter'] = df_new['quarter'].dt.to_period('Q')\n",
    "\n",
    "df_new = df_new.set_index('quarter')\n",
    "\n",
    "df_new"
   ]
  },
  {
   "cell_type": "markdown",
   "id": "22a89c44",
   "metadata": {},
   "source": [
    "***\n",
    "* Step 7. Append **quarterly** average stock price data (obtained at Step 4) into the fundamentals data. (tips: merge only the data that has the same index)"
   ]
  },
  {
   "cell_type": "code",
   "execution_count": null,
   "id": "e72b67ef",
   "metadata": {},
   "outputs": [],
   "source": [
    "df_merged = pd.merge(df_new, df_q, left_index=True, right_index=True)\n",
    "\n",
    "df_merged"
   ]
  },
  {
   "cell_type": "markdown",
   "id": "a0aad277",
   "metadata": {},
   "source": [
    "***\n",
    "* Step 8. Create a scatter plot presenting the relationship between the natural logarithm of <code>atq</code> (Total Asset) and the natural logarithm of <code>cheq</code> (Cash and Short-Term Investments). (tips: <code>np.log( )</code> could be used to calculate the natural logarithm)"
   ]
  },
  {
   "cell_type": "code",
   "execution_count": null,
   "id": "050b3687",
   "metadata": {
    "scrolled": false
   },
   "outputs": [],
   "source": [
    "import numpy as np\n",
    "import seaborn as sns\n",
    "\n",
    "df_new['atq_log'] = np.log(df_new['atq'])\n",
    "df_new['cheq_log'] = np.log(df_new['cheq'])\n",
    "\n",
    "sns.regplot(x='atq_log', y='cheq_log', data=df_new)"
   ]
  },
  {
   "cell_type": "markdown",
   "id": "a41a7c45",
   "metadata": {},
   "source": [
    "***\n",
    "* Step 9. Calculate the **Market-to-book ratio** and **PE ratio** of Apple.\n",
    "    * Market-to-book ratio = market value / book value = (stock price * common shares outstanding) / book value = (<code>Close</code> * <code>cshoq</code>) / <code>atq</code>\n",
    "    * PE ratio = market value / net earnings = (stock price * common shares outstanding) / net earnings = (<code>Close</code> * <code>cshoq</code>) / <code>niq</code>"
   ]
  },
  {
   "cell_type": "code",
   "execution_count": null,
   "id": "9dbb20cb",
   "metadata": {},
   "outputs": [],
   "source": [
    "df_merged['m2b'] = (df_merged['cshoq'] * df_merged['Close']) / df_merged['atq']\n",
    "df_merged['pe'] = (df_merged['cshoq'] * df_merged['Close']) / df_merged['niq']\n",
    "\n",
    "df_merged[['m2b','pe']]"
   ]
  },
  {
   "cell_type": "markdown",
   "id": "ee527efa",
   "metadata": {},
   "source": [
    "***\n",
    "* Step 10. Create two line plots of market-to-book ratio and PE ratio. They must be side by side."
   ]
  },
  {
   "cell_type": "code",
   "execution_count": null,
   "id": "acd4611f",
   "metadata": {},
   "outputs": [],
   "source": [
    "import matplotlib.pyplot as plt\n",
    "\n",
    "fig, axes = plt.subplots(2, 1)\n",
    "\n",
    "fig.tight_layout()\n",
    "\n",
    "df_merged['m2b'].plot(ax=axes[0], title='Market-to-Book Ratio')\n",
    "df_merged['pe'].plot(ax=axes[1], title='PE Ratio')"
   ]
  },
  {
   "cell_type": "markdown",
   "id": "70cda3d5",
   "metadata": {},
   "source": [
    "***\n",
    "BONUS: Based on the merged dataset, please create your own question and answer it using a graph."
   ]
  },
  {
   "cell_type": "code",
   "execution_count": null,
   "id": "49768990",
   "metadata": {},
   "outputs": [],
   "source": []
  }
 ],
 "metadata": {
  "kernelspec": {
   "display_name": "Python 3 (ipykernel)",
   "language": "python",
   "name": "python3"
  },
  "language_info": {
   "codemirror_mode": {
    "name": "ipython",
    "version": 3
   },
   "file_extension": ".py",
   "mimetype": "text/x-python",
   "name": "python",
   "nbconvert_exporter": "python",
   "pygments_lexer": "ipython3",
   "version": "3.9.10"
  }
 },
 "nbformat": 4,
 "nbformat_minor": 5
}
