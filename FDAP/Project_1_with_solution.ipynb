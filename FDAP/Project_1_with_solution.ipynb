{
 "cells": [
  {
   "cell_type": "markdown",
   "id": "4cfc759b",
   "metadata": {},
   "source": [
    "# Financial Data Analysis with Python\n",
    "\n",
    "### Instructor: Luping Yu\n",
    "\n",
    "### Mar 22, 2022\n",
    "\n",
    "***\n",
    "## Project 1\n",
    "\n",
    "It's time to test your new pandas skills! Use the provided .csv file to complete the tasks below!\n",
    "\n",
    "Student Name 1:\n",
    "\n",
    "Student Name 2:\n",
    "\n",
    "\n",
    "### Task 1. Bank M&A\n",
    "\n",
    "Note: failed banks (Bank Name) are bought by another bank (Acquiring Institution)."
   ]
  },
  {
   "cell_type": "code",
   "execution_count": null,
   "id": "21110d83",
   "metadata": {},
   "outputs": [],
   "source": [
    "import pandas as pd\n",
    "\n",
    "df = pd.read_csv('banklist.csv')"
   ]
  },
  {
   "cell_type": "code",
   "execution_count": null,
   "id": "0498a566",
   "metadata": {},
   "outputs": [],
   "source": [
    "df"
   ]
  },
  {
   "cell_type": "markdown",
   "id": "8939c657",
   "metadata": {},
   "source": [
    "***\n",
    "* Step 1. How many States (ST) are represented in this data set?"
   ]
  },
  {
   "cell_type": "code",
   "execution_count": null,
   "id": "f01c2907",
   "metadata": {},
   "outputs": [],
   "source": [
    "len(df['ST'].drop_duplicates())"
   ]
  },
  {
   "cell_type": "markdown",
   "id": "88b61b9a",
   "metadata": {},
   "source": [
    "***\n",
    "* Step 2. What are the top 5 states with the most failed banks? (tips: groupby 'ST' and use <u>count</u>)"
   ]
  },
  {
   "cell_type": "code",
   "execution_count": null,
   "id": "e8d2ee67",
   "metadata": {},
   "outputs": [],
   "source": [
    "df"
   ]
  },
  {
   "cell_type": "code",
   "execution_count": null,
   "id": "c4ffb516",
   "metadata": {
    "scrolled": true
   },
   "outputs": [],
   "source": [
    "df.groupby('ST').count()['Bank Name'].sort_values(ascending=False)[:5]\n",
    "#df.groupby('ST').count()['City'].sort_values(ascending=False)[:5]\n",
    "#df.groupby('ST')['Bank Name'].count().sort_values(ascending=False).head(5)"
   ]
  },
  {
   "cell_type": "markdown",
   "id": "aad36d11",
   "metadata": {},
   "source": [
    "***\n",
    "* Step 3. What are the top 5 states with the highest **average** CERT (Certificate) value of failed banks? (tips: groupby 'ST' and use <u>mean</u>)"
   ]
  },
  {
   "cell_type": "code",
   "execution_count": null,
   "id": "5613865b",
   "metadata": {},
   "outputs": [],
   "source": [
    "df.groupby('ST').mean()['CERT'].sort_values(ascending=False)[:5]\n",
    "#df.groupby('ST')['CERT'].mean().sort_values(ascending=False).head(5)"
   ]
  },
  {
   "cell_type": "markdown",
   "id": "b7ac6e5c",
   "metadata": {},
   "source": [
    "***\n",
    "* Step 4. What are the top 5 acquiring institutions?"
   ]
  },
  {
   "cell_type": "code",
   "execution_count": null,
   "id": "375bffcd",
   "metadata": {},
   "outputs": [],
   "source": [
    "df['Acquiring Institution'].value_counts()[:5]\n",
    "#df.groupby('Acquiring Institution').count()['Bank Name'].sort_values(ascending=False)[:5]"
   ]
  },
  {
   "cell_type": "markdown",
   "id": "804d222d",
   "metadata": {},
   "source": [
    "***\n",
    "* Step 5. How many banks has the *State Bank of Texas* acquired?"
   ]
  },
  {
   "cell_type": "code",
   "execution_count": null,
   "id": "56f5de56",
   "metadata": {
    "scrolled": true
   },
   "outputs": [],
   "source": [
    "df[df['Acquiring Institution']=='State Bank of Texas']"
   ]
  },
  {
   "cell_type": "markdown",
   "id": "a336eb81",
   "metadata": {},
   "source": [
    "***\n",
    "* Step 6. What is the most common city in California for a bank to fail in? (tips: 'ST' == 'CA' and groupby 'City')"
   ]
  },
  {
   "cell_type": "code",
   "execution_count": null,
   "id": "8a45d09d",
   "metadata": {},
   "outputs": [],
   "source": [
    "df[df['ST']=='CA'].groupby('City')['Bank Name'].count().sort_values(ascending=False).head(1)"
   ]
  },
  {
   "cell_type": "markdown",
   "id": "f9122db5",
   "metadata": {},
   "source": [
    "***\n",
    "* Step 7. How many failed banks **don't** have the word \"Bank\" in their name?"
   ]
  },
  {
   "cell_type": "code",
   "execution_count": null,
   "id": "ed4c07fa",
   "metadata": {},
   "outputs": [],
   "source": [
    "len(df) - sum(df['Bank Name'].str.contains('Bank'))\n",
    "#sum(df['Bank Name'].str.contains('Bank') == False)\n",
    "#sum(~df['Bank Name'].str.contains('Bank'))\n",
    "#sum(df['Bank Name'].apply(lambda name: 'Bank' not in name))"
   ]
  },
  {
   "cell_type": "markdown",
   "id": "efcfbeb8",
   "metadata": {},
   "source": [
    "***\n",
    "* Step 8. How many bank names consist of just two words? (e.g. \"First Bank\" , \"Bank Georgia\" )"
   ]
  },
  {
   "cell_type": "code",
   "execution_count": null,
   "id": "27342c0d",
   "metadata": {},
   "outputs": [],
   "source": [
    "sum(df['Bank Name'].str.split(' ').str.len() == 2)\n",
    "#sum(df['Bank Name'].str.count(' ') + 1 == 2)"
   ]
  },
  {
   "cell_type": "markdown",
   "id": "9418a43a",
   "metadata": {},
   "source": [
    "***\n",
    "### Task 2. Occupation"
   ]
  },
  {
   "cell_type": "code",
   "execution_count": null,
   "id": "824aefc9",
   "metadata": {},
   "outputs": [],
   "source": [
    "import pandas as pd\n",
    "\n",
    "df = pd.read_csv('occupation.csv', index_col='user_id')"
   ]
  },
  {
   "cell_type": "code",
   "execution_count": null,
   "id": "463958c2",
   "metadata": {},
   "outputs": [],
   "source": [
    "df"
   ]
  },
  {
   "cell_type": "markdown",
   "id": "7a629171",
   "metadata": {},
   "source": [
    "***\n",
    "* Step 1. What is the mean age per occupation? (tips: groupby 'occupation')"
   ]
  },
  {
   "cell_type": "code",
   "execution_count": null,
   "id": "edb3fe57",
   "metadata": {
    "scrolled": true
   },
   "outputs": [],
   "source": [
    "df.groupby('occupation')['age'].mean()\n",
    "#df.groupby('occupation')['age'].apply('mean')\n",
    "#df.groupby('occupation')['age'].agg('mean')"
   ]
  },
  {
   "cell_type": "markdown",
   "id": "4ee3aa72",
   "metadata": {},
   "source": [
    "***\n",
    "* Step 2. For each occupation, calculate the minimum and maximum ages."
   ]
  },
  {
   "cell_type": "code",
   "execution_count": null,
   "id": "83bff59b",
   "metadata": {
    "scrolled": true
   },
   "outputs": [],
   "source": [
    "df.groupby('occupation')['age'].agg(['min', 'max'])"
   ]
  },
  {
   "cell_type": "markdown",
   "id": "a219465d",
   "metadata": {},
   "source": [
    "***\n",
    "* Step 3. For each combination of occupation and gender, calculate the **median** age."
   ]
  },
  {
   "cell_type": "code",
   "execution_count": null,
   "id": "eee29c01",
   "metadata": {
    "scrolled": true
   },
   "outputs": [],
   "source": [
    "df.groupby(['occupation', 'gender'])['age'].median()"
   ]
  },
  {
   "cell_type": "markdown",
   "id": "697aa229",
   "metadata": {},
   "source": [
    "***\n",
    "* Step 4. Create a column named 'male', which equals to 1 if gender is 'M' and zero otherwise. (tips: covert 'gender' column to numeric type: M: 1; F: 0)"
   ]
  },
  {
   "cell_type": "code",
   "execution_count": null,
   "id": "68e9c2e8",
   "metadata": {},
   "outputs": [],
   "source": [
    "df['male'] = df['gender']\n",
    "df['male'] = df['male'].replace('M', 1)\n",
    "df['male'] = df['male'].replace('F', 0)\n",
    "\n",
    "df"
   ]
  },
  {
   "cell_type": "code",
   "execution_count": null,
   "id": "11f45480",
   "metadata": {},
   "outputs": [],
   "source": [
    "def gender_to_numeric(x):\n",
    "    if x == 'M':\n",
    "        return 1\n",
    "    if x == 'F':\n",
    "        return 0\n",
    "    \n",
    "df['male'] = df['gender'].apply(gender_to_numeric)\n",
    "\n",
    "df"
   ]
  },
  {
   "cell_type": "code",
   "execution_count": null,
   "id": "c13ab4d3",
   "metadata": {},
   "outputs": [],
   "source": [
    "import numpy as np\n",
    "\n",
    "df['male'] = np.where(df['gender'] == 'M', 1, 0)\n",
    "\n",
    "df"
   ]
  },
  {
   "cell_type": "markdown",
   "id": "548891cc",
   "metadata": {},
   "source": [
    "***\n",
    "* Step 5. What is the Male ratio per occupation? Sort it from the most to the least."
   ]
  },
  {
   "cell_type": "code",
   "execution_count": null,
   "id": "e0a42021",
   "metadata": {
    "scrolled": true
   },
   "outputs": [],
   "source": [
    "df.groupby('occupation')['male'].mean().sort_values(ascending=False)"
   ]
  }
 ],
 "metadata": {
  "kernelspec": {
   "display_name": "Python 3 (ipykernel)",
   "language": "python",
   "name": "python3"
  },
  "language_info": {
   "codemirror_mode": {
    "name": "ipython",
    "version": 3
   },
   "file_extension": ".py",
   "mimetype": "text/x-python",
   "name": "python",
   "nbconvert_exporter": "python",
   "pygments_lexer": "ipython3",
   "version": "3.9.10"
  }
 },
 "nbformat": 4,
 "nbformat_minor": 5
}
