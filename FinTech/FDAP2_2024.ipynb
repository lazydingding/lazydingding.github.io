{
 "cells": [
  {
   "cell_type": "markdown",
   "id": "0b45c495",
   "metadata": {},
   "source": [
    "# Lecture 02. Data Structure\n",
    "\n",
    "### Instructor: Luping Yu\n",
    "\n",
    "### Mar 5, 2024\n",
    "\n",
    "***\n",
    "\n",
    "We'll start with Python data structures such as **lists**, **dicts**, and **sets**. Then, we'll delve into the mechanics of Pandas objects, including **series** and **dataframe**.\n",
    "\n",
    "### Python Language Basics\n",
    "\n",
    "***\n",
    "* <code>Numeric types</code>: The primary Python types for numbers are **int** and **float**."
   ]
  },
  {
   "cell_type": "code",
   "execution_count": null,
   "id": "6f0d159d",
   "metadata": {},
   "outputs": [],
   "source": [
    "a = 2    # int\n",
    "b = 4.8  # float"
   ]
  },
  {
   "cell_type": "markdown",
   "id": "110442cf",
   "metadata": {},
   "source": [
    "***\n",
    "\n",
    "* <code>String</code>: Many people use Python for its powerful and flexible built-in string processing capabilities."
   ]
  },
  {
   "cell_type": "code",
   "execution_count": null,
   "id": "539fa049",
   "metadata": {},
   "outputs": [],
   "source": [
    "var = 'Hello, XMU School of Management'  # Either single quotes ' or double quotes \""
   ]
  },
  {
   "cell_type": "code",
   "execution_count": null,
   "id": "b0cbb2b1",
   "metadata": {
    "scrolled": true
   },
   "outputs": [],
   "source": [
    "# Common string operations\n",
    "var[:5]\n",
    "len(var)\n",
    "var.replace('Management','Economics')\n",
    "var.split()\n",
    "var.split(',')\n",
    "' '.join([var, 'Finance'])\n",
    "var.upper()\n",
    "var.lower()\n",
    "'1'.zfill(6)"
   ]
  },
  {
   "cell_type": "markdown",
   "id": "018ab4f3",
   "metadata": {},
   "source": [
    "***\n",
    "\n",
    "* <code>Boolean</code>: The two boolean values in Python are written as **True** and **False**."
   ]
  },
  {
   "cell_type": "code",
   "execution_count": null,
   "id": "623cae19",
   "metadata": {},
   "outputs": [],
   "source": [
    "# Boolean operations\n",
    "a == b\n",
    "a > b\n",
    "a < b\n",
    "not a == b # a != b\n",
    "(a > b) and (c > b) # (a > b) & (c > b)\n",
    "(a > b) or (c > b) # (a > b) | (c > b)"
   ]
  },
  {
   "cell_type": "markdown",
   "id": "23c9227b",
   "metadata": {},
   "source": [
    "***\n",
    "\n",
    "* <code>List</code>: Lists are variable-length and their contents can be modified in-place. You can define them using square brackets <code>[ ]</code>\n",
    "    * <code>List</code> supports **slicing** just like <code>String</code>, a single character of a string can be treated as an element of a list."
   ]
  },
  {
   "cell_type": "code",
   "execution_count": null,
   "id": "103b4e7b",
   "metadata": {},
   "outputs": [],
   "source": [
    "x = [] \n",
    "x = [1, 2, 3, 4, 5]\n",
    "x = ['a', 'b', 'c']\n",
    "x = [1, 'a', True, [2, 3, 4], None]"
   ]
  },
  {
   "cell_type": "code",
   "execution_count": null,
   "id": "09731384",
   "metadata": {},
   "outputs": [],
   "source": [
    "# Common list operations\n",
    "a = [1, 5, 4, 2, 3]\n",
    "len(a)\n",
    "max(a)\n",
    "min(a)\n",
    "sum(a)\n",
    "a.count(3)\n",
    "sorted(a)\n",
    "a.append(6)\n",
    "a.extend([7, 8])\n",
    "a.insert(1, 'a')\n",
    "a.pop()\n",
    "a.remove('a')"
   ]
  },
  {
   "cell_type": "code",
   "execution_count": null,
   "id": "2c41ff50",
   "metadata": {},
   "outputs": [],
   "source": [
    "# Iterate over a list\n",
    "a = [1, 5, 4, 2, 3]\n",
    "for i in a:\n",
    "    print(i * 2)"
   ]
  },
  {
   "cell_type": "code",
   "execution_count": null,
   "id": "eab24f0d",
   "metadata": {},
   "outputs": [],
   "source": [
    "# List comprehensions\n",
    "[i for i in range(5)]\n",
    "\n",
    "# Customize output\n",
    "['第' + str(i) for i in range(5)]\n",
    "\n",
    "# Filter\n",
    "[i for i in range(5) if i > 2]\n",
    "\n",
    "# Split the string, filter out spaces, and convert all characters to uppercase\n",
    "[i.upper() for i in 'Hello XMU' if i != ' ']"
   ]
  },
  {
   "cell_type": "markdown",
   "id": "2fa5dd09-753e-4e9f-81e6-fc79737d7061",
   "metadata": {},
   "source": [
    "***\n",
    "\n",
    "* <code>set</code>: A set is an unordered collection of **unique** elements. Sets have no order and no way to access elements by position"
   ]
  },
  {
   "cell_type": "code",
   "execution_count": null,
   "id": "d74e1857-7af0-439e-b794-c52fbacf19a7",
   "metadata": {},
   "outputs": [],
   "source": [
    "# The following methods can be used to define a set\n",
    "s = {1, 2, 3, 4, 5}\n",
    "s = set([1, 2, 3, 4, 5])\n",
    "\n",
    "# Unique elements\n",
    "s = {1, 2, 2, 2}"
   ]
  },
  {
   "cell_type": "markdown",
   "id": "65c236ad",
   "metadata": {},
   "source": [
    "***\n",
    "\n",
    "* <code>Dict</code>: A more common name for it is **associative array**. It is a flexibly sized collection of **key-value** pairs. You can define them using curly braces <code>{ }</code>"
   ]
  },
  {
   "cell_type": "code",
   "execution_count": null,
   "id": "b1526cc1",
   "metadata": {},
   "outputs": [],
   "source": [
    "# The following methods can be used to define a dictionary\n",
    "d = {'name': 'Tom', 'age': 18, 'height': 180}\n",
    "d = dict(name='Tom', age=18, height=180)\n",
    "d = dict([('name', 'Tom'), ('age', 18), ('height', 180)])"
   ]
  },
  {
   "cell_type": "code",
   "execution_count": null,
   "id": "f839cf46",
   "metadata": {},
   "outputs": [],
   "source": [
    "# Ways to access a Python dictionary\n",
    "d['name']\n",
    "d['age'] = 20\n",
    "d['gender'] = 'female'\n",
    "\n",
    "# Common dict operations\n",
    "d.keys()\n",
    "d.values()\n",
    "d.items()"
   ]
  },
  {
   "cell_type": "markdown",
   "id": "9d30d19d",
   "metadata": {},
   "source": [
    "***\n",
    "\n",
    "### Pandas Basics\n",
    "\n",
    "Throughout the rest of the class, I use the following import convention for <code>pandas</code>:"
   ]
  },
  {
   "cell_type": "code",
   "execution_count": 1,
   "id": "bdfbabd1",
   "metadata": {},
   "outputs": [],
   "source": [
    "import pandas as pd"
   ]
  },
  {
   "cell_type": "markdown",
   "id": "bb057c36",
   "metadata": {},
   "source": [
    "To get started with pandas, you will need to get comfortable with two data structures: <code>Series</code> and <code>DataFrame</code>\n",
    "\n",
    "***\n",
    "\n",
    "### Series\n",
    "\n",
    "A <code>Series</code> is a **one-dimensional array-like object** containing a sequence of values and an associated array of data labels, called its **index**. The simplest Series is formed from only an array of data."
   ]
  },
  {
   "cell_type": "code",
   "execution_count": 2,
   "id": "c24a3e2b",
   "metadata": {},
   "outputs": [
    {
     "data": {
      "text/plain": [
       "0    4\n",
       "1    7\n",
       "2   -5\n",
       "3    3\n",
       "dtype: int64"
      ]
     },
     "execution_count": 2,
     "metadata": {},
     "output_type": "execute_result"
    }
   ],
   "source": [
    "obj = pd.Series([4, 7, -5, 3])\n",
    "obj"
   ]
  },
  {
   "cell_type": "markdown",
   "id": "101da634",
   "metadata": {},
   "source": [
    "The string representation of a Series displayed interactively shows the index on the left and the values on the right. Since we did not specify an index for the data, a default one consisting of the integers 0 through N - 1 (where N is the length of the data) is created. You can get the array representation and index object of the Series via its <code>.values</code> and <code>.index</code> attributes, respectively:"
   ]
  },
  {
   "cell_type": "code",
   "execution_count": 3,
   "id": "6ebf0302",
   "metadata": {},
   "outputs": [
    {
     "data": {
      "text/plain": [
       "array([ 4,  7, -5,  3])"
      ]
     },
     "execution_count": 3,
     "metadata": {},
     "output_type": "execute_result"
    }
   ],
   "source": [
    "obj.values"
   ]
  },
  {
   "cell_type": "code",
   "execution_count": 4,
   "id": "79299cfc",
   "metadata": {},
   "outputs": [
    {
     "data": {
      "text/plain": [
       "RangeIndex(start=0, stop=4, step=1)"
      ]
     },
     "execution_count": 4,
     "metadata": {},
     "output_type": "execute_result"
    }
   ],
   "source": [
    "obj.index"
   ]
  },
  {
   "cell_type": "markdown",
   "id": "24edfc39",
   "metadata": {},
   "source": [
    "Often it will be desirable to create a <code>Series</code> with an index identifying each data point with a label:"
   ]
  },
  {
   "cell_type": "code",
   "execution_count": 5,
   "id": "88613841",
   "metadata": {},
   "outputs": [
    {
     "data": {
      "text/plain": [
       "amy      81\n",
       "bob      77\n",
       "chris    85\n",
       "david    59\n",
       "dtype: int64"
      ]
     },
     "execution_count": 5,
     "metadata": {},
     "output_type": "execute_result"
    }
   ],
   "source": [
    "obj2 = pd.Series([81, 77, 85, 59], index = ['amy', 'bob', 'chris', 'david'])\n",
    "obj2"
   ]
  },
  {
   "cell_type": "markdown",
   "id": "6e9c1b34",
   "metadata": {},
   "source": [
    "You can use **labels** in the index when selecting single values or a set of values:"
   ]
  },
  {
   "cell_type": "code",
   "execution_count": 6,
   "id": "08c442c0",
   "metadata": {},
   "outputs": [
    {
     "data": {
      "text/plain": [
       "81"
      ]
     },
     "execution_count": 6,
     "metadata": {},
     "output_type": "execute_result"
    }
   ],
   "source": [
    "obj2['amy']"
   ]
  },
  {
   "cell_type": "code",
   "execution_count": 7,
   "id": "3616b996",
   "metadata": {},
   "outputs": [
    {
     "data": {
      "text/plain": [
       "chris    85\n",
       "amy      81\n",
       "david    59\n",
       "dtype: int64"
      ]
     },
     "execution_count": 7,
     "metadata": {},
     "output_type": "execute_result"
    }
   ],
   "source": [
    "obj2[['chris', 'amy', 'david']]"
   ]
  },
  {
   "cell_type": "markdown",
   "id": "759031ac",
   "metadata": {},
   "source": [
    "Here <code>['chris', 'amy', 'david']</code> is interpreted as a list of indices, even though it contains strings instead of integers.\n",
    "\n",
    "We can also using functions or operations:"
   ]
  },
  {
   "cell_type": "code",
   "execution_count": 8,
   "id": "63d8b678",
   "metadata": {},
   "outputs": [
    {
     "data": {
      "text/plain": [
       "amy      81\n",
       "bob      77\n",
       "chris    85\n",
       "dtype: int64"
      ]
     },
     "execution_count": 8,
     "metadata": {},
     "output_type": "execute_result"
    }
   ],
   "source": [
    "obj2[obj2 > 60]"
   ]
  },
  {
   "cell_type": "code",
   "execution_count": 9,
   "id": "e620474d",
   "metadata": {},
   "outputs": [
    {
     "data": {
      "text/plain": [
       "amy      162\n",
       "bob      154\n",
       "chris    170\n",
       "david    118\n",
       "dtype: int64"
      ]
     },
     "execution_count": 9,
     "metadata": {},
     "output_type": "execute_result"
    }
   ],
   "source": [
    "obj2 * 2"
   ]
  },
  {
   "cell_type": "markdown",
   "id": "a7db36c2",
   "metadata": {},
   "source": [
    "Another way to think about a <code>Series</code> is as a fixed-length, ordered <code>dict</code>, as it is a mapping of index values to data values."
   ]
  },
  {
   "cell_type": "code",
   "execution_count": 10,
   "id": "1bb1bfb1",
   "metadata": {},
   "outputs": [
    {
     "data": {
      "text/plain": [
       "True"
      ]
     },
     "execution_count": 10,
     "metadata": {},
     "output_type": "execute_result"
    }
   ],
   "source": [
    "'bob' in obj2"
   ]
  },
  {
   "cell_type": "code",
   "execution_count": 11,
   "id": "a4677beb",
   "metadata": {},
   "outputs": [
    {
     "data": {
      "text/plain": [
       "False"
      ]
     },
     "execution_count": 11,
     "metadata": {},
     "output_type": "execute_result"
    }
   ],
   "source": [
    "'emma' in obj2"
   ]
  },
  {
   "cell_type": "markdown",
   "id": "b01c3321",
   "metadata": {},
   "source": [
    "Should you have data contained in a <code>dict</code>, you can create a <code>Series</code> from it by passing the <code>dict</code>:"
   ]
  },
  {
   "cell_type": "code",
   "execution_count": 12,
   "id": "0d3090a7",
   "metadata": {},
   "outputs": [
    {
     "data": {
      "text/plain": [
       "Fujian        53110\n",
       "Sichuan       56750\n",
       "Shanghai      44653\n",
       "Guangdong    129119\n",
       "dtype: int64"
      ]
     },
     "execution_count": 12,
     "metadata": {},
     "output_type": "execute_result"
    }
   ],
   "source": [
    "sdata = {'Fujian': 53110, 'Sichuan': 56750, 'Shanghai': 44653, 'Guangdong': 129119}\n",
    "obj3 = pd.Series(sdata)\n",
    "obj3"
   ]
  },
  {
   "cell_type": "markdown",
   "id": "73806b77",
   "metadata": {},
   "source": [
    "When you are only passing a <code>dict</code>, the index in the resulting <code>Series</code> will have the dict's keys in sorted order. You can override this by passing the <code>dict</code> keys in the order you want them to appear in the resulting Series:"
   ]
  },
  {
   "cell_type": "code",
   "execution_count": 13,
   "id": "2d0ec00d",
   "metadata": {},
   "outputs": [
    {
     "data": {
      "text/plain": [
       "Guangdong    129119.0\n",
       "Sichuan       56750.0\n",
       "Fujian        53110.0\n",
       "Beijing           NaN\n",
       "dtype: float64"
      ]
     },
     "execution_count": 13,
     "metadata": {},
     "output_type": "execute_result"
    }
   ],
   "source": [
    "obj4 = pd.Series(sdata, index=['Guangdong', 'Sichuan', 'Fujian','Beijing'])\n",
    "obj4"
   ]
  },
  {
   "cell_type": "markdown",
   "id": "71c9b6cd",
   "metadata": {},
   "source": [
    "Here, three values found in sdata were placed in the appropriate locations, but since no value for 'Beijing' was found, it appears as <code>NaN</code> (not a number), which is considered in pandas to mark missing or NA values. Since 'Shanghai' was not included in states, it is excluded from the resulting object.\n",
    "\n",
    "The <code>isnull</code> and <code>notnull</code> functions in pandas should be used to detect missing data:"
   ]
  },
  {
   "cell_type": "code",
   "execution_count": 14,
   "id": "3fbc0d6d",
   "metadata": {},
   "outputs": [
    {
     "data": {
      "text/plain": [
       "Guangdong    False\n",
       "Sichuan      False\n",
       "Fujian       False\n",
       "Beijing       True\n",
       "dtype: bool"
      ]
     },
     "execution_count": 14,
     "metadata": {},
     "output_type": "execute_result"
    }
   ],
   "source": [
    "pd.isnull(obj4)"
   ]
  },
  {
   "cell_type": "code",
   "execution_count": 15,
   "id": "288f88a1",
   "metadata": {},
   "outputs": [
    {
     "data": {
      "text/plain": [
       "Guangdong     True\n",
       "Sichuan       True\n",
       "Fujian        True\n",
       "Beijing      False\n",
       "dtype: bool"
      ]
     },
     "execution_count": 15,
     "metadata": {},
     "output_type": "execute_result"
    }
   ],
   "source": [
    "pd.notnull(obj4)"
   ]
  },
  {
   "cell_type": "markdown",
   "id": "fa660161",
   "metadata": {},
   "source": [
    "A useful <code>Series</code> feature for many applications is that it **automatically aligns** by index label in arithmetic operations:"
   ]
  },
  {
   "cell_type": "code",
   "execution_count": 16,
   "id": "1b85d48a",
   "metadata": {},
   "outputs": [
    {
     "data": {
      "text/plain": [
       "Beijing           NaN\n",
       "Fujian       106220.0\n",
       "Guangdong    258238.0\n",
       "Shanghai          NaN\n",
       "Sichuan      113500.0\n",
       "dtype: float64"
      ]
     },
     "execution_count": 16,
     "metadata": {},
     "output_type": "execute_result"
    }
   ],
   "source": [
    "obj3 + obj4"
   ]
  },
  {
   "cell_type": "markdown",
   "id": "e5070679",
   "metadata": {},
   "source": [
    "Both the Series object itself and its index have a **name** attribute, which integrates with other key areas of pandas functionality:"
   ]
  },
  {
   "cell_type": "code",
   "execution_count": 17,
   "id": "b4df8bb6",
   "metadata": {},
   "outputs": [
    {
     "data": {
      "text/plain": [
       "province\n",
       "Guangdong    129119.0\n",
       "Sichuan       56750.0\n",
       "Fujian        53110.0\n",
       "Beijing           NaN\n",
       "Name: gdp, dtype: float64"
      ]
     },
     "execution_count": 17,
     "metadata": {},
     "output_type": "execute_result"
    }
   ],
   "source": [
    "obj4.name = 'gdp'\n",
    "obj4.index.name = 'province'\n",
    "obj4"
   ]
  },
  {
   "cell_type": "markdown",
   "id": "0ccc9227",
   "metadata": {},
   "source": [
    "A Series's index can be altered in-place by assignment:"
   ]
  },
  {
   "cell_type": "code",
   "execution_count": 18,
   "id": "17ae508a",
   "metadata": {},
   "outputs": [
    {
     "data": {
      "text/plain": [
       "A    129119.0\n",
       "B     56750.0\n",
       "C     53110.0\n",
       "D         NaN\n",
       "Name: gdp, dtype: float64"
      ]
     },
     "execution_count": 18,
     "metadata": {},
     "output_type": "execute_result"
    }
   ],
   "source": [
    "obj4.index = ['A', 'B', 'C', 'D']\n",
    "obj4"
   ]
  },
  {
   "cell_type": "markdown",
   "id": "82f4452e",
   "metadata": {},
   "source": [
    "***\n",
    "\n",
    "### DataFrame\n",
    "\n",
    "A <code>DataFrame</code> represents a rectangular table of data and contains an **ordered collection of columns**, each of which can be a different value type (numeric, string, boolean, etc.).\n",
    "\n",
    "The <code>DataFrame</code> has both a row and column index; it can be thought of as a dict of <code>Series</code> all sharing the same index. Under the hood, the data is stored as one or more **two-dimensional** blocks rather than a list, dict, or some other collection of one-dimensional arrays."
   ]
  },
  {
   "cell_type": "code",
   "execution_count": 19,
   "id": "fb6e4784",
   "metadata": {},
   "outputs": [],
   "source": [
    "data = {'firm': ['Tencent', 'Tencent', 'Tencent', 'Xiaomi', 'Xiaomi', 'Xiaomi'],\n",
    "        'year': [2019, 2020, 2021, 2020, 2021, 2022],\n",
    "        'revenue': [54.5, 70.4, 86.6, 36.0, 50.8, 45.4]}\n",
    "frame = pd.DataFrame(data)"
   ]
  },
  {
   "cell_type": "markdown",
   "id": "2984bf67",
   "metadata": {},
   "source": [
    "The resulting <code>DataFrame</code> will have its index assigned automatically as with <code>Series</code>, and the columns are placed in sorted order:"
   ]
  },
  {
   "cell_type": "code",
   "execution_count": 20,
   "id": "3c997061",
   "metadata": {},
   "outputs": [
    {
     "data": {
      "text/html": [
       "<div>\n",
       "<style scoped>\n",
       "    .dataframe tbody tr th:only-of-type {\n",
       "        vertical-align: middle;\n",
       "    }\n",
       "\n",
       "    .dataframe tbody tr th {\n",
       "        vertical-align: top;\n",
       "    }\n",
       "\n",
       "    .dataframe thead th {\n",
       "        text-align: right;\n",
       "    }\n",
       "</style>\n",
       "<table border=\"1\" class=\"dataframe\">\n",
       "  <thead>\n",
       "    <tr style=\"text-align: right;\">\n",
       "      <th></th>\n",
       "      <th>firm</th>\n",
       "      <th>year</th>\n",
       "      <th>revenue</th>\n",
       "    </tr>\n",
       "  </thead>\n",
       "  <tbody>\n",
       "    <tr>\n",
       "      <th>0</th>\n",
       "      <td>Tencent</td>\n",
       "      <td>2019</td>\n",
       "      <td>54.5</td>\n",
       "    </tr>\n",
       "    <tr>\n",
       "      <th>1</th>\n",
       "      <td>Tencent</td>\n",
       "      <td>2020</td>\n",
       "      <td>70.4</td>\n",
       "    </tr>\n",
       "    <tr>\n",
       "      <th>2</th>\n",
       "      <td>Tencent</td>\n",
       "      <td>2021</td>\n",
       "      <td>86.6</td>\n",
       "    </tr>\n",
       "    <tr>\n",
       "      <th>3</th>\n",
       "      <td>Xiaomi</td>\n",
       "      <td>2020</td>\n",
       "      <td>36.0</td>\n",
       "    </tr>\n",
       "    <tr>\n",
       "      <th>4</th>\n",
       "      <td>Xiaomi</td>\n",
       "      <td>2021</td>\n",
       "      <td>50.8</td>\n",
       "    </tr>\n",
       "    <tr>\n",
       "      <th>5</th>\n",
       "      <td>Xiaomi</td>\n",
       "      <td>2022</td>\n",
       "      <td>45.4</td>\n",
       "    </tr>\n",
       "  </tbody>\n",
       "</table>\n",
       "</div>"
      ],
      "text/plain": [
       "      firm  year  revenue\n",
       "0  Tencent  2019     54.5\n",
       "1  Tencent  2020     70.4\n",
       "2  Tencent  2021     86.6\n",
       "3   Xiaomi  2020     36.0\n",
       "4   Xiaomi  2021     50.8\n",
       "5   Xiaomi  2022     45.4"
      ]
     },
     "execution_count": 20,
     "metadata": {},
     "output_type": "execute_result"
    }
   ],
   "source": [
    "frame"
   ]
  },
  {
   "cell_type": "markdown",
   "id": "0a6a3feb",
   "metadata": {},
   "source": [
    "For large DataFrames, the <code>.head()</code> method selects only the first five rows:"
   ]
  },
  {
   "cell_type": "code",
   "execution_count": 21,
   "id": "5227a583",
   "metadata": {},
   "outputs": [
    {
     "data": {
      "text/html": [
       "<div>\n",
       "<style scoped>\n",
       "    .dataframe tbody tr th:only-of-type {\n",
       "        vertical-align: middle;\n",
       "    }\n",
       "\n",
       "    .dataframe tbody tr th {\n",
       "        vertical-align: top;\n",
       "    }\n",
       "\n",
       "    .dataframe thead th {\n",
       "        text-align: right;\n",
       "    }\n",
       "</style>\n",
       "<table border=\"1\" class=\"dataframe\">\n",
       "  <thead>\n",
       "    <tr style=\"text-align: right;\">\n",
       "      <th></th>\n",
       "      <th>firm</th>\n",
       "      <th>year</th>\n",
       "      <th>revenue</th>\n",
       "    </tr>\n",
       "  </thead>\n",
       "  <tbody>\n",
       "    <tr>\n",
       "      <th>0</th>\n",
       "      <td>Tencent</td>\n",
       "      <td>2019</td>\n",
       "      <td>54.5</td>\n",
       "    </tr>\n",
       "    <tr>\n",
       "      <th>1</th>\n",
       "      <td>Tencent</td>\n",
       "      <td>2020</td>\n",
       "      <td>70.4</td>\n",
       "    </tr>\n",
       "    <tr>\n",
       "      <th>2</th>\n",
       "      <td>Tencent</td>\n",
       "      <td>2021</td>\n",
       "      <td>86.6</td>\n",
       "    </tr>\n",
       "    <tr>\n",
       "      <th>3</th>\n",
       "      <td>Xiaomi</td>\n",
       "      <td>2020</td>\n",
       "      <td>36.0</td>\n",
       "    </tr>\n",
       "    <tr>\n",
       "      <th>4</th>\n",
       "      <td>Xiaomi</td>\n",
       "      <td>2021</td>\n",
       "      <td>50.8</td>\n",
       "    </tr>\n",
       "  </tbody>\n",
       "</table>\n",
       "</div>"
      ],
      "text/plain": [
       "      firm  year  revenue\n",
       "0  Tencent  2019     54.5\n",
       "1  Tencent  2020     70.4\n",
       "2  Tencent  2021     86.6\n",
       "3   Xiaomi  2020     36.0\n",
       "4   Xiaomi  2021     50.8"
      ]
     },
     "execution_count": 21,
     "metadata": {},
     "output_type": "execute_result"
    }
   ],
   "source": [
    "frame.head()"
   ]
  },
  {
   "cell_type": "markdown",
   "id": "4b1785af",
   "metadata": {},
   "source": [
    "If you specify a sequence of columns, the <code>DataFrame</code>'s columns will be arranged in that order:"
   ]
  },
  {
   "cell_type": "code",
   "execution_count": 22,
   "id": "c93cbccf",
   "metadata": {},
   "outputs": [
    {
     "data": {
      "text/html": [
       "<div>\n",
       "<style scoped>\n",
       "    .dataframe tbody tr th:only-of-type {\n",
       "        vertical-align: middle;\n",
       "    }\n",
       "\n",
       "    .dataframe tbody tr th {\n",
       "        vertical-align: top;\n",
       "    }\n",
       "\n",
       "    .dataframe thead th {\n",
       "        text-align: right;\n",
       "    }\n",
       "</style>\n",
       "<table border=\"1\" class=\"dataframe\">\n",
       "  <thead>\n",
       "    <tr style=\"text-align: right;\">\n",
       "      <th></th>\n",
       "      <th>year</th>\n",
       "      <th>revenue</th>\n",
       "      <th>firm</th>\n",
       "    </tr>\n",
       "  </thead>\n",
       "  <tbody>\n",
       "    <tr>\n",
       "      <th>0</th>\n",
       "      <td>2019</td>\n",
       "      <td>54.5</td>\n",
       "      <td>Tencent</td>\n",
       "    </tr>\n",
       "    <tr>\n",
       "      <th>1</th>\n",
       "      <td>2020</td>\n",
       "      <td>70.4</td>\n",
       "      <td>Tencent</td>\n",
       "    </tr>\n",
       "    <tr>\n",
       "      <th>2</th>\n",
       "      <td>2021</td>\n",
       "      <td>86.6</td>\n",
       "      <td>Tencent</td>\n",
       "    </tr>\n",
       "    <tr>\n",
       "      <th>3</th>\n",
       "      <td>2020</td>\n",
       "      <td>36.0</td>\n",
       "      <td>Xiaomi</td>\n",
       "    </tr>\n",
       "    <tr>\n",
       "      <th>4</th>\n",
       "      <td>2021</td>\n",
       "      <td>50.8</td>\n",
       "      <td>Xiaomi</td>\n",
       "    </tr>\n",
       "    <tr>\n",
       "      <th>5</th>\n",
       "      <td>2022</td>\n",
       "      <td>45.4</td>\n",
       "      <td>Xiaomi</td>\n",
       "    </tr>\n",
       "  </tbody>\n",
       "</table>\n",
       "</div>"
      ],
      "text/plain": [
       "   year  revenue     firm\n",
       "0  2019     54.5  Tencent\n",
       "1  2020     70.4  Tencent\n",
       "2  2021     86.6  Tencent\n",
       "3  2020     36.0   Xiaomi\n",
       "4  2021     50.8   Xiaomi\n",
       "5  2022     45.4   Xiaomi"
      ]
     },
     "execution_count": 22,
     "metadata": {},
     "output_type": "execute_result"
    }
   ],
   "source": [
    "pd.DataFrame(data, columns=['year', 'revenue', 'firm'])"
   ]
  },
  {
   "cell_type": "markdown",
   "id": "5e398eaf",
   "metadata": {},
   "source": [
    "If you pass a column that isn't contained in the <code>dict</code>, it will appear with missing values in the result:"
   ]
  },
  {
   "cell_type": "code",
   "execution_count": 23,
   "id": "e9d2965a",
   "metadata": {},
   "outputs": [
    {
     "data": {
      "text/html": [
       "<div>\n",
       "<style scoped>\n",
       "    .dataframe tbody tr th:only-of-type {\n",
       "        vertical-align: middle;\n",
       "    }\n",
       "\n",
       "    .dataframe tbody tr th {\n",
       "        vertical-align: top;\n",
       "    }\n",
       "\n",
       "    .dataframe thead th {\n",
       "        text-align: right;\n",
       "    }\n",
       "</style>\n",
       "<table border=\"1\" class=\"dataframe\">\n",
       "  <thead>\n",
       "    <tr style=\"text-align: right;\">\n",
       "      <th></th>\n",
       "      <th>year</th>\n",
       "      <th>firm</th>\n",
       "      <th>revenue</th>\n",
       "      <th>roa</th>\n",
       "    </tr>\n",
       "  </thead>\n",
       "  <tbody>\n",
       "    <tr>\n",
       "      <th>one</th>\n",
       "      <td>2019</td>\n",
       "      <td>Tencent</td>\n",
       "      <td>54.5</td>\n",
       "      <td>NaN</td>\n",
       "    </tr>\n",
       "    <tr>\n",
       "      <th>two</th>\n",
       "      <td>2020</td>\n",
       "      <td>Tencent</td>\n",
       "      <td>70.4</td>\n",
       "      <td>NaN</td>\n",
       "    </tr>\n",
       "    <tr>\n",
       "      <th>three</th>\n",
       "      <td>2021</td>\n",
       "      <td>Tencent</td>\n",
       "      <td>86.6</td>\n",
       "      <td>NaN</td>\n",
       "    </tr>\n",
       "    <tr>\n",
       "      <th>four</th>\n",
       "      <td>2020</td>\n",
       "      <td>Xiaomi</td>\n",
       "      <td>36.0</td>\n",
       "      <td>NaN</td>\n",
       "    </tr>\n",
       "    <tr>\n",
       "      <th>five</th>\n",
       "      <td>2021</td>\n",
       "      <td>Xiaomi</td>\n",
       "      <td>50.8</td>\n",
       "      <td>NaN</td>\n",
       "    </tr>\n",
       "    <tr>\n",
       "      <th>six</th>\n",
       "      <td>2022</td>\n",
       "      <td>Xiaomi</td>\n",
       "      <td>45.4</td>\n",
       "      <td>NaN</td>\n",
       "    </tr>\n",
       "  </tbody>\n",
       "</table>\n",
       "</div>"
      ],
      "text/plain": [
       "       year     firm  revenue  roa\n",
       "one    2019  Tencent     54.5  NaN\n",
       "two    2020  Tencent     70.4  NaN\n",
       "three  2021  Tencent     86.6  NaN\n",
       "four   2020   Xiaomi     36.0  NaN\n",
       "five   2021   Xiaomi     50.8  NaN\n",
       "six    2022   Xiaomi     45.4  NaN"
      ]
     },
     "execution_count": 23,
     "metadata": {},
     "output_type": "execute_result"
    }
   ],
   "source": [
    "frame2 = pd.DataFrame(data, columns=['year', 'firm', 'revenue', 'roa'],\n",
    "                      index=['one', 'two', 'three', 'four','five', 'six'])\n",
    "frame2"
   ]
  },
  {
   "cell_type": "markdown",
   "id": "cdfc3cbe",
   "metadata": {},
   "source": [
    "A column in a <code>DataFrame</code> can be retrieved as a <code>Series</code> either by dict-like notation or by attribute:"
   ]
  },
  {
   "cell_type": "code",
   "execution_count": 24,
   "id": "ce8800da",
   "metadata": {},
   "outputs": [
    {
     "data": {
      "text/plain": [
       "one      Tencent\n",
       "two      Tencent\n",
       "three    Tencent\n",
       "four      Xiaomi\n",
       "five      Xiaomi\n",
       "six       Xiaomi\n",
       "Name: firm, dtype: object"
      ]
     },
     "execution_count": 24,
     "metadata": {},
     "output_type": "execute_result"
    }
   ],
   "source": [
    "frame2['firm']"
   ]
  },
  {
   "cell_type": "code",
   "execution_count": 25,
   "id": "4052d691",
   "metadata": {},
   "outputs": [
    {
     "data": {
      "text/plain": [
       "one      2019\n",
       "two      2020\n",
       "three    2021\n",
       "four     2020\n",
       "five     2021\n",
       "six      2022\n",
       "Name: year, dtype: int64"
      ]
     },
     "execution_count": 25,
     "metadata": {},
     "output_type": "execute_result"
    }
   ],
   "source": [
    "frame2.year"
   ]
  },
  {
   "cell_type": "markdown",
   "id": "a8ca41d4",
   "metadata": {},
   "source": [
    "Note that the returned <code>Series</code> have the **same index** as the <code>DataFrame</code>, and their name attribute has been appropriately set.\n",
    "\n",
    "**Rows** can also be retrieved by position or name with the special <code>.loc</code> attribute:"
   ]
  },
  {
   "cell_type": "code",
   "execution_count": 26,
   "id": "c58a18f7",
   "metadata": {},
   "outputs": [
    {
     "data": {
      "text/plain": [
       "year          2021\n",
       "firm       Tencent\n",
       "revenue       86.6\n",
       "roa            NaN\n",
       "Name: three, dtype: object"
      ]
     },
     "execution_count": 26,
     "metadata": {},
     "output_type": "execute_result"
    }
   ],
   "source": [
    "frame2.loc['three']"
   ]
  },
  {
   "cell_type": "markdown",
   "id": "bc5aab5c",
   "metadata": {},
   "source": [
    "Columns can be modified by assignment. For example, the empty <code>roa</code> column could be assigned a scalar value or an array of values:"
   ]
  },
  {
   "cell_type": "code",
   "execution_count": 27,
   "id": "d8ff6122",
   "metadata": {},
   "outputs": [
    {
     "data": {
      "text/html": [
       "<div>\n",
       "<style scoped>\n",
       "    .dataframe tbody tr th:only-of-type {\n",
       "        vertical-align: middle;\n",
       "    }\n",
       "\n",
       "    .dataframe tbody tr th {\n",
       "        vertical-align: top;\n",
       "    }\n",
       "\n",
       "    .dataframe thead th {\n",
       "        text-align: right;\n",
       "    }\n",
       "</style>\n",
       "<table border=\"1\" class=\"dataframe\">\n",
       "  <thead>\n",
       "    <tr style=\"text-align: right;\">\n",
       "      <th></th>\n",
       "      <th>year</th>\n",
       "      <th>firm</th>\n",
       "      <th>revenue</th>\n",
       "      <th>roa</th>\n",
       "    </tr>\n",
       "  </thead>\n",
       "  <tbody>\n",
       "    <tr>\n",
       "      <th>one</th>\n",
       "      <td>2019</td>\n",
       "      <td>Tencent</td>\n",
       "      <td>54.5</td>\n",
       "      <td>10</td>\n",
       "    </tr>\n",
       "    <tr>\n",
       "      <th>two</th>\n",
       "      <td>2020</td>\n",
       "      <td>Tencent</td>\n",
       "      <td>70.4</td>\n",
       "      <td>10</td>\n",
       "    </tr>\n",
       "    <tr>\n",
       "      <th>three</th>\n",
       "      <td>2021</td>\n",
       "      <td>Tencent</td>\n",
       "      <td>86.6</td>\n",
       "      <td>10</td>\n",
       "    </tr>\n",
       "    <tr>\n",
       "      <th>four</th>\n",
       "      <td>2020</td>\n",
       "      <td>Xiaomi</td>\n",
       "      <td>36.0</td>\n",
       "      <td>10</td>\n",
       "    </tr>\n",
       "    <tr>\n",
       "      <th>five</th>\n",
       "      <td>2021</td>\n",
       "      <td>Xiaomi</td>\n",
       "      <td>50.8</td>\n",
       "      <td>10</td>\n",
       "    </tr>\n",
       "    <tr>\n",
       "      <th>six</th>\n",
       "      <td>2022</td>\n",
       "      <td>Xiaomi</td>\n",
       "      <td>45.4</td>\n",
       "      <td>10</td>\n",
       "    </tr>\n",
       "  </tbody>\n",
       "</table>\n",
       "</div>"
      ],
      "text/plain": [
       "       year     firm  revenue  roa\n",
       "one    2019  Tencent     54.5   10\n",
       "two    2020  Tencent     70.4   10\n",
       "three  2021  Tencent     86.6   10\n",
       "four   2020   Xiaomi     36.0   10\n",
       "five   2021   Xiaomi     50.8   10\n",
       "six    2022   Xiaomi     45.4   10"
      ]
     },
     "execution_count": 27,
     "metadata": {},
     "output_type": "execute_result"
    }
   ],
   "source": [
    "frame2['roa'] = 10\n",
    "frame2"
   ]
  },
  {
   "cell_type": "code",
   "execution_count": 28,
   "id": "b1f10656",
   "metadata": {},
   "outputs": [
    {
     "data": {
      "text/html": [
       "<div>\n",
       "<style scoped>\n",
       "    .dataframe tbody tr th:only-of-type {\n",
       "        vertical-align: middle;\n",
       "    }\n",
       "\n",
       "    .dataframe tbody tr th {\n",
       "        vertical-align: top;\n",
       "    }\n",
       "\n",
       "    .dataframe thead th {\n",
       "        text-align: right;\n",
       "    }\n",
       "</style>\n",
       "<table border=\"1\" class=\"dataframe\">\n",
       "  <thead>\n",
       "    <tr style=\"text-align: right;\">\n",
       "      <th></th>\n",
       "      <th>year</th>\n",
       "      <th>firm</th>\n",
       "      <th>revenue</th>\n",
       "      <th>roa</th>\n",
       "    </tr>\n",
       "  </thead>\n",
       "  <tbody>\n",
       "    <tr>\n",
       "      <th>one</th>\n",
       "      <td>2019</td>\n",
       "      <td>Tencent</td>\n",
       "      <td>54.5</td>\n",
       "      <td>11.4</td>\n",
       "    </tr>\n",
       "    <tr>\n",
       "      <th>two</th>\n",
       "      <td>2020</td>\n",
       "      <td>Tencent</td>\n",
       "      <td>70.4</td>\n",
       "      <td>14.0</td>\n",
       "    </tr>\n",
       "    <tr>\n",
       "      <th>three</th>\n",
       "      <td>2021</td>\n",
       "      <td>Tencent</td>\n",
       "      <td>86.6</td>\n",
       "      <td>15.5</td>\n",
       "    </tr>\n",
       "    <tr>\n",
       "      <th>four</th>\n",
       "      <td>2020</td>\n",
       "      <td>Xiaomi</td>\n",
       "      <td>36.0</td>\n",
       "      <td>7.1</td>\n",
       "    </tr>\n",
       "    <tr>\n",
       "      <th>five</th>\n",
       "      <td>2021</td>\n",
       "      <td>Xiaomi</td>\n",
       "      <td>50.8</td>\n",
       "      <td>9.3</td>\n",
       "    </tr>\n",
       "    <tr>\n",
       "      <th>six</th>\n",
       "      <td>2022</td>\n",
       "      <td>Xiaomi</td>\n",
       "      <td>45.4</td>\n",
       "      <td>4.3</td>\n",
       "    </tr>\n",
       "  </tbody>\n",
       "</table>\n",
       "</div>"
      ],
      "text/plain": [
       "       year     firm  revenue   roa\n",
       "one    2019  Tencent     54.5  11.4\n",
       "two    2020  Tencent     70.4  14.0\n",
       "three  2021  Tencent     86.6  15.5\n",
       "four   2020   Xiaomi     36.0   7.1\n",
       "five   2021   Xiaomi     50.8   9.3\n",
       "six    2022   Xiaomi     45.4   4.3"
      ]
     },
     "execution_count": 28,
     "metadata": {},
     "output_type": "execute_result"
    }
   ],
   "source": [
    "frame2['roa'] = [11.4, 14.0, 15.5, 7.1, 9.3, 4.3]\n",
    "frame2"
   ]
  },
  {
   "cell_type": "markdown",
   "id": "6a0ced36",
   "metadata": {},
   "source": [
    "When you are assigning lists or arrays to a column, the value's length **must** match the length of the <code>DataFrame</code>. If you assign a <code>Series</code>, its labels will be realigned exactly to the DataFrame's index, inserting missing values in any holes:"
   ]
  },
  {
   "cell_type": "code",
   "execution_count": 29,
   "id": "e02b41f1",
   "metadata": {},
   "outputs": [
    {
     "data": {
      "text/html": [
       "<div>\n",
       "<style scoped>\n",
       "    .dataframe tbody tr th:only-of-type {\n",
       "        vertical-align: middle;\n",
       "    }\n",
       "\n",
       "    .dataframe tbody tr th {\n",
       "        vertical-align: top;\n",
       "    }\n",
       "\n",
       "    .dataframe thead th {\n",
       "        text-align: right;\n",
       "    }\n",
       "</style>\n",
       "<table border=\"1\" class=\"dataframe\">\n",
       "  <thead>\n",
       "    <tr style=\"text-align: right;\">\n",
       "      <th></th>\n",
       "      <th>year</th>\n",
       "      <th>firm</th>\n",
       "      <th>revenue</th>\n",
       "      <th>roa</th>\n",
       "    </tr>\n",
       "  </thead>\n",
       "  <tbody>\n",
       "    <tr>\n",
       "      <th>one</th>\n",
       "      <td>2019</td>\n",
       "      <td>Tencent</td>\n",
       "      <td>54.5</td>\n",
       "      <td>NaN</td>\n",
       "    </tr>\n",
       "    <tr>\n",
       "      <th>two</th>\n",
       "      <td>2020</td>\n",
       "      <td>Tencent</td>\n",
       "      <td>70.4</td>\n",
       "      <td>-1.2</td>\n",
       "    </tr>\n",
       "    <tr>\n",
       "      <th>three</th>\n",
       "      <td>2021</td>\n",
       "      <td>Tencent</td>\n",
       "      <td>86.6</td>\n",
       "      <td>NaN</td>\n",
       "    </tr>\n",
       "    <tr>\n",
       "      <th>four</th>\n",
       "      <td>2020</td>\n",
       "      <td>Xiaomi</td>\n",
       "      <td>36.0</td>\n",
       "      <td>-1.5</td>\n",
       "    </tr>\n",
       "    <tr>\n",
       "      <th>five</th>\n",
       "      <td>2021</td>\n",
       "      <td>Xiaomi</td>\n",
       "      <td>50.8</td>\n",
       "      <td>-1.7</td>\n",
       "    </tr>\n",
       "    <tr>\n",
       "      <th>six</th>\n",
       "      <td>2022</td>\n",
       "      <td>Xiaomi</td>\n",
       "      <td>45.4</td>\n",
       "      <td>NaN</td>\n",
       "    </tr>\n",
       "  </tbody>\n",
       "</table>\n",
       "</div>"
      ],
      "text/plain": [
       "       year     firm  revenue  roa\n",
       "one    2019  Tencent     54.5  NaN\n",
       "two    2020  Tencent     70.4 -1.2\n",
       "three  2021  Tencent     86.6  NaN\n",
       "four   2020   Xiaomi     36.0 -1.5\n",
       "five   2021   Xiaomi     50.8 -1.7\n",
       "six    2022   Xiaomi     45.4  NaN"
      ]
     },
     "execution_count": 29,
     "metadata": {},
     "output_type": "execute_result"
    }
   ],
   "source": [
    "val = pd.Series([-1.2, -1.5, -1.7], index=['two', 'four', 'five'])\n",
    "frame2['roa'] = val\n",
    "frame2"
   ]
  },
  {
   "cell_type": "markdown",
   "id": "3a232b0b",
   "metadata": {},
   "source": [
    "Assigning a column that doesn't exist will create a new column. The <code>del</code> keyword will delete columns as with a dict.\n",
    "\n",
    "As an example of del, I first add a new column of boolean values where the state column equals 'Tencent':"
   ]
  },
  {
   "cell_type": "code",
   "execution_count": 30,
   "id": "d7e36153",
   "metadata": {},
   "outputs": [
    {
     "data": {
      "text/html": [
       "<div>\n",
       "<style scoped>\n",
       "    .dataframe tbody tr th:only-of-type {\n",
       "        vertical-align: middle;\n",
       "    }\n",
       "\n",
       "    .dataframe tbody tr th {\n",
       "        vertical-align: top;\n",
       "    }\n",
       "\n",
       "    .dataframe thead th {\n",
       "        text-align: right;\n",
       "    }\n",
       "</style>\n",
       "<table border=\"1\" class=\"dataframe\">\n",
       "  <thead>\n",
       "    <tr style=\"text-align: right;\">\n",
       "      <th></th>\n",
       "      <th>year</th>\n",
       "      <th>firm</th>\n",
       "      <th>revenue</th>\n",
       "      <th>roa</th>\n",
       "      <th>video_game_company</th>\n",
       "    </tr>\n",
       "  </thead>\n",
       "  <tbody>\n",
       "    <tr>\n",
       "      <th>one</th>\n",
       "      <td>2019</td>\n",
       "      <td>Tencent</td>\n",
       "      <td>54.5</td>\n",
       "      <td>NaN</td>\n",
       "      <td>True</td>\n",
       "    </tr>\n",
       "    <tr>\n",
       "      <th>two</th>\n",
       "      <td>2020</td>\n",
       "      <td>Tencent</td>\n",
       "      <td>70.4</td>\n",
       "      <td>-1.2</td>\n",
       "      <td>True</td>\n",
       "    </tr>\n",
       "    <tr>\n",
       "      <th>three</th>\n",
       "      <td>2021</td>\n",
       "      <td>Tencent</td>\n",
       "      <td>86.6</td>\n",
       "      <td>NaN</td>\n",
       "      <td>True</td>\n",
       "    </tr>\n",
       "    <tr>\n",
       "      <th>four</th>\n",
       "      <td>2020</td>\n",
       "      <td>Xiaomi</td>\n",
       "      <td>36.0</td>\n",
       "      <td>-1.5</td>\n",
       "      <td>False</td>\n",
       "    </tr>\n",
       "    <tr>\n",
       "      <th>five</th>\n",
       "      <td>2021</td>\n",
       "      <td>Xiaomi</td>\n",
       "      <td>50.8</td>\n",
       "      <td>-1.7</td>\n",
       "      <td>False</td>\n",
       "    </tr>\n",
       "    <tr>\n",
       "      <th>six</th>\n",
       "      <td>2022</td>\n",
       "      <td>Xiaomi</td>\n",
       "      <td>45.4</td>\n",
       "      <td>NaN</td>\n",
       "      <td>False</td>\n",
       "    </tr>\n",
       "  </tbody>\n",
       "</table>\n",
       "</div>"
      ],
      "text/plain": [
       "       year     firm  revenue  roa  video_game_company\n",
       "one    2019  Tencent     54.5  NaN                True\n",
       "two    2020  Tencent     70.4 -1.2                True\n",
       "three  2021  Tencent     86.6  NaN                True\n",
       "four   2020   Xiaomi     36.0 -1.5               False\n",
       "five   2021   Xiaomi     50.8 -1.7               False\n",
       "six    2022   Xiaomi     45.4  NaN               False"
      ]
     },
     "execution_count": 30,
     "metadata": {},
     "output_type": "execute_result"
    }
   ],
   "source": [
    "frame2['video_game_company'] = (frame2['firm'] == 'Tencent')\n",
    "frame2"
   ]
  },
  {
   "cell_type": "code",
   "execution_count": 31,
   "id": "d76e5c0f",
   "metadata": {},
   "outputs": [
    {
     "data": {
      "text/html": [
       "<div>\n",
       "<style scoped>\n",
       "    .dataframe tbody tr th:only-of-type {\n",
       "        vertical-align: middle;\n",
       "    }\n",
       "\n",
       "    .dataframe tbody tr th {\n",
       "        vertical-align: top;\n",
       "    }\n",
       "\n",
       "    .dataframe thead th {\n",
       "        text-align: right;\n",
       "    }\n",
       "</style>\n",
       "<table border=\"1\" class=\"dataframe\">\n",
       "  <thead>\n",
       "    <tr style=\"text-align: right;\">\n",
       "      <th></th>\n",
       "      <th>year</th>\n",
       "      <th>firm</th>\n",
       "      <th>revenue</th>\n",
       "      <th>roa</th>\n",
       "    </tr>\n",
       "  </thead>\n",
       "  <tbody>\n",
       "    <tr>\n",
       "      <th>one</th>\n",
       "      <td>2019</td>\n",
       "      <td>Tencent</td>\n",
       "      <td>54.5</td>\n",
       "      <td>NaN</td>\n",
       "    </tr>\n",
       "    <tr>\n",
       "      <th>two</th>\n",
       "      <td>2020</td>\n",
       "      <td>Tencent</td>\n",
       "      <td>70.4</td>\n",
       "      <td>-1.2</td>\n",
       "    </tr>\n",
       "    <tr>\n",
       "      <th>three</th>\n",
       "      <td>2021</td>\n",
       "      <td>Tencent</td>\n",
       "      <td>86.6</td>\n",
       "      <td>NaN</td>\n",
       "    </tr>\n",
       "    <tr>\n",
       "      <th>four</th>\n",
       "      <td>2020</td>\n",
       "      <td>Xiaomi</td>\n",
       "      <td>36.0</td>\n",
       "      <td>-1.5</td>\n",
       "    </tr>\n",
       "    <tr>\n",
       "      <th>five</th>\n",
       "      <td>2021</td>\n",
       "      <td>Xiaomi</td>\n",
       "      <td>50.8</td>\n",
       "      <td>-1.7</td>\n",
       "    </tr>\n",
       "    <tr>\n",
       "      <th>six</th>\n",
       "      <td>2022</td>\n",
       "      <td>Xiaomi</td>\n",
       "      <td>45.4</td>\n",
       "      <td>NaN</td>\n",
       "    </tr>\n",
       "  </tbody>\n",
       "</table>\n",
       "</div>"
      ],
      "text/plain": [
       "       year     firm  revenue  roa\n",
       "one    2019  Tencent     54.5  NaN\n",
       "two    2020  Tencent     70.4 -1.2\n",
       "three  2021  Tencent     86.6  NaN\n",
       "four   2020   Xiaomi     36.0 -1.5\n",
       "five   2021   Xiaomi     50.8 -1.7\n",
       "six    2022   Xiaomi     45.4  NaN"
      ]
     },
     "execution_count": 31,
     "metadata": {},
     "output_type": "execute_result"
    }
   ],
   "source": [
    "del frame2['video_game_company']\n",
    "frame2"
   ]
  },
  {
   "cell_type": "markdown",
   "id": "8d8d3cc9",
   "metadata": {},
   "source": [
    "Another common form of data is a **nested dict of dicts**:"
   ]
  },
  {
   "cell_type": "code",
   "execution_count": 32,
   "id": "9e841970",
   "metadata": {},
   "outputs": [],
   "source": [
    "revenue = {'Tencent': {2020: 70.4, 2021: 86.6},\n",
    "       'Xiaomi': {2020: 36.0, 2021: 50.8, 2022: 45.4}}"
   ]
  },
  {
   "cell_type": "code",
   "execution_count": 33,
   "id": "fd3c657d",
   "metadata": {},
   "outputs": [
    {
     "data": {
      "text/html": [
       "<div>\n",
       "<style scoped>\n",
       "    .dataframe tbody tr th:only-of-type {\n",
       "        vertical-align: middle;\n",
       "    }\n",
       "\n",
       "    .dataframe tbody tr th {\n",
       "        vertical-align: top;\n",
       "    }\n",
       "\n",
       "    .dataframe thead th {\n",
       "        text-align: right;\n",
       "    }\n",
       "</style>\n",
       "<table border=\"1\" class=\"dataframe\">\n",
       "  <thead>\n",
       "    <tr style=\"text-align: right;\">\n",
       "      <th></th>\n",
       "      <th>Tencent</th>\n",
       "      <th>Xiaomi</th>\n",
       "    </tr>\n",
       "  </thead>\n",
       "  <tbody>\n",
       "    <tr>\n",
       "      <th>2020</th>\n",
       "      <td>70.4</td>\n",
       "      <td>36.0</td>\n",
       "    </tr>\n",
       "    <tr>\n",
       "      <th>2021</th>\n",
       "      <td>86.6</td>\n",
       "      <td>50.8</td>\n",
       "    </tr>\n",
       "    <tr>\n",
       "      <th>2022</th>\n",
       "      <td>NaN</td>\n",
       "      <td>45.4</td>\n",
       "    </tr>\n",
       "  </tbody>\n",
       "</table>\n",
       "</div>"
      ],
      "text/plain": [
       "      Tencent  Xiaomi\n",
       "2020     70.4    36.0\n",
       "2021     86.6    50.8\n",
       "2022      NaN    45.4"
      ]
     },
     "execution_count": 33,
     "metadata": {},
     "output_type": "execute_result"
    }
   ],
   "source": [
    "frame3 = pd.DataFrame(revenue)\n",
    "frame3"
   ]
  },
  {
   "cell_type": "markdown",
   "id": "fdd57459",
   "metadata": {},
   "source": [
    "You can **transpose** the <code>DataFrame</code> (swap rows and columns):"
   ]
  },
  {
   "cell_type": "code",
   "execution_count": 34,
   "id": "e3ca44f1",
   "metadata": {},
   "outputs": [
    {
     "data": {
      "text/html": [
       "<div>\n",
       "<style scoped>\n",
       "    .dataframe tbody tr th:only-of-type {\n",
       "        vertical-align: middle;\n",
       "    }\n",
       "\n",
       "    .dataframe tbody tr th {\n",
       "        vertical-align: top;\n",
       "    }\n",
       "\n",
       "    .dataframe thead th {\n",
       "        text-align: right;\n",
       "    }\n",
       "</style>\n",
       "<table border=\"1\" class=\"dataframe\">\n",
       "  <thead>\n",
       "    <tr style=\"text-align: right;\">\n",
       "      <th></th>\n",
       "      <th>2020</th>\n",
       "      <th>2021</th>\n",
       "      <th>2022</th>\n",
       "    </tr>\n",
       "  </thead>\n",
       "  <tbody>\n",
       "    <tr>\n",
       "      <th>Tencent</th>\n",
       "      <td>70.4</td>\n",
       "      <td>86.6</td>\n",
       "      <td>NaN</td>\n",
       "    </tr>\n",
       "    <tr>\n",
       "      <th>Xiaomi</th>\n",
       "      <td>36.0</td>\n",
       "      <td>50.8</td>\n",
       "      <td>45.4</td>\n",
       "    </tr>\n",
       "  </tbody>\n",
       "</table>\n",
       "</div>"
      ],
      "text/plain": [
       "         2020  2021  2022\n",
       "Tencent  70.4  86.6   NaN\n",
       "Xiaomi   36.0  50.8  45.4"
      ]
     },
     "execution_count": 34,
     "metadata": {},
     "output_type": "execute_result"
    }
   ],
   "source": [
    "frame3.T"
   ]
  },
  {
   "cell_type": "markdown",
   "id": "e5e11673",
   "metadata": {},
   "source": [
    "***\n",
    "\n",
    "### Essential functionalities of Series and DataFrame\n",
    "\n",
    "This section will walk you through the fundamental mechanics of interacting with the data contained in a <code>Series</code> or <code>DataFrame</code>\n",
    "\n",
    "***\n",
    "\n",
    "#### Dropping Entries from an Axis\n",
    "Dropping one or more entries from an axis is easy if you already have an index array or list without those entries. The <code>.drop()</code> method will return a **new object** with the indicated value or values deleted from an axis:"
   ]
  },
  {
   "cell_type": "code",
   "execution_count": 35,
   "id": "68382647",
   "metadata": {},
   "outputs": [
    {
     "data": {
      "text/plain": [
       "a    0\n",
       "b    1\n",
       "c    2\n",
       "d    3\n",
       "e    4\n",
       "dtype: int64"
      ]
     },
     "execution_count": 35,
     "metadata": {},
     "output_type": "execute_result"
    }
   ],
   "source": [
    "obj = pd.Series([0, 1, 2, 3, 4], index=['a', 'b', 'c', 'd', 'e'])\n",
    "obj"
   ]
  },
  {
   "cell_type": "code",
   "execution_count": 36,
   "id": "00c9ac40",
   "metadata": {},
   "outputs": [
    {
     "data": {
      "text/plain": [
       "a    0\n",
       "b    1\n",
       "d    3\n",
       "e    4\n",
       "dtype: int64"
      ]
     },
     "execution_count": 36,
     "metadata": {},
     "output_type": "execute_result"
    }
   ],
   "source": [
    "new_obj = obj.drop('c')\n",
    "new_obj"
   ]
  },
  {
   "cell_type": "code",
   "execution_count": 37,
   "id": "37571cda",
   "metadata": {},
   "outputs": [
    {
     "data": {
      "text/plain": [
       "a    0\n",
       "b    1\n",
       "e    4\n",
       "dtype: int64"
      ]
     },
     "execution_count": 37,
     "metadata": {},
     "output_type": "execute_result"
    }
   ],
   "source": [
    "obj.drop(['d', 'c'])"
   ]
  },
  {
   "cell_type": "code",
   "execution_count": 38,
   "id": "71931e4b",
   "metadata": {},
   "outputs": [
    {
     "data": {
      "text/plain": [
       "a    0\n",
       "b    1\n",
       "c    2\n",
       "d    3\n",
       "e    4\n",
       "dtype: int64"
      ]
     },
     "execution_count": 38,
     "metadata": {},
     "output_type": "execute_result"
    }
   ],
   "source": [
    "obj"
   ]
  },
  {
   "cell_type": "markdown",
   "id": "ed865d3b",
   "metadata": {},
   "source": [
    "Many functions, like <code>.drop()</code>, which modify the size or shape of a <code>Series</code> or <code>DataFrame</code>, can manipulate an object <code>in-place</code> without returning a new object:"
   ]
  },
  {
   "cell_type": "code",
   "execution_count": 39,
   "id": "3423d71d",
   "metadata": {},
   "outputs": [
    {
     "data": {
      "text/plain": [
       "a    0\n",
       "b    1\n",
       "c    2\n",
       "e    4\n",
       "dtype: int64"
      ]
     },
     "execution_count": 39,
     "metadata": {},
     "output_type": "execute_result"
    }
   ],
   "source": [
    "obj.drop('d', inplace=True)\n",
    "obj"
   ]
  },
  {
   "cell_type": "markdown",
   "id": "427c93b8",
   "metadata": {},
   "source": [
    "With <code>DataFrame</code>, index values can be deleted from either axis. To illustrate this, we first create an example <code>DataFrame</code>:"
   ]
  },
  {
   "cell_type": "code",
   "execution_count": 40,
   "id": "d6fd0c1f",
   "metadata": {},
   "outputs": [
    {
     "data": {
      "text/html": [
       "<div>\n",
       "<style scoped>\n",
       "    .dataframe tbody tr th:only-of-type {\n",
       "        vertical-align: middle;\n",
       "    }\n",
       "\n",
       "    .dataframe tbody tr th {\n",
       "        vertical-align: top;\n",
       "    }\n",
       "\n",
       "    .dataframe thead th {\n",
       "        text-align: right;\n",
       "    }\n",
       "</style>\n",
       "<table border=\"1\" class=\"dataframe\">\n",
       "  <thead>\n",
       "    <tr style=\"text-align: right;\">\n",
       "      <th></th>\n",
       "      <th>one</th>\n",
       "      <th>two</th>\n",
       "      <th>three</th>\n",
       "      <th>four</th>\n",
       "    </tr>\n",
       "  </thead>\n",
       "  <tbody>\n",
       "    <tr>\n",
       "      <th>Tencent</th>\n",
       "      <td>0</td>\n",
       "      <td>1</td>\n",
       "      <td>2</td>\n",
       "      <td>3</td>\n",
       "    </tr>\n",
       "    <tr>\n",
       "      <th>Xiaomi</th>\n",
       "      <td>4</td>\n",
       "      <td>5</td>\n",
       "      <td>6</td>\n",
       "      <td>7</td>\n",
       "    </tr>\n",
       "    <tr>\n",
       "      <th>ByteDance</th>\n",
       "      <td>8</td>\n",
       "      <td>9</td>\n",
       "      <td>10</td>\n",
       "      <td>11</td>\n",
       "    </tr>\n",
       "    <tr>\n",
       "      <th>miHoYo</th>\n",
       "      <td>12</td>\n",
       "      <td>13</td>\n",
       "      <td>14</td>\n",
       "      <td>15</td>\n",
       "    </tr>\n",
       "  </tbody>\n",
       "</table>\n",
       "</div>"
      ],
      "text/plain": [
       "           one  two  three  four\n",
       "Tencent      0    1      2     3\n",
       "Xiaomi       4    5      6     7\n",
       "ByteDance    8    9     10    11\n",
       "miHoYo      12   13     14    15"
      ]
     },
     "execution_count": 40,
     "metadata": {},
     "output_type": "execute_result"
    }
   ],
   "source": [
    "data = pd.DataFrame([[0, 1, 2, 3],[4, 5, 6, 7],[8, 9, 10, 11],[12, 13, 14, 15]],\n",
    "                    index=['Tencent', 'Xiaomi', 'ByteDance', 'miHoYo'],\n",
    "                    columns=['one', 'two', 'three', 'four'])\n",
    "data"
   ]
  },
  {
   "cell_type": "markdown",
   "id": "9f0ec110",
   "metadata": {},
   "source": [
    "Calling <code>.drop()</code> with a sequence of labels will drop values from the row labels (axis 0):"
   ]
  },
  {
   "cell_type": "code",
   "execution_count": 41,
   "id": "5e120407",
   "metadata": {},
   "outputs": [
    {
     "data": {
      "text/html": [
       "<div>\n",
       "<style scoped>\n",
       "    .dataframe tbody tr th:only-of-type {\n",
       "        vertical-align: middle;\n",
       "    }\n",
       "\n",
       "    .dataframe tbody tr th {\n",
       "        vertical-align: top;\n",
       "    }\n",
       "\n",
       "    .dataframe thead th {\n",
       "        text-align: right;\n",
       "    }\n",
       "</style>\n",
       "<table border=\"1\" class=\"dataframe\">\n",
       "  <thead>\n",
       "    <tr style=\"text-align: right;\">\n",
       "      <th></th>\n",
       "      <th>one</th>\n",
       "      <th>two</th>\n",
       "      <th>three</th>\n",
       "      <th>four</th>\n",
       "    </tr>\n",
       "  </thead>\n",
       "  <tbody>\n",
       "    <tr>\n",
       "      <th>Tencent</th>\n",
       "      <td>0</td>\n",
       "      <td>1</td>\n",
       "      <td>2</td>\n",
       "      <td>3</td>\n",
       "    </tr>\n",
       "    <tr>\n",
       "      <th>miHoYo</th>\n",
       "      <td>12</td>\n",
       "      <td>13</td>\n",
       "      <td>14</td>\n",
       "      <td>15</td>\n",
       "    </tr>\n",
       "  </tbody>\n",
       "</table>\n",
       "</div>"
      ],
      "text/plain": [
       "         one  two  three  four\n",
       "Tencent    0    1      2     3\n",
       "miHoYo    12   13     14    15"
      ]
     },
     "execution_count": 41,
     "metadata": {},
     "output_type": "execute_result"
    }
   ],
   "source": [
    "data.drop(['Xiaomi', 'ByteDance'])"
   ]
  },
  {
   "cell_type": "markdown",
   "id": "5f0dd971",
   "metadata": {},
   "source": [
    "You can drop values from the columns by passing <code>axis=1</code>:"
   ]
  },
  {
   "cell_type": "code",
   "execution_count": 42,
   "id": "5208a520",
   "metadata": {},
   "outputs": [
    {
     "data": {
      "text/html": [
       "<div>\n",
       "<style scoped>\n",
       "    .dataframe tbody tr th:only-of-type {\n",
       "        vertical-align: middle;\n",
       "    }\n",
       "\n",
       "    .dataframe tbody tr th {\n",
       "        vertical-align: top;\n",
       "    }\n",
       "\n",
       "    .dataframe thead th {\n",
       "        text-align: right;\n",
       "    }\n",
       "</style>\n",
       "<table border=\"1\" class=\"dataframe\">\n",
       "  <thead>\n",
       "    <tr style=\"text-align: right;\">\n",
       "      <th></th>\n",
       "      <th>one</th>\n",
       "      <th>three</th>\n",
       "      <th>four</th>\n",
       "    </tr>\n",
       "  </thead>\n",
       "  <tbody>\n",
       "    <tr>\n",
       "      <th>Tencent</th>\n",
       "      <td>0</td>\n",
       "      <td>2</td>\n",
       "      <td>3</td>\n",
       "    </tr>\n",
       "    <tr>\n",
       "      <th>Xiaomi</th>\n",
       "      <td>4</td>\n",
       "      <td>6</td>\n",
       "      <td>7</td>\n",
       "    </tr>\n",
       "    <tr>\n",
       "      <th>ByteDance</th>\n",
       "      <td>8</td>\n",
       "      <td>10</td>\n",
       "      <td>11</td>\n",
       "    </tr>\n",
       "    <tr>\n",
       "      <th>miHoYo</th>\n",
       "      <td>12</td>\n",
       "      <td>14</td>\n",
       "      <td>15</td>\n",
       "    </tr>\n",
       "  </tbody>\n",
       "</table>\n",
       "</div>"
      ],
      "text/plain": [
       "           one  three  four\n",
       "Tencent      0      2     3\n",
       "Xiaomi       4      6     7\n",
       "ByteDance    8     10    11\n",
       "miHoYo      12     14    15"
      ]
     },
     "execution_count": 42,
     "metadata": {},
     "output_type": "execute_result"
    }
   ],
   "source": [
    "data.drop('two', axis=1)"
   ]
  },
  {
   "cell_type": "markdown",
   "id": "d556b786",
   "metadata": {},
   "source": [
    "***\n",
    "\n",
    "#### Selection and Filtering\n",
    "\n",
    "Indexing into a <code>DataFrame</code> is for retrieving one or more columns either with a single value or sequence:"
   ]
  },
  {
   "cell_type": "code",
   "execution_count": 43,
   "id": "986a5b12",
   "metadata": {},
   "outputs": [
    {
     "data": {
      "text/html": [
       "<div>\n",
       "<style scoped>\n",
       "    .dataframe tbody tr th:only-of-type {\n",
       "        vertical-align: middle;\n",
       "    }\n",
       "\n",
       "    .dataframe tbody tr th {\n",
       "        vertical-align: top;\n",
       "    }\n",
       "\n",
       "    .dataframe thead th {\n",
       "        text-align: right;\n",
       "    }\n",
       "</style>\n",
       "<table border=\"1\" class=\"dataframe\">\n",
       "  <thead>\n",
       "    <tr style=\"text-align: right;\">\n",
       "      <th></th>\n",
       "      <th>one</th>\n",
       "      <th>two</th>\n",
       "      <th>three</th>\n",
       "      <th>four</th>\n",
       "    </tr>\n",
       "  </thead>\n",
       "  <tbody>\n",
       "    <tr>\n",
       "      <th>Tencent</th>\n",
       "      <td>0</td>\n",
       "      <td>1</td>\n",
       "      <td>2</td>\n",
       "      <td>3</td>\n",
       "    </tr>\n",
       "    <tr>\n",
       "      <th>Xiaomi</th>\n",
       "      <td>4</td>\n",
       "      <td>5</td>\n",
       "      <td>6</td>\n",
       "      <td>7</td>\n",
       "    </tr>\n",
       "    <tr>\n",
       "      <th>ByteDance</th>\n",
       "      <td>8</td>\n",
       "      <td>9</td>\n",
       "      <td>10</td>\n",
       "      <td>11</td>\n",
       "    </tr>\n",
       "    <tr>\n",
       "      <th>miHoYo</th>\n",
       "      <td>12</td>\n",
       "      <td>13</td>\n",
       "      <td>14</td>\n",
       "      <td>15</td>\n",
       "    </tr>\n",
       "  </tbody>\n",
       "</table>\n",
       "</div>"
      ],
      "text/plain": [
       "           one  two  three  four\n",
       "Tencent      0    1      2     3\n",
       "Xiaomi       4    5      6     7\n",
       "ByteDance    8    9     10    11\n",
       "miHoYo      12   13     14    15"
      ]
     },
     "execution_count": 43,
     "metadata": {},
     "output_type": "execute_result"
    }
   ],
   "source": [
    "data"
   ]
  },
  {
   "cell_type": "code",
   "execution_count": 44,
   "id": "2412f074",
   "metadata": {},
   "outputs": [
    {
     "data": {
      "text/plain": [
       "Tencent       1\n",
       "Xiaomi        5\n",
       "ByteDance     9\n",
       "miHoYo       13\n",
       "Name: two, dtype: int64"
      ]
     },
     "execution_count": 44,
     "metadata": {},
     "output_type": "execute_result"
    }
   ],
   "source": [
    "data['two']"
   ]
  },
  {
   "cell_type": "code",
   "execution_count": 45,
   "id": "4d163b31",
   "metadata": {},
   "outputs": [
    {
     "data": {
      "text/html": [
       "<div>\n",
       "<style scoped>\n",
       "    .dataframe tbody tr th:only-of-type {\n",
       "        vertical-align: middle;\n",
       "    }\n",
       "\n",
       "    .dataframe tbody tr th {\n",
       "        vertical-align: top;\n",
       "    }\n",
       "\n",
       "    .dataframe thead th {\n",
       "        text-align: right;\n",
       "    }\n",
       "</style>\n",
       "<table border=\"1\" class=\"dataframe\">\n",
       "  <thead>\n",
       "    <tr style=\"text-align: right;\">\n",
       "      <th></th>\n",
       "      <th>three</th>\n",
       "      <th>one</th>\n",
       "    </tr>\n",
       "  </thead>\n",
       "  <tbody>\n",
       "    <tr>\n",
       "      <th>Tencent</th>\n",
       "      <td>2</td>\n",
       "      <td>0</td>\n",
       "    </tr>\n",
       "    <tr>\n",
       "      <th>Xiaomi</th>\n",
       "      <td>6</td>\n",
       "      <td>4</td>\n",
       "    </tr>\n",
       "    <tr>\n",
       "      <th>ByteDance</th>\n",
       "      <td>10</td>\n",
       "      <td>8</td>\n",
       "    </tr>\n",
       "    <tr>\n",
       "      <th>miHoYo</th>\n",
       "      <td>14</td>\n",
       "      <td>12</td>\n",
       "    </tr>\n",
       "  </tbody>\n",
       "</table>\n",
       "</div>"
      ],
      "text/plain": [
       "           three  one\n",
       "Tencent        2    0\n",
       "Xiaomi         6    4\n",
       "ByteDance     10    8\n",
       "miHoYo        14   12"
      ]
     },
     "execution_count": 45,
     "metadata": {},
     "output_type": "execute_result"
    }
   ],
   "source": [
    "data[['three', 'one']]"
   ]
  },
  {
   "cell_type": "markdown",
   "id": "e9b02819",
   "metadata": {},
   "source": [
    "Indexing like this has a few special cases. First, **slicing** or selecting data with a boolean array:"
   ]
  },
  {
   "cell_type": "code",
   "execution_count": 46,
   "id": "2d64196a",
   "metadata": {},
   "outputs": [
    {
     "data": {
      "text/html": [
       "<div>\n",
       "<style scoped>\n",
       "    .dataframe tbody tr th:only-of-type {\n",
       "        vertical-align: middle;\n",
       "    }\n",
       "\n",
       "    .dataframe tbody tr th {\n",
       "        vertical-align: top;\n",
       "    }\n",
       "\n",
       "    .dataframe thead th {\n",
       "        text-align: right;\n",
       "    }\n",
       "</style>\n",
       "<table border=\"1\" class=\"dataframe\">\n",
       "  <thead>\n",
       "    <tr style=\"text-align: right;\">\n",
       "      <th></th>\n",
       "      <th>one</th>\n",
       "      <th>two</th>\n",
       "      <th>three</th>\n",
       "      <th>four</th>\n",
       "    </tr>\n",
       "  </thead>\n",
       "  <tbody>\n",
       "    <tr>\n",
       "      <th>Tencent</th>\n",
       "      <td>0</td>\n",
       "      <td>1</td>\n",
       "      <td>2</td>\n",
       "      <td>3</td>\n",
       "    </tr>\n",
       "    <tr>\n",
       "      <th>Xiaomi</th>\n",
       "      <td>4</td>\n",
       "      <td>5</td>\n",
       "      <td>6</td>\n",
       "      <td>7</td>\n",
       "    </tr>\n",
       "  </tbody>\n",
       "</table>\n",
       "</div>"
      ],
      "text/plain": [
       "         one  two  three  four\n",
       "Tencent    0    1      2     3\n",
       "Xiaomi     4    5      6     7"
      ]
     },
     "execution_count": 46,
     "metadata": {},
     "output_type": "execute_result"
    }
   ],
   "source": [
    "data[:2]"
   ]
  },
  {
   "cell_type": "code",
   "execution_count": 47,
   "id": "098f6d2e",
   "metadata": {},
   "outputs": [
    {
     "data": {
      "text/html": [
       "<div>\n",
       "<style scoped>\n",
       "    .dataframe tbody tr th:only-of-type {\n",
       "        vertical-align: middle;\n",
       "    }\n",
       "\n",
       "    .dataframe tbody tr th {\n",
       "        vertical-align: top;\n",
       "    }\n",
       "\n",
       "    .dataframe thead th {\n",
       "        text-align: right;\n",
       "    }\n",
       "</style>\n",
       "<table border=\"1\" class=\"dataframe\">\n",
       "  <thead>\n",
       "    <tr style=\"text-align: right;\">\n",
       "      <th></th>\n",
       "      <th>one</th>\n",
       "      <th>two</th>\n",
       "      <th>three</th>\n",
       "      <th>four</th>\n",
       "    </tr>\n",
       "  </thead>\n",
       "  <tbody>\n",
       "    <tr>\n",
       "      <th>ByteDance</th>\n",
       "      <td>8</td>\n",
       "      <td>9</td>\n",
       "      <td>10</td>\n",
       "      <td>11</td>\n",
       "    </tr>\n",
       "    <tr>\n",
       "      <th>miHoYo</th>\n",
       "      <td>12</td>\n",
       "      <td>13</td>\n",
       "      <td>14</td>\n",
       "      <td>15</td>\n",
       "    </tr>\n",
       "  </tbody>\n",
       "</table>\n",
       "</div>"
      ],
      "text/plain": [
       "           one  two  three  four\n",
       "ByteDance    8    9     10    11\n",
       "miHoYo      12   13     14    15"
      ]
     },
     "execution_count": 47,
     "metadata": {},
     "output_type": "execute_result"
    }
   ],
   "source": [
    "data[data['one'] > 7]"
   ]
  },
  {
   "cell_type": "markdown",
   "id": "126e74ff",
   "metadata": {},
   "source": [
    "Passing a list to the <code>[ ]</code> operator selects columns.\n",
    "\n",
    "Another use case is in indexing with a **boolean** <code>DataFrame</code>, such as one produced by a scalar comparison:"
   ]
  },
  {
   "cell_type": "code",
   "execution_count": 50,
   "id": "e6acb970",
   "metadata": {},
   "outputs": [
    {
     "data": {
      "text/html": [
       "<div>\n",
       "<style scoped>\n",
       "    .dataframe tbody tr th:only-of-type {\n",
       "        vertical-align: middle;\n",
       "    }\n",
       "\n",
       "    .dataframe tbody tr th {\n",
       "        vertical-align: top;\n",
       "    }\n",
       "\n",
       "    .dataframe thead th {\n",
       "        text-align: right;\n",
       "    }\n",
       "</style>\n",
       "<table border=\"1\" class=\"dataframe\">\n",
       "  <thead>\n",
       "    <tr style=\"text-align: right;\">\n",
       "      <th></th>\n",
       "      <th>one</th>\n",
       "      <th>two</th>\n",
       "      <th>three</th>\n",
       "      <th>four</th>\n",
       "    </tr>\n",
       "  </thead>\n",
       "  <tbody>\n",
       "    <tr>\n",
       "      <th>Tencent</th>\n",
       "      <td>0</td>\n",
       "      <td>0</td>\n",
       "      <td>0</td>\n",
       "      <td>0</td>\n",
       "    </tr>\n",
       "    <tr>\n",
       "      <th>Xiaomi</th>\n",
       "      <td>0</td>\n",
       "      <td>0</td>\n",
       "      <td>0</td>\n",
       "      <td>0</td>\n",
       "    </tr>\n",
       "    <tr>\n",
       "      <th>ByteDance</th>\n",
       "      <td>0</td>\n",
       "      <td>0</td>\n",
       "      <td>10</td>\n",
       "      <td>11</td>\n",
       "    </tr>\n",
       "    <tr>\n",
       "      <th>miHoYo</th>\n",
       "      <td>12</td>\n",
       "      <td>13</td>\n",
       "      <td>14</td>\n",
       "      <td>15</td>\n",
       "    </tr>\n",
       "  </tbody>\n",
       "</table>\n",
       "</div>"
      ],
      "text/plain": [
       "           one  two  three  four\n",
       "Tencent      0    0      0     0\n",
       "Xiaomi       0    0      0     0\n",
       "ByteDance    0    0     10    11\n",
       "miHoYo      12   13     14    15"
      ]
     },
     "execution_count": 50,
     "metadata": {},
     "output_type": "execute_result"
    }
   ],
   "source": [
    "data[data < 10] = 0\n",
    "data"
   ]
  },
  {
   "cell_type": "markdown",
   "id": "99ba84e9",
   "metadata": {},
   "source": [
    "For DataFrame label-indexing on the rows, I introduce the special indexing operators <code>.loc</code> and <code>iloc</code>. They enable you to select a subset of the rows and columns from a <code>DataFrame</code> using either axis labels (loc) or integers (iloc).\n",
    "\n",
    "As a preliminary example, let's select a single row and multiple columns by label:"
   ]
  },
  {
   "cell_type": "code",
   "execution_count": 51,
   "id": "9b4541a3",
   "metadata": {},
   "outputs": [
    {
     "data": {
      "text/html": [
       "<div>\n",
       "<style scoped>\n",
       "    .dataframe tbody tr th:only-of-type {\n",
       "        vertical-align: middle;\n",
       "    }\n",
       "\n",
       "    .dataframe tbody tr th {\n",
       "        vertical-align: top;\n",
       "    }\n",
       "\n",
       "    .dataframe thead th {\n",
       "        text-align: right;\n",
       "    }\n",
       "</style>\n",
       "<table border=\"1\" class=\"dataframe\">\n",
       "  <thead>\n",
       "    <tr style=\"text-align: right;\">\n",
       "      <th></th>\n",
       "      <th>one</th>\n",
       "      <th>two</th>\n",
       "      <th>three</th>\n",
       "      <th>four</th>\n",
       "    </tr>\n",
       "  </thead>\n",
       "  <tbody>\n",
       "    <tr>\n",
       "      <th>Tencent</th>\n",
       "      <td>0</td>\n",
       "      <td>1</td>\n",
       "      <td>2</td>\n",
       "      <td>3</td>\n",
       "    </tr>\n",
       "    <tr>\n",
       "      <th>Xiaomi</th>\n",
       "      <td>4</td>\n",
       "      <td>5</td>\n",
       "      <td>6</td>\n",
       "      <td>7</td>\n",
       "    </tr>\n",
       "    <tr>\n",
       "      <th>ByteDance</th>\n",
       "      <td>8</td>\n",
       "      <td>9</td>\n",
       "      <td>10</td>\n",
       "      <td>11</td>\n",
       "    </tr>\n",
       "    <tr>\n",
       "      <th>miHoYo</th>\n",
       "      <td>12</td>\n",
       "      <td>13</td>\n",
       "      <td>14</td>\n",
       "      <td>15</td>\n",
       "    </tr>\n",
       "  </tbody>\n",
       "</table>\n",
       "</div>"
      ],
      "text/plain": [
       "           one  two  three  four\n",
       "Tencent      0    1      2     3\n",
       "Xiaomi       4    5      6     7\n",
       "ByteDance    8    9     10    11\n",
       "miHoYo      12   13     14    15"
      ]
     },
     "execution_count": 51,
     "metadata": {},
     "output_type": "execute_result"
    }
   ],
   "source": [
    "data = pd.DataFrame([[0, 1, 2, 3],[4, 5, 6, 7],[8, 9, 10, 11],[12, 13, 14, 15]],\n",
    "                    index=['Tencent', 'Xiaomi', 'ByteDance', 'miHoYo'],\n",
    "                    columns=['one', 'two', 'three', 'four'])\n",
    "data"
   ]
  },
  {
   "cell_type": "code",
   "execution_count": 52,
   "id": "3b729877",
   "metadata": {},
   "outputs": [
    {
     "data": {
      "text/plain": [
       "two       9\n",
       "three    10\n",
       "Name: ByteDance, dtype: int64"
      ]
     },
     "execution_count": 52,
     "metadata": {},
     "output_type": "execute_result"
    }
   ],
   "source": [
    "data.loc['ByteDance', ['two', 'three']]"
   ]
  },
  {
   "cell_type": "markdown",
   "id": "e4d6527a",
   "metadata": {},
   "source": [
    "We’ll then perform some similar selections with integers using <code>.iloc</code>:"
   ]
  },
  {
   "cell_type": "code",
   "execution_count": 53,
   "id": "9a3dbad2",
   "metadata": {},
   "outputs": [
    {
     "data": {
      "text/plain": [
       "four    11\n",
       "one      8\n",
       "two      9\n",
       "Name: ByteDance, dtype: int64"
      ]
     },
     "execution_count": 53,
     "metadata": {},
     "output_type": "execute_result"
    }
   ],
   "source": [
    "data.iloc[2, [3, 0, 1]]"
   ]
  },
  {
   "cell_type": "markdown",
   "id": "62217aa5",
   "metadata": {},
   "source": [
    "Both indexing functions work with slices in addition to single labels or lists of labels:"
   ]
  },
  {
   "cell_type": "code",
   "execution_count": 54,
   "id": "aa90ca76",
   "metadata": {},
   "outputs": [
    {
     "data": {
      "text/plain": [
       "one      4\n",
       "two      5\n",
       "three    6\n",
       "four     7\n",
       "Name: Xiaomi, dtype: int64"
      ]
     },
     "execution_count": 54,
     "metadata": {},
     "output_type": "execute_result"
    }
   ],
   "source": [
    "data.loc['Xiaomi']"
   ]
  },
  {
   "cell_type": "code",
   "execution_count": 55,
   "id": "2d995861",
   "metadata": {},
   "outputs": [
    {
     "data": {
      "text/html": [
       "<div>\n",
       "<style scoped>\n",
       "    .dataframe tbody tr th:only-of-type {\n",
       "        vertical-align: middle;\n",
       "    }\n",
       "\n",
       "    .dataframe tbody tr th {\n",
       "        vertical-align: top;\n",
       "    }\n",
       "\n",
       "    .dataframe thead th {\n",
       "        text-align: right;\n",
       "    }\n",
       "</style>\n",
       "<table border=\"1\" class=\"dataframe\">\n",
       "  <thead>\n",
       "    <tr style=\"text-align: right;\">\n",
       "      <th></th>\n",
       "      <th>one</th>\n",
       "      <th>two</th>\n",
       "      <th>three</th>\n",
       "    </tr>\n",
       "  </thead>\n",
       "  <tbody>\n",
       "    <tr>\n",
       "      <th>Xiaomi</th>\n",
       "      <td>4</td>\n",
       "      <td>5</td>\n",
       "      <td>6</td>\n",
       "    </tr>\n",
       "    <tr>\n",
       "      <th>ByteDance</th>\n",
       "      <td>8</td>\n",
       "      <td>9</td>\n",
       "      <td>10</td>\n",
       "    </tr>\n",
       "    <tr>\n",
       "      <th>miHoYo</th>\n",
       "      <td>12</td>\n",
       "      <td>13</td>\n",
       "      <td>14</td>\n",
       "    </tr>\n",
       "  </tbody>\n",
       "</table>\n",
       "</div>"
      ],
      "text/plain": [
       "           one  two  three\n",
       "Xiaomi       4    5      6\n",
       "ByteDance    8    9     10\n",
       "miHoYo      12   13     14"
      ]
     },
     "execution_count": 55,
     "metadata": {},
     "output_type": "execute_result"
    }
   ],
   "source": [
    "data.iloc[:, :3][data['three'] > 2]"
   ]
  },
  {
   "cell_type": "markdown",
   "id": "f4c44a75",
   "metadata": {},
   "source": [
    "***\n",
    "\n",
    "#### Arithmetic and Data Alignment\n",
    "\n",
    "An important pandas feature for some applications is the behavior of arithmetic between objects with different indexes. When you are adding together objects, if any index pairs are not the same, the respective index in the result will be the **union** of the index pairs."
   ]
  },
  {
   "cell_type": "code",
   "execution_count": 56,
   "id": "30868258",
   "metadata": {},
   "outputs": [
    {
     "data": {
      "text/plain": [
       "a    7.3\n",
       "c   -2.5\n",
       "d    3.4\n",
       "e    1.5\n",
       "dtype: float64"
      ]
     },
     "execution_count": 56,
     "metadata": {},
     "output_type": "execute_result"
    }
   ],
   "source": [
    "s1 = pd.Series([7.3, -2.5, 3.4, 1.5], index=['a', 'c', 'd', 'e'])\n",
    "s1"
   ]
  },
  {
   "cell_type": "code",
   "execution_count": 57,
   "id": "b062f35a",
   "metadata": {},
   "outputs": [
    {
     "data": {
      "text/plain": [
       "a   -2.1\n",
       "c    3.6\n",
       "e   -1.5\n",
       "f    4.0\n",
       "g    3.1\n",
       "dtype: float64"
      ]
     },
     "execution_count": 57,
     "metadata": {},
     "output_type": "execute_result"
    }
   ],
   "source": [
    "s2 = pd.Series([-2.1, 3.6, -1.5, 4, 3.1], index=['a', 'c', 'e', 'f', 'g'])\n",
    "s2"
   ]
  },
  {
   "cell_type": "code",
   "execution_count": 58,
   "id": "5a070e10",
   "metadata": {},
   "outputs": [
    {
     "data": {
      "text/plain": [
       "a    5.2\n",
       "c    1.1\n",
       "d    NaN\n",
       "e    0.0\n",
       "f    NaN\n",
       "g    NaN\n",
       "dtype: float64"
      ]
     },
     "execution_count": 58,
     "metadata": {},
     "output_type": "execute_result"
    }
   ],
   "source": [
    "s1 + s2"
   ]
  },
  {
   "cell_type": "markdown",
   "id": "fb31177e",
   "metadata": {},
   "source": [
    "The internal data alignment introduces **missing values** in the label locations that don't overlap."
   ]
  },
  {
   "cell_type": "code",
   "execution_count": 59,
   "id": "804edc9d",
   "metadata": {},
   "outputs": [
    {
     "data": {
      "text/html": [
       "<div>\n",
       "<style scoped>\n",
       "    .dataframe tbody tr th:only-of-type {\n",
       "        vertical-align: middle;\n",
       "    }\n",
       "\n",
       "    .dataframe tbody tr th {\n",
       "        vertical-align: top;\n",
       "    }\n",
       "\n",
       "    .dataframe thead th {\n",
       "        text-align: right;\n",
       "    }\n",
       "</style>\n",
       "<table border=\"1\" class=\"dataframe\">\n",
       "  <thead>\n",
       "    <tr style=\"text-align: right;\">\n",
       "      <th></th>\n",
       "      <th>b</th>\n",
       "      <th>c</th>\n",
       "      <th>d</th>\n",
       "    </tr>\n",
       "  </thead>\n",
       "  <tbody>\n",
       "    <tr>\n",
       "      <th>Tencent</th>\n",
       "      <td>0</td>\n",
       "      <td>1</td>\n",
       "      <td>2</td>\n",
       "    </tr>\n",
       "    <tr>\n",
       "      <th>Xiaomi</th>\n",
       "      <td>3</td>\n",
       "      <td>4</td>\n",
       "      <td>5</td>\n",
       "    </tr>\n",
       "    <tr>\n",
       "      <th>ByteDance</th>\n",
       "      <td>6</td>\n",
       "      <td>7</td>\n",
       "      <td>8</td>\n",
       "    </tr>\n",
       "  </tbody>\n",
       "</table>\n",
       "</div>"
      ],
      "text/plain": [
       "           b  c  d\n",
       "Tencent    0  1  2\n",
       "Xiaomi     3  4  5\n",
       "ByteDance  6  7  8"
      ]
     },
     "execution_count": 59,
     "metadata": {},
     "output_type": "execute_result"
    }
   ],
   "source": [
    "df1 = pd.DataFrame([[0, 1, 2], [3, 4, 5], [6, 7, 8]],\n",
    "                   columns=list('bcd'),\n",
    "                   index=['Tencent', 'Xiaomi', 'ByteDance'])\n",
    "df1"
   ]
  },
  {
   "cell_type": "code",
   "execution_count": 60,
   "id": "f49a010c",
   "metadata": {},
   "outputs": [
    {
     "data": {
      "text/html": [
       "<div>\n",
       "<style scoped>\n",
       "    .dataframe tbody tr th:only-of-type {\n",
       "        vertical-align: middle;\n",
       "    }\n",
       "\n",
       "    .dataframe tbody tr th {\n",
       "        vertical-align: top;\n",
       "    }\n",
       "\n",
       "    .dataframe thead th {\n",
       "        text-align: right;\n",
       "    }\n",
       "</style>\n",
       "<table border=\"1\" class=\"dataframe\">\n",
       "  <thead>\n",
       "    <tr style=\"text-align: right;\">\n",
       "      <th></th>\n",
       "      <th>b</th>\n",
       "      <th>d</th>\n",
       "      <th>e</th>\n",
       "    </tr>\n",
       "  </thead>\n",
       "  <tbody>\n",
       "    <tr>\n",
       "      <th>miHoYo</th>\n",
       "      <td>0</td>\n",
       "      <td>1</td>\n",
       "      <td>2</td>\n",
       "    </tr>\n",
       "    <tr>\n",
       "      <th>ByteDance</th>\n",
       "      <td>3</td>\n",
       "      <td>4</td>\n",
       "      <td>5</td>\n",
       "    </tr>\n",
       "    <tr>\n",
       "      <th>Tencent</th>\n",
       "      <td>6</td>\n",
       "      <td>7</td>\n",
       "      <td>8</td>\n",
       "    </tr>\n",
       "    <tr>\n",
       "      <th>Alibaba</th>\n",
       "      <td>9</td>\n",
       "      <td>10</td>\n",
       "      <td>11</td>\n",
       "    </tr>\n",
       "  </tbody>\n",
       "</table>\n",
       "</div>"
      ],
      "text/plain": [
       "           b   d   e\n",
       "miHoYo     0   1   2\n",
       "ByteDance  3   4   5\n",
       "Tencent    6   7   8\n",
       "Alibaba    9  10  11"
      ]
     },
     "execution_count": 60,
     "metadata": {},
     "output_type": "execute_result"
    }
   ],
   "source": [
    "df2 = pd.DataFrame([[0, 1, 2], [3, 4, 5], [6, 7, 8], [9, 10, 11]],\n",
    "                   columns=list('bde'),\n",
    "                   index=['miHoYo', 'ByteDance', 'Tencent', 'Alibaba'])\n",
    "df2"
   ]
  },
  {
   "cell_type": "markdown",
   "id": "052a13a1",
   "metadata": {},
   "source": [
    "Adding these together returns a <code>DataFrame</code> whose index and columns are the **unions** of the ones in each <code>DataFrame</code>:"
   ]
  },
  {
   "cell_type": "code",
   "execution_count": 61,
   "id": "e09ab63a",
   "metadata": {},
   "outputs": [
    {
     "data": {
      "text/html": [
       "<div>\n",
       "<style scoped>\n",
       "    .dataframe tbody tr th:only-of-type {\n",
       "        vertical-align: middle;\n",
       "    }\n",
       "\n",
       "    .dataframe tbody tr th {\n",
       "        vertical-align: top;\n",
       "    }\n",
       "\n",
       "    .dataframe thead th {\n",
       "        text-align: right;\n",
       "    }\n",
       "</style>\n",
       "<table border=\"1\" class=\"dataframe\">\n",
       "  <thead>\n",
       "    <tr style=\"text-align: right;\">\n",
       "      <th></th>\n",
       "      <th>b</th>\n",
       "      <th>c</th>\n",
       "      <th>d</th>\n",
       "      <th>e</th>\n",
       "    </tr>\n",
       "  </thead>\n",
       "  <tbody>\n",
       "    <tr>\n",
       "      <th>Alibaba</th>\n",
       "      <td>NaN</td>\n",
       "      <td>NaN</td>\n",
       "      <td>NaN</td>\n",
       "      <td>NaN</td>\n",
       "    </tr>\n",
       "    <tr>\n",
       "      <th>ByteDance</th>\n",
       "      <td>9.0</td>\n",
       "      <td>NaN</td>\n",
       "      <td>12.0</td>\n",
       "      <td>NaN</td>\n",
       "    </tr>\n",
       "    <tr>\n",
       "      <th>Tencent</th>\n",
       "      <td>6.0</td>\n",
       "      <td>NaN</td>\n",
       "      <td>9.0</td>\n",
       "      <td>NaN</td>\n",
       "    </tr>\n",
       "    <tr>\n",
       "      <th>Xiaomi</th>\n",
       "      <td>NaN</td>\n",
       "      <td>NaN</td>\n",
       "      <td>NaN</td>\n",
       "      <td>NaN</td>\n",
       "    </tr>\n",
       "    <tr>\n",
       "      <th>miHoYo</th>\n",
       "      <td>NaN</td>\n",
       "      <td>NaN</td>\n",
       "      <td>NaN</td>\n",
       "      <td>NaN</td>\n",
       "    </tr>\n",
       "  </tbody>\n",
       "</table>\n",
       "</div>"
      ],
      "text/plain": [
       "             b   c     d   e\n",
       "Alibaba    NaN NaN   NaN NaN\n",
       "ByteDance  9.0 NaN  12.0 NaN\n",
       "Tencent    6.0 NaN   9.0 NaN\n",
       "Xiaomi     NaN NaN   NaN NaN\n",
       "miHoYo     NaN NaN   NaN NaN"
      ]
     },
     "execution_count": 61,
     "metadata": {},
     "output_type": "execute_result"
    }
   ],
   "source": [
    "df1 + df2"
   ]
  },
  {
   "cell_type": "markdown",
   "id": "dae86749",
   "metadata": {},
   "source": [
    "Since the 'c' and 'e' columns are not found in both <code>DataFrame</code> objects, they appear as all missing in the result."
   ]
  },
  {
   "cell_type": "markdown",
   "id": "c1fe0b9c",
   "metadata": {},
   "source": [
    "***\n",
    "\n",
    "#### Sorting and Ranking\n",
    "\n",
    "Sorting a dataset by some criterion is another important built-in operation. To sort by row or column index, use the <code>.sort_index()</code> method, which returns a new, sorted object:"
   ]
  },
  {
   "cell_type": "code",
   "execution_count": 62,
   "id": "75c9e1da",
   "metadata": {},
   "outputs": [
    {
     "data": {
      "text/plain": [
       "d    0\n",
       "a    1\n",
       "b    2\n",
       "c    3\n",
       "dtype: int64"
      ]
     },
     "execution_count": 62,
     "metadata": {},
     "output_type": "execute_result"
    }
   ],
   "source": [
    "obj = pd.Series(range(4), index=['d', 'a', 'b', 'c'])\n",
    "obj"
   ]
  },
  {
   "cell_type": "code",
   "execution_count": 63,
   "id": "7fe42f44",
   "metadata": {},
   "outputs": [
    {
     "data": {
      "text/plain": [
       "a    1\n",
       "b    2\n",
       "c    3\n",
       "d    0\n",
       "dtype: int64"
      ]
     },
     "execution_count": 63,
     "metadata": {},
     "output_type": "execute_result"
    }
   ],
   "source": [
    "obj.sort_index()"
   ]
  },
  {
   "cell_type": "markdown",
   "id": "af66188e",
   "metadata": {},
   "source": [
    "With a <code>DataFrame</code>, you can sort by index on either axis:"
   ]
  },
  {
   "cell_type": "code",
   "execution_count": 64,
   "id": "4e015a1e",
   "metadata": {},
   "outputs": [
    {
     "data": {
      "text/html": [
       "<div>\n",
       "<style scoped>\n",
       "    .dataframe tbody tr th:only-of-type {\n",
       "        vertical-align: middle;\n",
       "    }\n",
       "\n",
       "    .dataframe tbody tr th {\n",
       "        vertical-align: top;\n",
       "    }\n",
       "\n",
       "    .dataframe thead th {\n",
       "        text-align: right;\n",
       "    }\n",
       "</style>\n",
       "<table border=\"1\" class=\"dataframe\">\n",
       "  <thead>\n",
       "    <tr style=\"text-align: right;\">\n",
       "      <th></th>\n",
       "      <th>d</th>\n",
       "      <th>a</th>\n",
       "      <th>b</th>\n",
       "      <th>c</th>\n",
       "    </tr>\n",
       "  </thead>\n",
       "  <tbody>\n",
       "    <tr>\n",
       "      <th>three</th>\n",
       "      <td>8</td>\n",
       "      <td>9</td>\n",
       "      <td>10</td>\n",
       "      <td>11</td>\n",
       "    </tr>\n",
       "    <tr>\n",
       "      <th>one</th>\n",
       "      <td>0</td>\n",
       "      <td>1</td>\n",
       "      <td>2</td>\n",
       "      <td>3</td>\n",
       "    </tr>\n",
       "    <tr>\n",
       "      <th>two</th>\n",
       "      <td>4</td>\n",
       "      <td>5</td>\n",
       "      <td>6</td>\n",
       "      <td>7</td>\n",
       "    </tr>\n",
       "  </tbody>\n",
       "</table>\n",
       "</div>"
      ],
      "text/plain": [
       "       d  a   b   c\n",
       "three  8  9  10  11\n",
       "one    0  1   2   3\n",
       "two    4  5   6   7"
      ]
     },
     "execution_count": 64,
     "metadata": {},
     "output_type": "execute_result"
    }
   ],
   "source": [
    "frame = pd.DataFrame([[8, 9, 10, 11], [0, 1, 2, 3], [4, 5, 6, 7]],\n",
    "                    index=['three','one','two'],\n",
    "                    columns=['d', 'a', 'b', 'c'])\n",
    "frame"
   ]
  },
  {
   "cell_type": "code",
   "execution_count": 65,
   "id": "d297dcb0",
   "metadata": {},
   "outputs": [
    {
     "data": {
      "text/html": [
       "<div>\n",
       "<style scoped>\n",
       "    .dataframe tbody tr th:only-of-type {\n",
       "        vertical-align: middle;\n",
       "    }\n",
       "\n",
       "    .dataframe tbody tr th {\n",
       "        vertical-align: top;\n",
       "    }\n",
       "\n",
       "    .dataframe thead th {\n",
       "        text-align: right;\n",
       "    }\n",
       "</style>\n",
       "<table border=\"1\" class=\"dataframe\">\n",
       "  <thead>\n",
       "    <tr style=\"text-align: right;\">\n",
       "      <th></th>\n",
       "      <th>d</th>\n",
       "      <th>a</th>\n",
       "      <th>b</th>\n",
       "      <th>c</th>\n",
       "    </tr>\n",
       "  </thead>\n",
       "  <tbody>\n",
       "    <tr>\n",
       "      <th>one</th>\n",
       "      <td>0</td>\n",
       "      <td>1</td>\n",
       "      <td>2</td>\n",
       "      <td>3</td>\n",
       "    </tr>\n",
       "    <tr>\n",
       "      <th>three</th>\n",
       "      <td>8</td>\n",
       "      <td>9</td>\n",
       "      <td>10</td>\n",
       "      <td>11</td>\n",
       "    </tr>\n",
       "    <tr>\n",
       "      <th>two</th>\n",
       "      <td>4</td>\n",
       "      <td>5</td>\n",
       "      <td>6</td>\n",
       "      <td>7</td>\n",
       "    </tr>\n",
       "  </tbody>\n",
       "</table>\n",
       "</div>"
      ],
      "text/plain": [
       "       d  a   b   c\n",
       "one    0  1   2   3\n",
       "three  8  9  10  11\n",
       "two    4  5   6   7"
      ]
     },
     "execution_count": 65,
     "metadata": {},
     "output_type": "execute_result"
    }
   ],
   "source": [
    "frame.sort_index()"
   ]
  },
  {
   "cell_type": "code",
   "execution_count": 66,
   "id": "c2383a34",
   "metadata": {},
   "outputs": [
    {
     "data": {
      "text/html": [
       "<div>\n",
       "<style scoped>\n",
       "    .dataframe tbody tr th:only-of-type {\n",
       "        vertical-align: middle;\n",
       "    }\n",
       "\n",
       "    .dataframe tbody tr th {\n",
       "        vertical-align: top;\n",
       "    }\n",
       "\n",
       "    .dataframe thead th {\n",
       "        text-align: right;\n",
       "    }\n",
       "</style>\n",
       "<table border=\"1\" class=\"dataframe\">\n",
       "  <thead>\n",
       "    <tr style=\"text-align: right;\">\n",
       "      <th></th>\n",
       "      <th>a</th>\n",
       "      <th>b</th>\n",
       "      <th>c</th>\n",
       "      <th>d</th>\n",
       "    </tr>\n",
       "  </thead>\n",
       "  <tbody>\n",
       "    <tr>\n",
       "      <th>three</th>\n",
       "      <td>9</td>\n",
       "      <td>10</td>\n",
       "      <td>11</td>\n",
       "      <td>8</td>\n",
       "    </tr>\n",
       "    <tr>\n",
       "      <th>one</th>\n",
       "      <td>1</td>\n",
       "      <td>2</td>\n",
       "      <td>3</td>\n",
       "      <td>0</td>\n",
       "    </tr>\n",
       "    <tr>\n",
       "      <th>two</th>\n",
       "      <td>5</td>\n",
       "      <td>6</td>\n",
       "      <td>7</td>\n",
       "      <td>4</td>\n",
       "    </tr>\n",
       "  </tbody>\n",
       "</table>\n",
       "</div>"
      ],
      "text/plain": [
       "       a   b   c  d\n",
       "three  9  10  11  8\n",
       "one    1   2   3  0\n",
       "two    5   6   7  4"
      ]
     },
     "execution_count": 66,
     "metadata": {},
     "output_type": "execute_result"
    }
   ],
   "source": [
    "frame.sort_index(axis=1)"
   ]
  },
  {
   "cell_type": "markdown",
   "id": "a9360a5c",
   "metadata": {},
   "source": [
    "The data is sorted in **ascending** order by default, but can be sorted in descending order, too:"
   ]
  },
  {
   "cell_type": "code",
   "execution_count": 67,
   "id": "40148bcc",
   "metadata": {},
   "outputs": [
    {
     "data": {
      "text/html": [
       "<div>\n",
       "<style scoped>\n",
       "    .dataframe tbody tr th:only-of-type {\n",
       "        vertical-align: middle;\n",
       "    }\n",
       "\n",
       "    .dataframe tbody tr th {\n",
       "        vertical-align: top;\n",
       "    }\n",
       "\n",
       "    .dataframe thead th {\n",
       "        text-align: right;\n",
       "    }\n",
       "</style>\n",
       "<table border=\"1\" class=\"dataframe\">\n",
       "  <thead>\n",
       "    <tr style=\"text-align: right;\">\n",
       "      <th></th>\n",
       "      <th>d</th>\n",
       "      <th>c</th>\n",
       "      <th>b</th>\n",
       "      <th>a</th>\n",
       "    </tr>\n",
       "  </thead>\n",
       "  <tbody>\n",
       "    <tr>\n",
       "      <th>three</th>\n",
       "      <td>8</td>\n",
       "      <td>11</td>\n",
       "      <td>10</td>\n",
       "      <td>9</td>\n",
       "    </tr>\n",
       "    <tr>\n",
       "      <th>one</th>\n",
       "      <td>0</td>\n",
       "      <td>3</td>\n",
       "      <td>2</td>\n",
       "      <td>1</td>\n",
       "    </tr>\n",
       "    <tr>\n",
       "      <th>two</th>\n",
       "      <td>4</td>\n",
       "      <td>7</td>\n",
       "      <td>6</td>\n",
       "      <td>5</td>\n",
       "    </tr>\n",
       "  </tbody>\n",
       "</table>\n",
       "</div>"
      ],
      "text/plain": [
       "       d   c   b  a\n",
       "three  8  11  10  9\n",
       "one    0   3   2  1\n",
       "two    4   7   6  5"
      ]
     },
     "execution_count": 67,
     "metadata": {},
     "output_type": "execute_result"
    }
   ],
   "source": [
    "frame.sort_index(axis=1, ascending=False)"
   ]
  },
  {
   "cell_type": "markdown",
   "id": "e90d5c33",
   "metadata": {},
   "source": [
    "When sorting a <code>DataFrame</code>, you can use the data in one or more columns as the sort keys. To do so, pass one or more column names to the by option of <code>.sort_values()</code>:"
   ]
  },
  {
   "cell_type": "code",
   "execution_count": 68,
   "id": "f23c83ca",
   "metadata": {},
   "outputs": [
    {
     "data": {
      "text/html": [
       "<div>\n",
       "<style scoped>\n",
       "    .dataframe tbody tr th:only-of-type {\n",
       "        vertical-align: middle;\n",
       "    }\n",
       "\n",
       "    .dataframe tbody tr th {\n",
       "        vertical-align: top;\n",
       "    }\n",
       "\n",
       "    .dataframe thead th {\n",
       "        text-align: right;\n",
       "    }\n",
       "</style>\n",
       "<table border=\"1\" class=\"dataframe\">\n",
       "  <thead>\n",
       "    <tr style=\"text-align: right;\">\n",
       "      <th></th>\n",
       "      <th>b</th>\n",
       "      <th>a</th>\n",
       "    </tr>\n",
       "  </thead>\n",
       "  <tbody>\n",
       "    <tr>\n",
       "      <th>0</th>\n",
       "      <td>4</td>\n",
       "      <td>0</td>\n",
       "    </tr>\n",
       "    <tr>\n",
       "      <th>1</th>\n",
       "      <td>7</td>\n",
       "      <td>1</td>\n",
       "    </tr>\n",
       "    <tr>\n",
       "      <th>2</th>\n",
       "      <td>-3</td>\n",
       "      <td>0</td>\n",
       "    </tr>\n",
       "    <tr>\n",
       "      <th>3</th>\n",
       "      <td>2</td>\n",
       "      <td>1</td>\n",
       "    </tr>\n",
       "  </tbody>\n",
       "</table>\n",
       "</div>"
      ],
      "text/plain": [
       "   b  a\n",
       "0  4  0\n",
       "1  7  1\n",
       "2 -3  0\n",
       "3  2  1"
      ]
     },
     "execution_count": 68,
     "metadata": {},
     "output_type": "execute_result"
    }
   ],
   "source": [
    "frame = pd.DataFrame({'b': [4, 7, -3, 2], 'a': [0, 1, 0, 1]})\n",
    "frame"
   ]
  },
  {
   "cell_type": "code",
   "execution_count": 69,
   "id": "28f4a68c",
   "metadata": {},
   "outputs": [
    {
     "data": {
      "text/html": [
       "<div>\n",
       "<style scoped>\n",
       "    .dataframe tbody tr th:only-of-type {\n",
       "        vertical-align: middle;\n",
       "    }\n",
       "\n",
       "    .dataframe tbody tr th {\n",
       "        vertical-align: top;\n",
       "    }\n",
       "\n",
       "    .dataframe thead th {\n",
       "        text-align: right;\n",
       "    }\n",
       "</style>\n",
       "<table border=\"1\" class=\"dataframe\">\n",
       "  <thead>\n",
       "    <tr style=\"text-align: right;\">\n",
       "      <th></th>\n",
       "      <th>b</th>\n",
       "      <th>a</th>\n",
       "    </tr>\n",
       "  </thead>\n",
       "  <tbody>\n",
       "    <tr>\n",
       "      <th>2</th>\n",
       "      <td>-3</td>\n",
       "      <td>0</td>\n",
       "    </tr>\n",
       "    <tr>\n",
       "      <th>3</th>\n",
       "      <td>2</td>\n",
       "      <td>1</td>\n",
       "    </tr>\n",
       "    <tr>\n",
       "      <th>0</th>\n",
       "      <td>4</td>\n",
       "      <td>0</td>\n",
       "    </tr>\n",
       "    <tr>\n",
       "      <th>1</th>\n",
       "      <td>7</td>\n",
       "      <td>1</td>\n",
       "    </tr>\n",
       "  </tbody>\n",
       "</table>\n",
       "</div>"
      ],
      "text/plain": [
       "   b  a\n",
       "2 -3  0\n",
       "3  2  1\n",
       "0  4  0\n",
       "1  7  1"
      ]
     },
     "execution_count": 69,
     "metadata": {},
     "output_type": "execute_result"
    }
   ],
   "source": [
    "frame.sort_values(by='b')"
   ]
  },
  {
   "cell_type": "code",
   "execution_count": 70,
   "id": "62767f0b",
   "metadata": {},
   "outputs": [
    {
     "data": {
      "text/html": [
       "<div>\n",
       "<style scoped>\n",
       "    .dataframe tbody tr th:only-of-type {\n",
       "        vertical-align: middle;\n",
       "    }\n",
       "\n",
       "    .dataframe tbody tr th {\n",
       "        vertical-align: top;\n",
       "    }\n",
       "\n",
       "    .dataframe thead th {\n",
       "        text-align: right;\n",
       "    }\n",
       "</style>\n",
       "<table border=\"1\" class=\"dataframe\">\n",
       "  <thead>\n",
       "    <tr style=\"text-align: right;\">\n",
       "      <th></th>\n",
       "      <th>b</th>\n",
       "      <th>a</th>\n",
       "    </tr>\n",
       "  </thead>\n",
       "  <tbody>\n",
       "    <tr>\n",
       "      <th>2</th>\n",
       "      <td>-3</td>\n",
       "      <td>0</td>\n",
       "    </tr>\n",
       "    <tr>\n",
       "      <th>0</th>\n",
       "      <td>4</td>\n",
       "      <td>0</td>\n",
       "    </tr>\n",
       "    <tr>\n",
       "      <th>3</th>\n",
       "      <td>2</td>\n",
       "      <td>1</td>\n",
       "    </tr>\n",
       "    <tr>\n",
       "      <th>1</th>\n",
       "      <td>7</td>\n",
       "      <td>1</td>\n",
       "    </tr>\n",
       "  </tbody>\n",
       "</table>\n",
       "</div>"
      ],
      "text/plain": [
       "   b  a\n",
       "2 -3  0\n",
       "0  4  0\n",
       "3  2  1\n",
       "1  7  1"
      ]
     },
     "execution_count": 70,
     "metadata": {},
     "output_type": "execute_result"
    }
   ],
   "source": [
    "frame.sort_values(by=['a', 'b'])"
   ]
  },
  {
   "cell_type": "markdown",
   "id": "8fe629a0",
   "metadata": {},
   "source": [
    "***\n",
    "\n",
    "#### Axis Indexes with Duplicate Labels\n",
    "\n",
    "Up until now all of the examples we've looked at have had **unique** axis labels (index values). While many pandas functions require that the labels be unique, it's not mandatory. Let's consider a small <code>Series</code> with duplicate indices:"
   ]
  },
  {
   "cell_type": "code",
   "execution_count": 71,
   "id": "3bb77bb7",
   "metadata": {},
   "outputs": [
    {
     "data": {
      "text/plain": [
       "a    0\n",
       "a    1\n",
       "b    2\n",
       "b    3\n",
       "c    4\n",
       "dtype: int64"
      ]
     },
     "execution_count": 71,
     "metadata": {},
     "output_type": "execute_result"
    }
   ],
   "source": [
    "obj = pd.Series(range(5), index=['a', 'a', 'b', 'b', 'c'])\n",
    "obj"
   ]
  },
  {
   "cell_type": "markdown",
   "id": "a0fb45ab",
   "metadata": {},
   "source": [
    "Data selection is one of the main things that behaves differently with duplicates. Indexing a label with multiple entries returns a <code>Series</code>, while single entries return a scalar value:"
   ]
  },
  {
   "cell_type": "code",
   "execution_count": 72,
   "id": "a1de5a6b",
   "metadata": {},
   "outputs": [
    {
     "data": {
      "text/plain": [
       "a    0\n",
       "a    1\n",
       "dtype: int64"
      ]
     },
     "execution_count": 72,
     "metadata": {},
     "output_type": "execute_result"
    }
   ],
   "source": [
    "obj['a']"
   ]
  },
  {
   "cell_type": "code",
   "execution_count": 73,
   "id": "54b9f4e8",
   "metadata": {},
   "outputs": [
    {
     "data": {
      "text/plain": [
       "4"
      ]
     },
     "execution_count": 73,
     "metadata": {},
     "output_type": "execute_result"
    }
   ],
   "source": [
    "obj['c']"
   ]
  }
 ],
 "metadata": {
  "kernelspec": {
   "display_name": "Python 3 (ipykernel)",
   "language": "python",
   "name": "python3"
  },
  "language_info": {
   "codemirror_mode": {
    "name": "ipython",
    "version": 3
   },
   "file_extension": ".py",
   "mimetype": "text/x-python",
   "name": "python",
   "nbconvert_exporter": "python",
   "pygments_lexer": "ipython3",
   "version": "3.11.4"
  }
 },
 "nbformat": 4,
 "nbformat_minor": 5
}
